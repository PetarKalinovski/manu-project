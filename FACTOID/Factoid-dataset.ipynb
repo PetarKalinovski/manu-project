{
 "cells": [
  {
   "metadata": {
    "ExecuteTime": {
     "end_time": "2024-12-05T12:41:26.546903Z",
     "start_time": "2024-12-05T12:41:24.616277Z"
    }
   },
   "cell_type": "code",
   "source": [
    "#from datetime import datetime\n",
    "\n",
    "import pandas as pd\n",
    "\n",
    "#from FACTOID.get_subreddits import most_active_subreddits"
   ],
   "id": "d878b04a9dd291cf",
   "outputs": [],
   "execution_count": 1
  },
  {
   "metadata": {},
   "cell_type": "markdown",
   "source": "# Loading graph from files",
   "id": "7e22594fd34710da"
  },
  {
   "metadata": {
    "ExecuteTime": {
     "end_time": "2024-12-04T20:03:19.254876Z",
     "start_time": "2024-12-04T20:03:18.676511Z"
    }
   },
   "cell_type": "code",
   "source": "df=pd.read_csv('reddit_dataset.csv')",
   "id": "73a59816716e978e",
   "outputs": [
    {
     "ename": "FileNotFoundError",
     "evalue": "[Errno 2] No such file or directory: 'reddit_dataset.csv'",
     "output_type": "error",
     "traceback": [
      "\u001B[1;31m---------------------------------------------------------------------------\u001B[0m",
      "\u001B[1;31mFileNotFoundError\u001B[0m                         Traceback (most recent call last)",
      "Cell \u001B[1;32mIn[3], line 1\u001B[0m\n\u001B[1;32m----> 1\u001B[0m df\u001B[38;5;241m=\u001B[39m\u001B[43mpd\u001B[49m\u001B[38;5;241;43m.\u001B[39;49m\u001B[43mread_csv\u001B[49m\u001B[43m(\u001B[49m\u001B[38;5;124;43m'\u001B[39;49m\u001B[38;5;124;43mreddit_dataset.csv\u001B[39;49m\u001B[38;5;124;43m'\u001B[39;49m\u001B[43m)\u001B[49m\n",
      "File \u001B[1;32m~\\PycharmProjects\\Manu_factoid_GCN\\.venv\\lib\\site-packages\\pandas\\io\\parsers\\readers.py:1026\u001B[0m, in \u001B[0;36mread_csv\u001B[1;34m(filepath_or_buffer, sep, delimiter, header, names, index_col, usecols, dtype, engine, converters, true_values, false_values, skipinitialspace, skiprows, skipfooter, nrows, na_values, keep_default_na, na_filter, verbose, skip_blank_lines, parse_dates, infer_datetime_format, keep_date_col, date_parser, date_format, dayfirst, cache_dates, iterator, chunksize, compression, thousands, decimal, lineterminator, quotechar, quoting, doublequote, escapechar, comment, encoding, encoding_errors, dialect, on_bad_lines, delim_whitespace, low_memory, memory_map, float_precision, storage_options, dtype_backend)\u001B[0m\n\u001B[0;32m   1013\u001B[0m kwds_defaults \u001B[38;5;241m=\u001B[39m _refine_defaults_read(\n\u001B[0;32m   1014\u001B[0m     dialect,\n\u001B[0;32m   1015\u001B[0m     delimiter,\n\u001B[1;32m   (...)\u001B[0m\n\u001B[0;32m   1022\u001B[0m     dtype_backend\u001B[38;5;241m=\u001B[39mdtype_backend,\n\u001B[0;32m   1023\u001B[0m )\n\u001B[0;32m   1024\u001B[0m kwds\u001B[38;5;241m.\u001B[39mupdate(kwds_defaults)\n\u001B[1;32m-> 1026\u001B[0m \u001B[38;5;28;01mreturn\u001B[39;00m \u001B[43m_read\u001B[49m\u001B[43m(\u001B[49m\u001B[43mfilepath_or_buffer\u001B[49m\u001B[43m,\u001B[49m\u001B[43m \u001B[49m\u001B[43mkwds\u001B[49m\u001B[43m)\u001B[49m\n",
      "File \u001B[1;32m~\\PycharmProjects\\Manu_factoid_GCN\\.venv\\lib\\site-packages\\pandas\\io\\parsers\\readers.py:620\u001B[0m, in \u001B[0;36m_read\u001B[1;34m(filepath_or_buffer, kwds)\u001B[0m\n\u001B[0;32m    617\u001B[0m _validate_names(kwds\u001B[38;5;241m.\u001B[39mget(\u001B[38;5;124m\"\u001B[39m\u001B[38;5;124mnames\u001B[39m\u001B[38;5;124m\"\u001B[39m, \u001B[38;5;28;01mNone\u001B[39;00m))\n\u001B[0;32m    619\u001B[0m \u001B[38;5;66;03m# Create the parser.\u001B[39;00m\n\u001B[1;32m--> 620\u001B[0m parser \u001B[38;5;241m=\u001B[39m TextFileReader(filepath_or_buffer, \u001B[38;5;241m*\u001B[39m\u001B[38;5;241m*\u001B[39mkwds)\n\u001B[0;32m    622\u001B[0m \u001B[38;5;28;01mif\u001B[39;00m chunksize \u001B[38;5;129;01mor\u001B[39;00m iterator:\n\u001B[0;32m    623\u001B[0m     \u001B[38;5;28;01mreturn\u001B[39;00m parser\n",
      "File \u001B[1;32m~\\PycharmProjects\\Manu_factoid_GCN\\.venv\\lib\\site-packages\\pandas\\io\\parsers\\readers.py:1620\u001B[0m, in \u001B[0;36mTextFileReader.__init__\u001B[1;34m(self, f, engine, **kwds)\u001B[0m\n\u001B[0;32m   1617\u001B[0m     \u001B[38;5;28mself\u001B[39m\u001B[38;5;241m.\u001B[39moptions[\u001B[38;5;124m\"\u001B[39m\u001B[38;5;124mhas_index_names\u001B[39m\u001B[38;5;124m\"\u001B[39m] \u001B[38;5;241m=\u001B[39m kwds[\u001B[38;5;124m\"\u001B[39m\u001B[38;5;124mhas_index_names\u001B[39m\u001B[38;5;124m\"\u001B[39m]\n\u001B[0;32m   1619\u001B[0m \u001B[38;5;28mself\u001B[39m\u001B[38;5;241m.\u001B[39mhandles: IOHandles \u001B[38;5;241m|\u001B[39m \u001B[38;5;28;01mNone\u001B[39;00m \u001B[38;5;241m=\u001B[39m \u001B[38;5;28;01mNone\u001B[39;00m\n\u001B[1;32m-> 1620\u001B[0m \u001B[38;5;28mself\u001B[39m\u001B[38;5;241m.\u001B[39m_engine \u001B[38;5;241m=\u001B[39m \u001B[38;5;28;43mself\u001B[39;49m\u001B[38;5;241;43m.\u001B[39;49m\u001B[43m_make_engine\u001B[49m\u001B[43m(\u001B[49m\u001B[43mf\u001B[49m\u001B[43m,\u001B[49m\u001B[43m \u001B[49m\u001B[38;5;28;43mself\u001B[39;49m\u001B[38;5;241;43m.\u001B[39;49m\u001B[43mengine\u001B[49m\u001B[43m)\u001B[49m\n",
      "File \u001B[1;32m~\\PycharmProjects\\Manu_factoid_GCN\\.venv\\lib\\site-packages\\pandas\\io\\parsers\\readers.py:1880\u001B[0m, in \u001B[0;36mTextFileReader._make_engine\u001B[1;34m(self, f, engine)\u001B[0m\n\u001B[0;32m   1878\u001B[0m     \u001B[38;5;28;01mif\u001B[39;00m \u001B[38;5;124m\"\u001B[39m\u001B[38;5;124mb\u001B[39m\u001B[38;5;124m\"\u001B[39m \u001B[38;5;129;01mnot\u001B[39;00m \u001B[38;5;129;01min\u001B[39;00m mode:\n\u001B[0;32m   1879\u001B[0m         mode \u001B[38;5;241m+\u001B[39m\u001B[38;5;241m=\u001B[39m \u001B[38;5;124m\"\u001B[39m\u001B[38;5;124mb\u001B[39m\u001B[38;5;124m\"\u001B[39m\n\u001B[1;32m-> 1880\u001B[0m \u001B[38;5;28mself\u001B[39m\u001B[38;5;241m.\u001B[39mhandles \u001B[38;5;241m=\u001B[39m \u001B[43mget_handle\u001B[49m\u001B[43m(\u001B[49m\n\u001B[0;32m   1881\u001B[0m \u001B[43m    \u001B[49m\u001B[43mf\u001B[49m\u001B[43m,\u001B[49m\n\u001B[0;32m   1882\u001B[0m \u001B[43m    \u001B[49m\u001B[43mmode\u001B[49m\u001B[43m,\u001B[49m\n\u001B[0;32m   1883\u001B[0m \u001B[43m    \u001B[49m\u001B[43mencoding\u001B[49m\u001B[38;5;241;43m=\u001B[39;49m\u001B[38;5;28;43mself\u001B[39;49m\u001B[38;5;241;43m.\u001B[39;49m\u001B[43moptions\u001B[49m\u001B[38;5;241;43m.\u001B[39;49m\u001B[43mget\u001B[49m\u001B[43m(\u001B[49m\u001B[38;5;124;43m\"\u001B[39;49m\u001B[38;5;124;43mencoding\u001B[39;49m\u001B[38;5;124;43m\"\u001B[39;49m\u001B[43m,\u001B[49m\u001B[43m \u001B[49m\u001B[38;5;28;43;01mNone\u001B[39;49;00m\u001B[43m)\u001B[49m\u001B[43m,\u001B[49m\n\u001B[0;32m   1884\u001B[0m \u001B[43m    \u001B[49m\u001B[43mcompression\u001B[49m\u001B[38;5;241;43m=\u001B[39;49m\u001B[38;5;28;43mself\u001B[39;49m\u001B[38;5;241;43m.\u001B[39;49m\u001B[43moptions\u001B[49m\u001B[38;5;241;43m.\u001B[39;49m\u001B[43mget\u001B[49m\u001B[43m(\u001B[49m\u001B[38;5;124;43m\"\u001B[39;49m\u001B[38;5;124;43mcompression\u001B[39;49m\u001B[38;5;124;43m\"\u001B[39;49m\u001B[43m,\u001B[49m\u001B[43m \u001B[49m\u001B[38;5;28;43;01mNone\u001B[39;49;00m\u001B[43m)\u001B[49m\u001B[43m,\u001B[49m\n\u001B[0;32m   1885\u001B[0m \u001B[43m    \u001B[49m\u001B[43mmemory_map\u001B[49m\u001B[38;5;241;43m=\u001B[39;49m\u001B[38;5;28;43mself\u001B[39;49m\u001B[38;5;241;43m.\u001B[39;49m\u001B[43moptions\u001B[49m\u001B[38;5;241;43m.\u001B[39;49m\u001B[43mget\u001B[49m\u001B[43m(\u001B[49m\u001B[38;5;124;43m\"\u001B[39;49m\u001B[38;5;124;43mmemory_map\u001B[39;49m\u001B[38;5;124;43m\"\u001B[39;49m\u001B[43m,\u001B[49m\u001B[43m \u001B[49m\u001B[38;5;28;43;01mFalse\u001B[39;49;00m\u001B[43m)\u001B[49m\u001B[43m,\u001B[49m\n\u001B[0;32m   1886\u001B[0m \u001B[43m    \u001B[49m\u001B[43mis_text\u001B[49m\u001B[38;5;241;43m=\u001B[39;49m\u001B[43mis_text\u001B[49m\u001B[43m,\u001B[49m\n\u001B[0;32m   1887\u001B[0m \u001B[43m    \u001B[49m\u001B[43merrors\u001B[49m\u001B[38;5;241;43m=\u001B[39;49m\u001B[38;5;28;43mself\u001B[39;49m\u001B[38;5;241;43m.\u001B[39;49m\u001B[43moptions\u001B[49m\u001B[38;5;241;43m.\u001B[39;49m\u001B[43mget\u001B[49m\u001B[43m(\u001B[49m\u001B[38;5;124;43m\"\u001B[39;49m\u001B[38;5;124;43mencoding_errors\u001B[39;49m\u001B[38;5;124;43m\"\u001B[39;49m\u001B[43m,\u001B[49m\u001B[43m \u001B[49m\u001B[38;5;124;43m\"\u001B[39;49m\u001B[38;5;124;43mstrict\u001B[39;49m\u001B[38;5;124;43m\"\u001B[39;49m\u001B[43m)\u001B[49m\u001B[43m,\u001B[49m\n\u001B[0;32m   1888\u001B[0m \u001B[43m    \u001B[49m\u001B[43mstorage_options\u001B[49m\u001B[38;5;241;43m=\u001B[39;49m\u001B[38;5;28;43mself\u001B[39;49m\u001B[38;5;241;43m.\u001B[39;49m\u001B[43moptions\u001B[49m\u001B[38;5;241;43m.\u001B[39;49m\u001B[43mget\u001B[49m\u001B[43m(\u001B[49m\u001B[38;5;124;43m\"\u001B[39;49m\u001B[38;5;124;43mstorage_options\u001B[39;49m\u001B[38;5;124;43m\"\u001B[39;49m\u001B[43m,\u001B[49m\u001B[43m \u001B[49m\u001B[38;5;28;43;01mNone\u001B[39;49;00m\u001B[43m)\u001B[49m\u001B[43m,\u001B[49m\n\u001B[0;32m   1889\u001B[0m \u001B[43m\u001B[49m\u001B[43m)\u001B[49m\n\u001B[0;32m   1890\u001B[0m \u001B[38;5;28;01massert\u001B[39;00m \u001B[38;5;28mself\u001B[39m\u001B[38;5;241m.\u001B[39mhandles \u001B[38;5;129;01mis\u001B[39;00m \u001B[38;5;129;01mnot\u001B[39;00m \u001B[38;5;28;01mNone\u001B[39;00m\n\u001B[0;32m   1891\u001B[0m f \u001B[38;5;241m=\u001B[39m \u001B[38;5;28mself\u001B[39m\u001B[38;5;241m.\u001B[39mhandles\u001B[38;5;241m.\u001B[39mhandle\n",
      "File \u001B[1;32m~\\PycharmProjects\\Manu_factoid_GCN\\.venv\\lib\\site-packages\\pandas\\io\\common.py:873\u001B[0m, in \u001B[0;36mget_handle\u001B[1;34m(path_or_buf, mode, encoding, compression, memory_map, is_text, errors, storage_options)\u001B[0m\n\u001B[0;32m    868\u001B[0m \u001B[38;5;28;01melif\u001B[39;00m \u001B[38;5;28misinstance\u001B[39m(handle, \u001B[38;5;28mstr\u001B[39m):\n\u001B[0;32m    869\u001B[0m     \u001B[38;5;66;03m# Check whether the filename is to be opened in binary mode.\u001B[39;00m\n\u001B[0;32m    870\u001B[0m     \u001B[38;5;66;03m# Binary mode does not support 'encoding' and 'newline'.\u001B[39;00m\n\u001B[0;32m    871\u001B[0m     \u001B[38;5;28;01mif\u001B[39;00m ioargs\u001B[38;5;241m.\u001B[39mencoding \u001B[38;5;129;01mand\u001B[39;00m \u001B[38;5;124m\"\u001B[39m\u001B[38;5;124mb\u001B[39m\u001B[38;5;124m\"\u001B[39m \u001B[38;5;129;01mnot\u001B[39;00m \u001B[38;5;129;01min\u001B[39;00m ioargs\u001B[38;5;241m.\u001B[39mmode:\n\u001B[0;32m    872\u001B[0m         \u001B[38;5;66;03m# Encoding\u001B[39;00m\n\u001B[1;32m--> 873\u001B[0m         handle \u001B[38;5;241m=\u001B[39m \u001B[38;5;28;43mopen\u001B[39;49m\u001B[43m(\u001B[49m\n\u001B[0;32m    874\u001B[0m \u001B[43m            \u001B[49m\u001B[43mhandle\u001B[49m\u001B[43m,\u001B[49m\n\u001B[0;32m    875\u001B[0m \u001B[43m            \u001B[49m\u001B[43mioargs\u001B[49m\u001B[38;5;241;43m.\u001B[39;49m\u001B[43mmode\u001B[49m\u001B[43m,\u001B[49m\n\u001B[0;32m    876\u001B[0m \u001B[43m            \u001B[49m\u001B[43mencoding\u001B[49m\u001B[38;5;241;43m=\u001B[39;49m\u001B[43mioargs\u001B[49m\u001B[38;5;241;43m.\u001B[39;49m\u001B[43mencoding\u001B[49m\u001B[43m,\u001B[49m\n\u001B[0;32m    877\u001B[0m \u001B[43m            \u001B[49m\u001B[43merrors\u001B[49m\u001B[38;5;241;43m=\u001B[39;49m\u001B[43merrors\u001B[49m\u001B[43m,\u001B[49m\n\u001B[0;32m    878\u001B[0m \u001B[43m            \u001B[49m\u001B[43mnewline\u001B[49m\u001B[38;5;241;43m=\u001B[39;49m\u001B[38;5;124;43m\"\u001B[39;49m\u001B[38;5;124;43m\"\u001B[39;49m\u001B[43m,\u001B[49m\n\u001B[0;32m    879\u001B[0m \u001B[43m        \u001B[49m\u001B[43m)\u001B[49m\n\u001B[0;32m    880\u001B[0m     \u001B[38;5;28;01melse\u001B[39;00m:\n\u001B[0;32m    881\u001B[0m         \u001B[38;5;66;03m# Binary mode\u001B[39;00m\n\u001B[0;32m    882\u001B[0m         handle \u001B[38;5;241m=\u001B[39m \u001B[38;5;28mopen\u001B[39m(handle, ioargs\u001B[38;5;241m.\u001B[39mmode)\n",
      "\u001B[1;31mFileNotFoundError\u001B[0m: [Errno 2] No such file or directory: 'reddit_dataset.csv'"
     ]
    }
   ],
   "execution_count": 3
  },
  {
   "metadata": {
    "ExecuteTime": {
     "end_time": "2024-12-04T20:03:19.258112600Z",
     "start_time": "2024-12-04T11:06:04.182593Z"
    }
   },
   "cell_type": "code",
   "source": "df.head()",
   "id": "dabebf79dea4e315",
   "outputs": [
    {
     "data": {
      "text/plain": [
       "   Unnamed: 0                                            user_id  \\\n",
       "0           0  ddf62a134f09db7a6056190d594bd41ff2f4cf04faf5db...   \n",
       "1           1  a78d753b103a2a4310ad6d1d49723733a6e4744bbf1beb...   \n",
       "2           2  19a734ee97b484a1a6c9625a1a3a0b5ddbabde3679ee2c...   \n",
       "3           3  d57699be1824c59714fb9a799b7b5b670227b07e2bde00...   \n",
       "4           4  26d0132074c91843483fb0f8b0378083f876d748be172b...   \n",
       "\n",
       "   fake_news_spreader                                          documents  \\\n",
       "0                   0  [('gloapg3', \"The fact that this has to be exp...   \n",
       "1                   0  [('fyfpnj4', 'Shelby County vs Holder. One of ...   \n",
       "2                   0  [('gmpzs0h', \"I've heard audio of him saying h...   \n",
       "3                   0  [('gghar1g', \"No. The democrats and with as ma...   \n",
       "4                   1  [('fyropxg', 'So, two weeks at Club Fed and 5 ...   \n",
       "\n",
       "   amounts        embedding_file  rn_amounts  fn_amounts  fn_rn_ratio  \\\n",
       "0  (24, 1)  doc_embeddings_1.txt          24           1     0.041667   \n",
       "1  (21, 0)  doc_embeddings_1.txt          21           0     0.000000   \n",
       "2  (63, 0)  doc_embeddings_1.txt          63           0     0.000000   \n",
       "3  (11, 1)  doc_embeddings_1.txt          11           1     0.090909   \n",
       "4  (12, 5)  doc_embeddings_1.txt          12           5     0.416667   \n",
       "\n",
       "                                          annotation  ...  4605 4606 4607  \\\n",
       "0  [[], [], [], [], [('nbcnews.com', 0, ['LEFT_CE...  ...   NaN  NaN  NaN   \n",
       "1  [[], [], [], [], [], [], [('nbcnews.com', 0, [...  ...   NaN  NaN  NaN   \n",
       "2  [[], [], [], [], [], [], [], [], [], [], [], [...  ...   NaN  NaN  NaN   \n",
       "3  [[], [], [], [], [], [], [], [], [], [], [], [...  ...   NaN  NaN  NaN   \n",
       "4  [[], [], [], [], [], [], [], [], [], [('msn.co...  ...   NaN  NaN  NaN   \n",
       "\n",
       "   4608  4609  4610  4611  4612  4613  4614  \n",
       "0   NaN   NaN   NaN   NaN   NaN   NaN   NaN  \n",
       "1   NaN   NaN   NaN   NaN   NaN   NaN   NaN  \n",
       "2   NaN   NaN   NaN   NaN   NaN   NaN   NaN  \n",
       "3   NaN   NaN   NaN   NaN   NaN   NaN   NaN  \n",
       "4   NaN   NaN   NaN   NaN   NaN   NaN   NaN  \n",
       "\n",
       "[5 rows x 4167 columns]"
      ],
      "text/html": [
       "<div>\n",
       "<style scoped>\n",
       "    .dataframe tbody tr th:only-of-type {\n",
       "        vertical-align: middle;\n",
       "    }\n",
       "\n",
       "    .dataframe tbody tr th {\n",
       "        vertical-align: top;\n",
       "    }\n",
       "\n",
       "    .dataframe thead th {\n",
       "        text-align: right;\n",
       "    }\n",
       "</style>\n",
       "<table border=\"1\" class=\"dataframe\">\n",
       "  <thead>\n",
       "    <tr style=\"text-align: right;\">\n",
       "      <th></th>\n",
       "      <th>Unnamed: 0</th>\n",
       "      <th>user_id</th>\n",
       "      <th>fake_news_spreader</th>\n",
       "      <th>documents</th>\n",
       "      <th>amounts</th>\n",
       "      <th>embedding_file</th>\n",
       "      <th>rn_amounts</th>\n",
       "      <th>fn_amounts</th>\n",
       "      <th>fn_rn_ratio</th>\n",
       "      <th>annotation</th>\n",
       "      <th>...</th>\n",
       "      <th>4605</th>\n",
       "      <th>4606</th>\n",
       "      <th>4607</th>\n",
       "      <th>4608</th>\n",
       "      <th>4609</th>\n",
       "      <th>4610</th>\n",
       "      <th>4611</th>\n",
       "      <th>4612</th>\n",
       "      <th>4613</th>\n",
       "      <th>4614</th>\n",
       "    </tr>\n",
       "  </thead>\n",
       "  <tbody>\n",
       "    <tr>\n",
       "      <th>0</th>\n",
       "      <td>0</td>\n",
       "      <td>ddf62a134f09db7a6056190d594bd41ff2f4cf04faf5db...</td>\n",
       "      <td>0</td>\n",
       "      <td>[('gloapg3', \"The fact that this has to be exp...</td>\n",
       "      <td>(24, 1)</td>\n",
       "      <td>doc_embeddings_1.txt</td>\n",
       "      <td>24</td>\n",
       "      <td>1</td>\n",
       "      <td>0.041667</td>\n",
       "      <td>[[], [], [], [], [('nbcnews.com', 0, ['LEFT_CE...</td>\n",
       "      <td>...</td>\n",
       "      <td>NaN</td>\n",
       "      <td>NaN</td>\n",
       "      <td>NaN</td>\n",
       "      <td>NaN</td>\n",
       "      <td>NaN</td>\n",
       "      <td>NaN</td>\n",
       "      <td>NaN</td>\n",
       "      <td>NaN</td>\n",
       "      <td>NaN</td>\n",
       "      <td>NaN</td>\n",
       "    </tr>\n",
       "    <tr>\n",
       "      <th>1</th>\n",
       "      <td>1</td>\n",
       "      <td>a78d753b103a2a4310ad6d1d49723733a6e4744bbf1beb...</td>\n",
       "      <td>0</td>\n",
       "      <td>[('fyfpnj4', 'Shelby County vs Holder. One of ...</td>\n",
       "      <td>(21, 0)</td>\n",
       "      <td>doc_embeddings_1.txt</td>\n",
       "      <td>21</td>\n",
       "      <td>0</td>\n",
       "      <td>0.000000</td>\n",
       "      <td>[[], [], [], [], [], [], [('nbcnews.com', 0, [...</td>\n",
       "      <td>...</td>\n",
       "      <td>NaN</td>\n",
       "      <td>NaN</td>\n",
       "      <td>NaN</td>\n",
       "      <td>NaN</td>\n",
       "      <td>NaN</td>\n",
       "      <td>NaN</td>\n",
       "      <td>NaN</td>\n",
       "      <td>NaN</td>\n",
       "      <td>NaN</td>\n",
       "      <td>NaN</td>\n",
       "    </tr>\n",
       "    <tr>\n",
       "      <th>2</th>\n",
       "      <td>2</td>\n",
       "      <td>19a734ee97b484a1a6c9625a1a3a0b5ddbabde3679ee2c...</td>\n",
       "      <td>0</td>\n",
       "      <td>[('gmpzs0h', \"I've heard audio of him saying h...</td>\n",
       "      <td>(63, 0)</td>\n",
       "      <td>doc_embeddings_1.txt</td>\n",
       "      <td>63</td>\n",
       "      <td>0</td>\n",
       "      <td>0.000000</td>\n",
       "      <td>[[], [], [], [], [], [], [], [], [], [], [], [...</td>\n",
       "      <td>...</td>\n",
       "      <td>NaN</td>\n",
       "      <td>NaN</td>\n",
       "      <td>NaN</td>\n",
       "      <td>NaN</td>\n",
       "      <td>NaN</td>\n",
       "      <td>NaN</td>\n",
       "      <td>NaN</td>\n",
       "      <td>NaN</td>\n",
       "      <td>NaN</td>\n",
       "      <td>NaN</td>\n",
       "    </tr>\n",
       "    <tr>\n",
       "      <th>3</th>\n",
       "      <td>3</td>\n",
       "      <td>d57699be1824c59714fb9a799b7b5b670227b07e2bde00...</td>\n",
       "      <td>0</td>\n",
       "      <td>[('gghar1g', \"No. The democrats and with as ma...</td>\n",
       "      <td>(11, 1)</td>\n",
       "      <td>doc_embeddings_1.txt</td>\n",
       "      <td>11</td>\n",
       "      <td>1</td>\n",
       "      <td>0.090909</td>\n",
       "      <td>[[], [], [], [], [], [], [], [], [], [], [], [...</td>\n",
       "      <td>...</td>\n",
       "      <td>NaN</td>\n",
       "      <td>NaN</td>\n",
       "      <td>NaN</td>\n",
       "      <td>NaN</td>\n",
       "      <td>NaN</td>\n",
       "      <td>NaN</td>\n",
       "      <td>NaN</td>\n",
       "      <td>NaN</td>\n",
       "      <td>NaN</td>\n",
       "      <td>NaN</td>\n",
       "    </tr>\n",
       "    <tr>\n",
       "      <th>4</th>\n",
       "      <td>4</td>\n",
       "      <td>26d0132074c91843483fb0f8b0378083f876d748be172b...</td>\n",
       "      <td>1</td>\n",
       "      <td>[('fyropxg', 'So, two weeks at Club Fed and 5 ...</td>\n",
       "      <td>(12, 5)</td>\n",
       "      <td>doc_embeddings_1.txt</td>\n",
       "      <td>12</td>\n",
       "      <td>5</td>\n",
       "      <td>0.416667</td>\n",
       "      <td>[[], [], [], [], [], [], [], [], [], [('msn.co...</td>\n",
       "      <td>...</td>\n",
       "      <td>NaN</td>\n",
       "      <td>NaN</td>\n",
       "      <td>NaN</td>\n",
       "      <td>NaN</td>\n",
       "      <td>NaN</td>\n",
       "      <td>NaN</td>\n",
       "      <td>NaN</td>\n",
       "      <td>NaN</td>\n",
       "      <td>NaN</td>\n",
       "      <td>NaN</td>\n",
       "    </tr>\n",
       "  </tbody>\n",
       "</table>\n",
       "<p>5 rows × 4167 columns</p>\n",
       "</div>"
      ]
     },
     "execution_count": 6,
     "metadata": {},
     "output_type": "execute_result"
    }
   ],
   "execution_count": 6
  },
  {
   "metadata": {
    "ExecuteTime": {
     "end_time": "2024-12-05T12:42:26.618241Z",
     "start_time": "2024-12-05T12:41:31.907392Z"
    }
   },
   "cell_type": "code",
   "source": "data=pd.read_pickle(\"reddit_corpus.pkl\")",
   "id": "f60ee585e98ab289",
   "outputs": [],
   "execution_count": 2
  },
  {
   "metadata": {
    "ExecuteTime": {
     "end_time": "2024-12-05T12:42:26.633563Z",
     "start_time": "2024-12-05T12:42:26.624240Z"
    }
   },
   "cell_type": "code",
   "source": "node_data = data[['user_id', 'fake_news_spreader']]",
   "id": "7d6714f99e4f5e07",
   "outputs": [],
   "execution_count": 3
  },
  {
   "metadata": {
    "ExecuteTime": {
     "end_time": "2024-12-05T12:42:26.865609Z",
     "start_time": "2024-12-05T12:42:26.851482Z"
    }
   },
   "cell_type": "code",
   "source": "node_data",
   "id": "3522f1e0037e4ebf",
   "outputs": [
    {
     "data": {
      "text/plain": [
       "                                                user_id  fake_news_spreader\n",
       "0     ddf62a134f09db7a6056190d594bd41ff2f4cf04faf5db...                   0\n",
       "1     a78d753b103a2a4310ad6d1d49723733a6e4744bbf1beb...                   0\n",
       "2     19a734ee97b484a1a6c9625a1a3a0b5ddbabde3679ee2c...                   0\n",
       "3     d57699be1824c59714fb9a799b7b5b670227b07e2bde00...                   0\n",
       "4     26d0132074c91843483fb0f8b0378083f876d748be172b...                   1\n",
       "...                                                 ...                 ...\n",
       "4610  e404255fd2be1d1e3c50c80f3ab21ec1be465c15d89541...                   0\n",
       "4611  e68fe2165fb6db674ae03dca13f1d14830d2a44853ebb2...                   0\n",
       "4612  cee6bf50d84a8287e957feed646da5aae981c53076acd9...                   0\n",
       "4613  95157a1c2c81dffdfacd4cfeb9fb62d82b6be831852ad3...                   0\n",
       "4614  265bde26afcab547a099f352a67bc462851b3d8b1b588c...                   0\n",
       "\n",
       "[4150 rows x 2 columns]"
      ],
      "text/html": [
       "<div>\n",
       "<style scoped>\n",
       "    .dataframe tbody tr th:only-of-type {\n",
       "        vertical-align: middle;\n",
       "    }\n",
       "\n",
       "    .dataframe tbody tr th {\n",
       "        vertical-align: top;\n",
       "    }\n",
       "\n",
       "    .dataframe thead th {\n",
       "        text-align: right;\n",
       "    }\n",
       "</style>\n",
       "<table border=\"1\" class=\"dataframe\">\n",
       "  <thead>\n",
       "    <tr style=\"text-align: right;\">\n",
       "      <th></th>\n",
       "      <th>user_id</th>\n",
       "      <th>fake_news_spreader</th>\n",
       "    </tr>\n",
       "  </thead>\n",
       "  <tbody>\n",
       "    <tr>\n",
       "      <th>0</th>\n",
       "      <td>ddf62a134f09db7a6056190d594bd41ff2f4cf04faf5db...</td>\n",
       "      <td>0</td>\n",
       "    </tr>\n",
       "    <tr>\n",
       "      <th>1</th>\n",
       "      <td>a78d753b103a2a4310ad6d1d49723733a6e4744bbf1beb...</td>\n",
       "      <td>0</td>\n",
       "    </tr>\n",
       "    <tr>\n",
       "      <th>2</th>\n",
       "      <td>19a734ee97b484a1a6c9625a1a3a0b5ddbabde3679ee2c...</td>\n",
       "      <td>0</td>\n",
       "    </tr>\n",
       "    <tr>\n",
       "      <th>3</th>\n",
       "      <td>d57699be1824c59714fb9a799b7b5b670227b07e2bde00...</td>\n",
       "      <td>0</td>\n",
       "    </tr>\n",
       "    <tr>\n",
       "      <th>4</th>\n",
       "      <td>26d0132074c91843483fb0f8b0378083f876d748be172b...</td>\n",
       "      <td>1</td>\n",
       "    </tr>\n",
       "    <tr>\n",
       "      <th>...</th>\n",
       "      <td>...</td>\n",
       "      <td>...</td>\n",
       "    </tr>\n",
       "    <tr>\n",
       "      <th>4610</th>\n",
       "      <td>e404255fd2be1d1e3c50c80f3ab21ec1be465c15d89541...</td>\n",
       "      <td>0</td>\n",
       "    </tr>\n",
       "    <tr>\n",
       "      <th>4611</th>\n",
       "      <td>e68fe2165fb6db674ae03dca13f1d14830d2a44853ebb2...</td>\n",
       "      <td>0</td>\n",
       "    </tr>\n",
       "    <tr>\n",
       "      <th>4612</th>\n",
       "      <td>cee6bf50d84a8287e957feed646da5aae981c53076acd9...</td>\n",
       "      <td>0</td>\n",
       "    </tr>\n",
       "    <tr>\n",
       "      <th>4613</th>\n",
       "      <td>95157a1c2c81dffdfacd4cfeb9fb62d82b6be831852ad3...</td>\n",
       "      <td>0</td>\n",
       "    </tr>\n",
       "    <tr>\n",
       "      <th>4614</th>\n",
       "      <td>265bde26afcab547a099f352a67bc462851b3d8b1b588c...</td>\n",
       "      <td>0</td>\n",
       "    </tr>\n",
       "  </tbody>\n",
       "</table>\n",
       "<p>4150 rows × 2 columns</p>\n",
       "</div>"
      ]
     },
     "execution_count": 4,
     "metadata": {},
     "output_type": "execute_result"
    }
   ],
   "execution_count": 4
  },
  {
   "metadata": {
    "ExecuteTime": {
     "end_time": "2024-12-05T12:42:27.098344Z",
     "start_time": "2024-12-05T12:42:27.083839Z"
    }
   },
   "cell_type": "code",
   "source": "user_ids = node_data['user_id'].tolist()",
   "id": "c1cb38b814c00039",
   "outputs": [],
   "execution_count": 5
  },
  {
   "metadata": {
    "ExecuteTime": {
     "end_time": "2024-12-05T12:42:27.145213Z",
     "start_time": "2024-12-05T12:42:27.131210Z"
    }
   },
   "cell_type": "code",
   "source": "edges = []",
   "id": "b9be97c9a4bf5f41",
   "outputs": [],
   "execution_count": 6
  },
  {
   "metadata": {
    "ExecuteTime": {
     "end_time": "2024-12-05T12:42:27.207440Z",
     "start_time": "2024-12-05T12:42:27.194907Z"
    }
   },
   "cell_type": "code",
   "source": "folder_path ='social_graph_data'",
   "id": "11cbf1f2ad20fe6a",
   "outputs": [],
   "execution_count": 7
  },
  {
   "metadata": {
    "ExecuteTime": {
     "end_time": "2024-12-04T20:36:11.459305Z",
     "start_time": "2024-12-04T20:36:09.200726Z"
    }
   },
   "cell_type": "code",
   "source": "pip install transformers torch",
   "id": "e1637666bf600935",
   "outputs": [
    {
     "name": "stdout",
     "output_type": "stream",
     "text": [
      "Requirement already satisfied: transformers in c:\\users\\dell\\pycharmprojects\\manu_factoid_gcn\\.venv\\lib\\site-packages (4.46.3)\n",
      "Requirement already satisfied: torch in c:\\users\\dell\\pycharmprojects\\manu_factoid_gcn\\.venv\\lib\\site-packages (2.5.1)\n",
      "Requirement already satisfied: filelock in c:\\users\\dell\\pycharmprojects\\manu_factoid_gcn\\.venv\\lib\\site-packages (from transformers) (3.16.1)\n",
      "Requirement already satisfied: huggingface-hub<1.0,>=0.23.2 in c:\\users\\dell\\pycharmprojects\\manu_factoid_gcn\\.venv\\lib\\site-packages (from transformers) (0.26.3)\n",
      "Requirement already satisfied: numpy>=1.17 in c:\\users\\dell\\pycharmprojects\\manu_factoid_gcn\\.venv\\lib\\site-packages (from transformers) (1.26.4)\n",
      "Requirement already satisfied: packaging>=20.0 in c:\\users\\dell\\pycharmprojects\\manu_factoid_gcn\\.venv\\lib\\site-packages (from transformers) (24.1)\n",
      "Requirement already satisfied: pyyaml>=5.1 in c:\\users\\dell\\pycharmprojects\\manu_factoid_gcn\\.venv\\lib\\site-packages (from transformers) (6.0.2)\n",
      "Requirement already satisfied: regex!=2019.12.17 in c:\\users\\dell\\pycharmprojects\\manu_factoid_gcn\\.venv\\lib\\site-packages (from transformers) (2024.11.6)\n",
      "Requirement already satisfied: requests in c:\\users\\dell\\pycharmprojects\\manu_factoid_gcn\\.venv\\lib\\site-packages (from transformers) (2.32.3)\n",
      "Requirement already satisfied: tokenizers<0.21,>=0.20 in c:\\users\\dell\\pycharmprojects\\manu_factoid_gcn\\.venv\\lib\\site-packages (from transformers) (0.20.3)\n",
      "Requirement already satisfied: safetensors>=0.4.1 in c:\\users\\dell\\pycharmprojects\\manu_factoid_gcn\\.venv\\lib\\site-packages (from transformers) (0.4.5)\n",
      "Requirement already satisfied: tqdm>=4.27 in c:\\users\\dell\\pycharmprojects\\manu_factoid_gcn\\.venv\\lib\\site-packages (from transformers) (4.67.0)\n",
      "Requirement already satisfied: typing-extensions>=4.8.0 in c:\\users\\dell\\pycharmprojects\\manu_factoid_gcn\\.venv\\lib\\site-packages (from torch) (4.12.2)\n",
      "Requirement already satisfied: networkx in c:\\users\\dell\\pycharmprojects\\manu_factoid_gcn\\.venv\\lib\\site-packages (from torch) (3.4.2)\n",
      "Requirement already satisfied: jinja2 in c:\\users\\dell\\pycharmprojects\\manu_factoid_gcn\\.venv\\lib\\site-packages (from torch) (3.1.4)\n",
      "Requirement already satisfied: fsspec in c:\\users\\dell\\pycharmprojects\\manu_factoid_gcn\\.venv\\lib\\site-packages (from torch) (2024.10.0)\n",
      "Requirement already satisfied: sympy==1.13.1 in c:\\users\\dell\\pycharmprojects\\manu_factoid_gcn\\.venv\\lib\\site-packages (from torch) (1.13.1)\n",
      "Requirement already satisfied: mpmath<1.4,>=1.1.0 in c:\\users\\dell\\pycharmprojects\\manu_factoid_gcn\\.venv\\lib\\site-packages (from sympy==1.13.1->torch) (1.3.0)\n",
      "Requirement already satisfied: colorama in c:\\users\\dell\\pycharmprojects\\manu_factoid_gcn\\.venv\\lib\\site-packages (from tqdm>=4.27->transformers) (0.4.6)\n",
      "Requirement already satisfied: MarkupSafe>=2.0 in c:\\users\\dell\\pycharmprojects\\manu_factoid_gcn\\.venv\\lib\\site-packages (from jinja2->torch) (3.0.2)\n",
      "Requirement already satisfied: charset-normalizer<4,>=2 in c:\\users\\dell\\pycharmprojects\\manu_factoid_gcn\\.venv\\lib\\site-packages (from requests->transformers) (3.4.0)\n",
      "Requirement already satisfied: idna<4,>=2.5 in c:\\users\\dell\\pycharmprojects\\manu_factoid_gcn\\.venv\\lib\\site-packages (from requests->transformers) (3.10)\n",
      "Requirement already satisfied: urllib3<3,>=1.21.1 in c:\\users\\dell\\pycharmprojects\\manu_factoid_gcn\\.venv\\lib\\site-packages (from requests->transformers) (2.2.3)\n",
      "Requirement already satisfied: certifi>=2017.4.17 in c:\\users\\dell\\pycharmprojects\\manu_factoid_gcn\\.venv\\lib\\site-packages (from requests->transformers) (2024.8.30)\n",
      "Note: you may need to restart the kernel to use updated packages.\n"
     ]
    },
    {
     "name": "stderr",
     "output_type": "stream",
     "text": [
      "\n",
      "[notice] A new release of pip is available: 23.2.1 -> 24.3.1\n",
      "[notice] To update, run: python.exe -m pip install --upgrade pip\n"
     ]
    }
   ],
   "execution_count": 8
  },
  {
   "metadata": {
    "ExecuteTime": {
     "end_time": "2024-12-04T20:36:11.765099Z",
     "start_time": "2024-12-04T20:36:11.750948Z"
    }
   },
   "cell_type": "code",
   "source": "import pickle",
   "id": "788e61db602a5cc5",
   "outputs": [],
   "execution_count": 9
  },
  {
   "metadata": {
    "ExecuteTime": {
     "end_time": "2024-12-04T20:37:05.404741Z",
     "start_time": "2024-12-04T20:36:11.769606Z"
    }
   },
   "cell_type": "code",
   "source": "data=pd.read_pickle(\"reddit_corpus.pkl\")",
   "id": "48782e9b1c139bfa",
   "outputs": [],
   "execution_count": 10
  },
  {
   "metadata": {
    "ExecuteTime": {
     "end_time": "2024-12-04T20:03:19.277107200Z",
     "start_time": "2024-12-04T11:06:34.430087Z"
    }
   },
   "cell_type": "code",
   "source": "pip install torch",
   "id": "fbc544e86b146bfe",
   "outputs": [
    {
     "name": "stdout",
     "output_type": "stream",
     "text": [
      "Requirement already satisfied: torch in c:\\users\\petar\\documents\\faks\\manu\\venv\\lib\\site-packages (2.5.1)\n",
      "Requirement already satisfied: filelock in c:\\users\\petar\\documents\\faks\\manu\\venv\\lib\\site-packages (from torch) (3.16.1)\n",
      "Requirement already satisfied: typing-extensions>=4.8.0 in c:\\users\\petar\\documents\\faks\\manu\\venv\\lib\\site-packages (from torch) (4.12.2)\n",
      "Requirement already satisfied: networkx in c:\\users\\petar\\documents\\faks\\manu\\venv\\lib\\site-packages (from torch) (3.4.2)\n",
      "Requirement already satisfied: jinja2 in c:\\users\\petar\\documents\\faks\\manu\\venv\\lib\\site-packages (from torch) (3.1.4)\n",
      "Requirement already satisfied: fsspec in c:\\users\\petar\\documents\\faks\\manu\\venv\\lib\\site-packages (from torch) (2024.10.0)\n",
      "Requirement already satisfied: sympy==1.13.1 in c:\\users\\petar\\documents\\faks\\manu\\venv\\lib\\site-packages (from torch) (1.13.1)\n",
      "Requirement already satisfied: mpmath<1.4,>=1.1.0 in c:\\users\\petar\\documents\\faks\\manu\\venv\\lib\\site-packages (from sympy==1.13.1->torch) (1.3.0)\n",
      "Requirement already satisfied: MarkupSafe>=2.0 in c:\\users\\petar\\documents\\faks\\manu\\venv\\lib\\site-packages (from jinja2->torch) (3.0.2)\n",
      "Note: you may need to restart the kernel to use updated packages.\n"
     ]
    }
   ],
   "execution_count": 15
  },
  {
   "metadata": {
    "ExecuteTime": {
     "end_time": "2024-12-04T20:03:19.277107200Z",
     "start_time": "2024-12-04T18:57:53.157035Z"
    }
   },
   "cell_type": "code",
   "source": "df[[\"documents\",\"user_id\"]]",
   "id": "fdfdbbd72d49fc81",
   "outputs": [
    {
     "ename": "NameError",
     "evalue": "name 'df' is not defined",
     "output_type": "error",
     "traceback": [
      "\u001B[1;31m---------------------------------------------------------------------------\u001B[0m",
      "\u001B[1;31mNameError\u001B[0m                                 Traceback (most recent call last)",
      "Cell \u001B[1;32mIn[24], line 1\u001B[0m\n\u001B[1;32m----> 1\u001B[0m \u001B[43mdf\u001B[49m[[\u001B[38;5;124m\"\u001B[39m\u001B[38;5;124mdocuments\u001B[39m\u001B[38;5;124m\"\u001B[39m,\u001B[38;5;124m\"\u001B[39m\u001B[38;5;124muser_id\u001B[39m\u001B[38;5;124m\"\u001B[39m]]\n",
      "\u001B[1;31mNameError\u001B[0m: name 'df' is not defined"
     ]
    }
   ],
   "execution_count": 24
  },
  {
   "metadata": {},
   "cell_type": "markdown",
   "source": "# Subreddits",
   "id": "ef6c1b30479c0e58"
  },
  {
   "metadata": {
    "ExecuteTime": {
     "end_time": "2024-12-05T12:42:27.426556Z",
     "start_time": "2024-12-05T12:42:27.412915Z"
    }
   },
   "cell_type": "code",
   "source": "most_active_subreddits=pd.read_csv('most_active_subreddits.csv')",
   "id": "d32a36730e233f13",
   "outputs": [],
   "execution_count": 8
  },
  {
   "metadata": {
    "ExecuteTime": {
     "end_time": "2024-12-05T12:42:27.657198Z",
     "start_time": "2024-12-05T12:42:27.628523Z"
    }
   },
   "cell_type": "code",
   "source": "subreddit_df=pd.read_csv('subreddit_dataset.csv')",
   "id": "3441a13e196d35f5",
   "outputs": [],
   "execution_count": 9
  },
  {
   "metadata": {
    "ExecuteTime": {
     "end_time": "2024-12-05T12:42:27.876628Z",
     "start_time": "2024-12-05T12:42:27.862575Z"
    }
   },
   "cell_type": "code",
   "source": "subreddit_df.head()",
   "id": "4e4afbe8d01613bb",
   "outputs": [
    {
     "data": {
      "text/plain": [
       "                                             user_id        subreddit  \\\n",
       "0  ddf62a134f09db7a6056190d594bd41ff2f4cf04faf5db...       r/politics   \n",
       "1  ddf62a134f09db7a6056190d594bd41ff2f4cf04faf5db...       r/JoeBiden   \n",
       "2  ddf62a134f09db7a6056190d594bd41ff2f4cf04faf5db...  r/CoronavirusUS   \n",
       "3  a78d753b103a2a4310ad6d1d49723733a6e4744bbf1beb...       r/politics   \n",
       "4  19a734ee97b484a1a6c9625a1a3a0b5ddbabde3679ee2c...       r/politics   \n",
       "\n",
       "   post_count  total_posts  percentage  \n",
       "0         311          317   98.107256  \n",
       "1           2          317    0.630915  \n",
       "2           4          317    1.261830  \n",
       "3         392          392  100.000000  \n",
       "4        3227         3266   98.805879  "
      ],
      "text/html": [
       "<div>\n",
       "<style scoped>\n",
       "    .dataframe tbody tr th:only-of-type {\n",
       "        vertical-align: middle;\n",
       "    }\n",
       "\n",
       "    .dataframe tbody tr th {\n",
       "        vertical-align: top;\n",
       "    }\n",
       "\n",
       "    .dataframe thead th {\n",
       "        text-align: right;\n",
       "    }\n",
       "</style>\n",
       "<table border=\"1\" class=\"dataframe\">\n",
       "  <thead>\n",
       "    <tr style=\"text-align: right;\">\n",
       "      <th></th>\n",
       "      <th>user_id</th>\n",
       "      <th>subreddit</th>\n",
       "      <th>post_count</th>\n",
       "      <th>total_posts</th>\n",
       "      <th>percentage</th>\n",
       "    </tr>\n",
       "  </thead>\n",
       "  <tbody>\n",
       "    <tr>\n",
       "      <th>0</th>\n",
       "      <td>ddf62a134f09db7a6056190d594bd41ff2f4cf04faf5db...</td>\n",
       "      <td>r/politics</td>\n",
       "      <td>311</td>\n",
       "      <td>317</td>\n",
       "      <td>98.107256</td>\n",
       "    </tr>\n",
       "    <tr>\n",
       "      <th>1</th>\n",
       "      <td>ddf62a134f09db7a6056190d594bd41ff2f4cf04faf5db...</td>\n",
       "      <td>r/JoeBiden</td>\n",
       "      <td>2</td>\n",
       "      <td>317</td>\n",
       "      <td>0.630915</td>\n",
       "    </tr>\n",
       "    <tr>\n",
       "      <th>2</th>\n",
       "      <td>ddf62a134f09db7a6056190d594bd41ff2f4cf04faf5db...</td>\n",
       "      <td>r/CoronavirusUS</td>\n",
       "      <td>4</td>\n",
       "      <td>317</td>\n",
       "      <td>1.261830</td>\n",
       "    </tr>\n",
       "    <tr>\n",
       "      <th>3</th>\n",
       "      <td>a78d753b103a2a4310ad6d1d49723733a6e4744bbf1beb...</td>\n",
       "      <td>r/politics</td>\n",
       "      <td>392</td>\n",
       "      <td>392</td>\n",
       "      <td>100.000000</td>\n",
       "    </tr>\n",
       "    <tr>\n",
       "      <th>4</th>\n",
       "      <td>19a734ee97b484a1a6c9625a1a3a0b5ddbabde3679ee2c...</td>\n",
       "      <td>r/politics</td>\n",
       "      <td>3227</td>\n",
       "      <td>3266</td>\n",
       "      <td>98.805879</td>\n",
       "    </tr>\n",
       "  </tbody>\n",
       "</table>\n",
       "</div>"
      ]
     },
     "execution_count": 10,
     "metadata": {},
     "output_type": "execute_result"
    }
   ],
   "execution_count": 10
  },
  {
   "metadata": {},
   "cell_type": "markdown",
   "source": "## Grouping posts by subreddits and finding the percentage of those posts written by fake news spreaders",
   "id": "31d54a8a14a8a3e7"
  },
  {
   "metadata": {
    "ExecuteTime": {
     "end_time": "2024-12-05T12:42:28.122845Z",
     "start_time": "2024-12-05T12:42:28.108954Z"
    }
   },
   "cell_type": "code",
   "source": "most_active_subreddits=most_active_subreddits.assign(fake_news_spreader=data[\"fake_news_spreader\"])",
   "id": "e57062d529c7ffa2",
   "outputs": [],
   "execution_count": 11
  },
  {
   "metadata": {
    "ExecuteTime": {
     "end_time": "2024-12-05T12:42:28.169582Z",
     "start_time": "2024-12-05T12:42:28.155123Z"
    }
   },
   "cell_type": "code",
   "source": "merged_df = subreddit_df.merge(node_data, on='user_id')",
   "id": "7dcc5f61514461ed",
   "outputs": [],
   "execution_count": 12
  },
  {
   "metadata": {
    "ExecuteTime": {
     "end_time": "2024-12-05T12:42:28.278908Z",
     "start_time": "2024-12-05T12:42:28.256144Z"
    }
   },
   "cell_type": "code",
   "source": "merged_df",
   "id": "e466e3f77dabaecf",
   "outputs": [
    {
     "data": {
      "text/plain": [
       "                                                 user_id  \\\n",
       "0      ddf62a134f09db7a6056190d594bd41ff2f4cf04faf5db...   \n",
       "1      ddf62a134f09db7a6056190d594bd41ff2f4cf04faf5db...   \n",
       "2      ddf62a134f09db7a6056190d594bd41ff2f4cf04faf5db...   \n",
       "3      a78d753b103a2a4310ad6d1d49723733a6e4744bbf1beb...   \n",
       "4      19a734ee97b484a1a6c9625a1a3a0b5ddbabde3679ee2c...   \n",
       "...                                                  ...   \n",
       "12639  95157a1c2c81dffdfacd4cfeb9fb62d82b6be831852ad3...   \n",
       "12640  265bde26afcab547a099f352a67bc462851b3d8b1b588c...   \n",
       "12641  265bde26afcab547a099f352a67bc462851b3d8b1b588c...   \n",
       "12642  265bde26afcab547a099f352a67bc462851b3d8b1b588c...   \n",
       "12643  265bde26afcab547a099f352a67bc462851b3d8b1b588c...   \n",
       "\n",
       "                    subreddit  post_count  total_posts  percentage  \\\n",
       "0                  r/politics         311          317   98.107256   \n",
       "1                  r/JoeBiden           2          317    0.630915   \n",
       "2             r/CoronavirusUS           4          317    1.261830   \n",
       "3                  r/politics         392          392  100.000000   \n",
       "4                  r/politics        3227         3266   98.805879   \n",
       "...                       ...         ...          ...         ...   \n",
       "12639           r/Coronavirus           4          657    0.608828   \n",
       "12640              r/politics         536          549   97.632058   \n",
       "12641           r/Coronavirus           7          549    1.275046   \n",
       "12642  r/CoronavirusRecession           4          549    0.728597   \n",
       "12643         r/CoronavirusUS           2          549    0.364299   \n",
       "\n",
       "       fake_news_spreader  \n",
       "0                       0  \n",
       "1                       0  \n",
       "2                       0  \n",
       "3                       0  \n",
       "4                       0  \n",
       "...                   ...  \n",
       "12639                   0  \n",
       "12640                   0  \n",
       "12641                   0  \n",
       "12642                   0  \n",
       "12643                   0  \n",
       "\n",
       "[12644 rows x 6 columns]"
      ],
      "text/html": [
       "<div>\n",
       "<style scoped>\n",
       "    .dataframe tbody tr th:only-of-type {\n",
       "        vertical-align: middle;\n",
       "    }\n",
       "\n",
       "    .dataframe tbody tr th {\n",
       "        vertical-align: top;\n",
       "    }\n",
       "\n",
       "    .dataframe thead th {\n",
       "        text-align: right;\n",
       "    }\n",
       "</style>\n",
       "<table border=\"1\" class=\"dataframe\">\n",
       "  <thead>\n",
       "    <tr style=\"text-align: right;\">\n",
       "      <th></th>\n",
       "      <th>user_id</th>\n",
       "      <th>subreddit</th>\n",
       "      <th>post_count</th>\n",
       "      <th>total_posts</th>\n",
       "      <th>percentage</th>\n",
       "      <th>fake_news_spreader</th>\n",
       "    </tr>\n",
       "  </thead>\n",
       "  <tbody>\n",
       "    <tr>\n",
       "      <th>0</th>\n",
       "      <td>ddf62a134f09db7a6056190d594bd41ff2f4cf04faf5db...</td>\n",
       "      <td>r/politics</td>\n",
       "      <td>311</td>\n",
       "      <td>317</td>\n",
       "      <td>98.107256</td>\n",
       "      <td>0</td>\n",
       "    </tr>\n",
       "    <tr>\n",
       "      <th>1</th>\n",
       "      <td>ddf62a134f09db7a6056190d594bd41ff2f4cf04faf5db...</td>\n",
       "      <td>r/JoeBiden</td>\n",
       "      <td>2</td>\n",
       "      <td>317</td>\n",
       "      <td>0.630915</td>\n",
       "      <td>0</td>\n",
       "    </tr>\n",
       "    <tr>\n",
       "      <th>2</th>\n",
       "      <td>ddf62a134f09db7a6056190d594bd41ff2f4cf04faf5db...</td>\n",
       "      <td>r/CoronavirusUS</td>\n",
       "      <td>4</td>\n",
       "      <td>317</td>\n",
       "      <td>1.261830</td>\n",
       "      <td>0</td>\n",
       "    </tr>\n",
       "    <tr>\n",
       "      <th>3</th>\n",
       "      <td>a78d753b103a2a4310ad6d1d49723733a6e4744bbf1beb...</td>\n",
       "      <td>r/politics</td>\n",
       "      <td>392</td>\n",
       "      <td>392</td>\n",
       "      <td>100.000000</td>\n",
       "      <td>0</td>\n",
       "    </tr>\n",
       "    <tr>\n",
       "      <th>4</th>\n",
       "      <td>19a734ee97b484a1a6c9625a1a3a0b5ddbabde3679ee2c...</td>\n",
       "      <td>r/politics</td>\n",
       "      <td>3227</td>\n",
       "      <td>3266</td>\n",
       "      <td>98.805879</td>\n",
       "      <td>0</td>\n",
       "    </tr>\n",
       "    <tr>\n",
       "      <th>...</th>\n",
       "      <td>...</td>\n",
       "      <td>...</td>\n",
       "      <td>...</td>\n",
       "      <td>...</td>\n",
       "      <td>...</td>\n",
       "      <td>...</td>\n",
       "    </tr>\n",
       "    <tr>\n",
       "      <th>12639</th>\n",
       "      <td>95157a1c2c81dffdfacd4cfeb9fb62d82b6be831852ad3...</td>\n",
       "      <td>r/Coronavirus</td>\n",
       "      <td>4</td>\n",
       "      <td>657</td>\n",
       "      <td>0.608828</td>\n",
       "      <td>0</td>\n",
       "    </tr>\n",
       "    <tr>\n",
       "      <th>12640</th>\n",
       "      <td>265bde26afcab547a099f352a67bc462851b3d8b1b588c...</td>\n",
       "      <td>r/politics</td>\n",
       "      <td>536</td>\n",
       "      <td>549</td>\n",
       "      <td>97.632058</td>\n",
       "      <td>0</td>\n",
       "    </tr>\n",
       "    <tr>\n",
       "      <th>12641</th>\n",
       "      <td>265bde26afcab547a099f352a67bc462851b3d8b1b588c...</td>\n",
       "      <td>r/Coronavirus</td>\n",
       "      <td>7</td>\n",
       "      <td>549</td>\n",
       "      <td>1.275046</td>\n",
       "      <td>0</td>\n",
       "    </tr>\n",
       "    <tr>\n",
       "      <th>12642</th>\n",
       "      <td>265bde26afcab547a099f352a67bc462851b3d8b1b588c...</td>\n",
       "      <td>r/CoronavirusRecession</td>\n",
       "      <td>4</td>\n",
       "      <td>549</td>\n",
       "      <td>0.728597</td>\n",
       "      <td>0</td>\n",
       "    </tr>\n",
       "    <tr>\n",
       "      <th>12643</th>\n",
       "      <td>265bde26afcab547a099f352a67bc462851b3d8b1b588c...</td>\n",
       "      <td>r/CoronavirusUS</td>\n",
       "      <td>2</td>\n",
       "      <td>549</td>\n",
       "      <td>0.364299</td>\n",
       "      <td>0</td>\n",
       "    </tr>\n",
       "  </tbody>\n",
       "</table>\n",
       "<p>12644 rows × 6 columns</p>\n",
       "</div>"
      ]
     },
     "execution_count": 13,
     "metadata": {},
     "output_type": "execute_result"
    }
   ],
   "execution_count": 13
  },
  {
   "metadata": {
    "ExecuteTime": {
     "end_time": "2024-12-05T12:42:28.558097Z",
     "start_time": "2024-12-05T12:42:28.514419Z"
    }
   },
   "cell_type": "code",
   "source": [
    "subreddit_stats = merged_df.groupby('subreddit').agg(\n",
    "    total_posts=('post_count', 'sum'),\n",
    "    fake_news_posts=('post_count', lambda x: x[merged_df.loc[x.index, 'fake_news_spreader'] == 1].sum())\n",
    ").reset_index()"
   ],
   "id": "9d7de931b732f23c",
   "outputs": [],
   "execution_count": 14
  },
  {
   "metadata": {
    "ExecuteTime": {
     "end_time": "2024-12-05T12:42:28.634997Z",
     "start_time": "2024-12-05T12:42:28.624631Z"
    }
   },
   "cell_type": "code",
   "source": [
    "subreddit_stats['fake_news_normalized'] = subreddit_stats['fake_news_posts'] / subreddit_stats['total_posts']\n",
    "print(subreddit_stats)"
   ],
   "id": "8b23e1320a7f20d4",
   "outputs": [
    {
     "name": "stdout",
     "output_type": "stream",
     "text": [
      "           subreddit  total_posts  fake_news_posts  fake_news_normalized\n",
      "0         r/5GDebate         2192             2188              0.998175\n",
      "1   r/Abortiondebate         7590             4331              0.570619\n",
      "2      r/AntiVaxxers         1657             1478              0.891973\n",
      "3     r/AskProchoice           18               16              0.888889\n",
      "4          r/COVID19         3771              394              0.104482\n",
      "..               ...          ...              ...                   ...\n",
      "60       r/prochoice         4801             2152              0.448240\n",
      "61          r/progun        10774             5918              0.549285\n",
      "62         r/prolife         7109             5503              0.774089\n",
      "63      r/uspolitics         6063             1441              0.237671\n",
      "64    r/vaxxhappened         4881              109              0.022331\n",
      "\n",
      "[65 rows x 4 columns]\n"
     ]
    }
   ],
   "execution_count": 15
  },
  {
   "metadata": {
    "ExecuteTime": {
     "end_time": "2024-12-05T12:42:28.773465Z",
     "start_time": "2024-12-05T12:42:28.764932Z"
    }
   },
   "cell_type": "code",
   "source": "subreddit_stats",
   "id": "f8aed828a3dfcb12",
   "outputs": [
    {
     "data": {
      "text/plain": [
       "           subreddit  total_posts  fake_news_posts  fake_news_normalized\n",
       "0         r/5GDebate         2192             2188              0.998175\n",
       "1   r/Abortiondebate         7590             4331              0.570619\n",
       "2      r/AntiVaxxers         1657             1478              0.891973\n",
       "3     r/AskProchoice           18               16              0.888889\n",
       "4          r/COVID19         3771              394              0.104482\n",
       "..               ...          ...              ...                   ...\n",
       "60       r/prochoice         4801             2152              0.448240\n",
       "61          r/progun        10774             5918              0.549285\n",
       "62         r/prolife         7109             5503              0.774089\n",
       "63      r/uspolitics         6063             1441              0.237671\n",
       "64    r/vaxxhappened         4881              109              0.022331\n",
       "\n",
       "[65 rows x 4 columns]"
      ],
      "text/html": [
       "<div>\n",
       "<style scoped>\n",
       "    .dataframe tbody tr th:only-of-type {\n",
       "        vertical-align: middle;\n",
       "    }\n",
       "\n",
       "    .dataframe tbody tr th {\n",
       "        vertical-align: top;\n",
       "    }\n",
       "\n",
       "    .dataframe thead th {\n",
       "        text-align: right;\n",
       "    }\n",
       "</style>\n",
       "<table border=\"1\" class=\"dataframe\">\n",
       "  <thead>\n",
       "    <tr style=\"text-align: right;\">\n",
       "      <th></th>\n",
       "      <th>subreddit</th>\n",
       "      <th>total_posts</th>\n",
       "      <th>fake_news_posts</th>\n",
       "      <th>fake_news_normalized</th>\n",
       "    </tr>\n",
       "  </thead>\n",
       "  <tbody>\n",
       "    <tr>\n",
       "      <th>0</th>\n",
       "      <td>r/5GDebate</td>\n",
       "      <td>2192</td>\n",
       "      <td>2188</td>\n",
       "      <td>0.998175</td>\n",
       "    </tr>\n",
       "    <tr>\n",
       "      <th>1</th>\n",
       "      <td>r/Abortiondebate</td>\n",
       "      <td>7590</td>\n",
       "      <td>4331</td>\n",
       "      <td>0.570619</td>\n",
       "    </tr>\n",
       "    <tr>\n",
       "      <th>2</th>\n",
       "      <td>r/AntiVaxxers</td>\n",
       "      <td>1657</td>\n",
       "      <td>1478</td>\n",
       "      <td>0.891973</td>\n",
       "    </tr>\n",
       "    <tr>\n",
       "      <th>3</th>\n",
       "      <td>r/AskProchoice</td>\n",
       "      <td>18</td>\n",
       "      <td>16</td>\n",
       "      <td>0.888889</td>\n",
       "    </tr>\n",
       "    <tr>\n",
       "      <th>4</th>\n",
       "      <td>r/COVID19</td>\n",
       "      <td>3771</td>\n",
       "      <td>394</td>\n",
       "      <td>0.104482</td>\n",
       "    </tr>\n",
       "    <tr>\n",
       "      <th>...</th>\n",
       "      <td>...</td>\n",
       "      <td>...</td>\n",
       "      <td>...</td>\n",
       "      <td>...</td>\n",
       "    </tr>\n",
       "    <tr>\n",
       "      <th>60</th>\n",
       "      <td>r/prochoice</td>\n",
       "      <td>4801</td>\n",
       "      <td>2152</td>\n",
       "      <td>0.448240</td>\n",
       "    </tr>\n",
       "    <tr>\n",
       "      <th>61</th>\n",
       "      <td>r/progun</td>\n",
       "      <td>10774</td>\n",
       "      <td>5918</td>\n",
       "      <td>0.549285</td>\n",
       "    </tr>\n",
       "    <tr>\n",
       "      <th>62</th>\n",
       "      <td>r/prolife</td>\n",
       "      <td>7109</td>\n",
       "      <td>5503</td>\n",
       "      <td>0.774089</td>\n",
       "    </tr>\n",
       "    <tr>\n",
       "      <th>63</th>\n",
       "      <td>r/uspolitics</td>\n",
       "      <td>6063</td>\n",
       "      <td>1441</td>\n",
       "      <td>0.237671</td>\n",
       "    </tr>\n",
       "    <tr>\n",
       "      <th>64</th>\n",
       "      <td>r/vaxxhappened</td>\n",
       "      <td>4881</td>\n",
       "      <td>109</td>\n",
       "      <td>0.022331</td>\n",
       "    </tr>\n",
       "  </tbody>\n",
       "</table>\n",
       "<p>65 rows × 4 columns</p>\n",
       "</div>"
      ]
     },
     "execution_count": 16,
     "metadata": {},
     "output_type": "execute_result"
    }
   ],
   "execution_count": 16
  },
  {
   "metadata": {},
   "cell_type": "markdown",
   "source": "## Adding the fake_news_normalized for a user",
   "id": "3ee5be2a9b743d9e"
  },
  {
   "metadata": {
    "ExecuteTime": {
     "end_time": "2024-12-05T12:42:31.881780Z",
     "start_time": "2024-12-05T12:42:31.861353Z"
    }
   },
   "cell_type": "code",
   "source": "merged_df_fake_news=merged_df.merge(subreddit_stats[[\"subreddit\",\"fake_news_normalized\"]], on='subreddit')",
   "id": "4d504ee1fc158ec5",
   "outputs": [],
   "execution_count": 17
  },
  {
   "metadata": {
    "ExecuteTime": {
     "end_time": "2024-12-05T12:42:32.254022Z",
     "start_time": "2024-12-05T12:42:32.235814Z"
    }
   },
   "cell_type": "code",
   "source": "merged_df_fake_news",
   "id": "9e0312ac309d7a31",
   "outputs": [
    {
     "data": {
      "text/plain": [
       "                                                 user_id  \\\n",
       "0      ddf62a134f09db7a6056190d594bd41ff2f4cf04faf5db...   \n",
       "1      ddf62a134f09db7a6056190d594bd41ff2f4cf04faf5db...   \n",
       "2      ddf62a134f09db7a6056190d594bd41ff2f4cf04faf5db...   \n",
       "3      a78d753b103a2a4310ad6d1d49723733a6e4744bbf1beb...   \n",
       "4      19a734ee97b484a1a6c9625a1a3a0b5ddbabde3679ee2c...   \n",
       "...                                                  ...   \n",
       "12639  95157a1c2c81dffdfacd4cfeb9fb62d82b6be831852ad3...   \n",
       "12640  265bde26afcab547a099f352a67bc462851b3d8b1b588c...   \n",
       "12641  265bde26afcab547a099f352a67bc462851b3d8b1b588c...   \n",
       "12642  265bde26afcab547a099f352a67bc462851b3d8b1b588c...   \n",
       "12643  265bde26afcab547a099f352a67bc462851b3d8b1b588c...   \n",
       "\n",
       "                    subreddit  post_count  total_posts  percentage  \\\n",
       "0                  r/politics         311          317   98.107256   \n",
       "1                  r/JoeBiden           2          317    0.630915   \n",
       "2             r/CoronavirusUS           4          317    1.261830   \n",
       "3                  r/politics         392          392  100.000000   \n",
       "4                  r/politics        3227         3266   98.805879   \n",
       "...                       ...         ...          ...         ...   \n",
       "12639           r/Coronavirus           4          657    0.608828   \n",
       "12640              r/politics         536          549   97.632058   \n",
       "12641           r/Coronavirus           7          549    1.275046   \n",
       "12642  r/CoronavirusRecession           4          549    0.728597   \n",
       "12643         r/CoronavirusUS           2          549    0.364299   \n",
       "\n",
       "       fake_news_spreader  fake_news_normalized  \n",
       "0                       0              0.323036  \n",
       "1                       0              0.196298  \n",
       "2                       0              0.201341  \n",
       "3                       0              0.323036  \n",
       "4                       0              0.323036  \n",
       "...                   ...                   ...  \n",
       "12639                   0              0.170752  \n",
       "12640                   0              0.323036  \n",
       "12641                   0              0.170752  \n",
       "12642                   0              0.198413  \n",
       "12643                   0              0.201341  \n",
       "\n",
       "[12644 rows x 7 columns]"
      ],
      "text/html": [
       "<div>\n",
       "<style scoped>\n",
       "    .dataframe tbody tr th:only-of-type {\n",
       "        vertical-align: middle;\n",
       "    }\n",
       "\n",
       "    .dataframe tbody tr th {\n",
       "        vertical-align: top;\n",
       "    }\n",
       "\n",
       "    .dataframe thead th {\n",
       "        text-align: right;\n",
       "    }\n",
       "</style>\n",
       "<table border=\"1\" class=\"dataframe\">\n",
       "  <thead>\n",
       "    <tr style=\"text-align: right;\">\n",
       "      <th></th>\n",
       "      <th>user_id</th>\n",
       "      <th>subreddit</th>\n",
       "      <th>post_count</th>\n",
       "      <th>total_posts</th>\n",
       "      <th>percentage</th>\n",
       "      <th>fake_news_spreader</th>\n",
       "      <th>fake_news_normalized</th>\n",
       "    </tr>\n",
       "  </thead>\n",
       "  <tbody>\n",
       "    <tr>\n",
       "      <th>0</th>\n",
       "      <td>ddf62a134f09db7a6056190d594bd41ff2f4cf04faf5db...</td>\n",
       "      <td>r/politics</td>\n",
       "      <td>311</td>\n",
       "      <td>317</td>\n",
       "      <td>98.107256</td>\n",
       "      <td>0</td>\n",
       "      <td>0.323036</td>\n",
       "    </tr>\n",
       "    <tr>\n",
       "      <th>1</th>\n",
       "      <td>ddf62a134f09db7a6056190d594bd41ff2f4cf04faf5db...</td>\n",
       "      <td>r/JoeBiden</td>\n",
       "      <td>2</td>\n",
       "      <td>317</td>\n",
       "      <td>0.630915</td>\n",
       "      <td>0</td>\n",
       "      <td>0.196298</td>\n",
       "    </tr>\n",
       "    <tr>\n",
       "      <th>2</th>\n",
       "      <td>ddf62a134f09db7a6056190d594bd41ff2f4cf04faf5db...</td>\n",
       "      <td>r/CoronavirusUS</td>\n",
       "      <td>4</td>\n",
       "      <td>317</td>\n",
       "      <td>1.261830</td>\n",
       "      <td>0</td>\n",
       "      <td>0.201341</td>\n",
       "    </tr>\n",
       "    <tr>\n",
       "      <th>3</th>\n",
       "      <td>a78d753b103a2a4310ad6d1d49723733a6e4744bbf1beb...</td>\n",
       "      <td>r/politics</td>\n",
       "      <td>392</td>\n",
       "      <td>392</td>\n",
       "      <td>100.000000</td>\n",
       "      <td>0</td>\n",
       "      <td>0.323036</td>\n",
       "    </tr>\n",
       "    <tr>\n",
       "      <th>4</th>\n",
       "      <td>19a734ee97b484a1a6c9625a1a3a0b5ddbabde3679ee2c...</td>\n",
       "      <td>r/politics</td>\n",
       "      <td>3227</td>\n",
       "      <td>3266</td>\n",
       "      <td>98.805879</td>\n",
       "      <td>0</td>\n",
       "      <td>0.323036</td>\n",
       "    </tr>\n",
       "    <tr>\n",
       "      <th>...</th>\n",
       "      <td>...</td>\n",
       "      <td>...</td>\n",
       "      <td>...</td>\n",
       "      <td>...</td>\n",
       "      <td>...</td>\n",
       "      <td>...</td>\n",
       "      <td>...</td>\n",
       "    </tr>\n",
       "    <tr>\n",
       "      <th>12639</th>\n",
       "      <td>95157a1c2c81dffdfacd4cfeb9fb62d82b6be831852ad3...</td>\n",
       "      <td>r/Coronavirus</td>\n",
       "      <td>4</td>\n",
       "      <td>657</td>\n",
       "      <td>0.608828</td>\n",
       "      <td>0</td>\n",
       "      <td>0.170752</td>\n",
       "    </tr>\n",
       "    <tr>\n",
       "      <th>12640</th>\n",
       "      <td>265bde26afcab547a099f352a67bc462851b3d8b1b588c...</td>\n",
       "      <td>r/politics</td>\n",
       "      <td>536</td>\n",
       "      <td>549</td>\n",
       "      <td>97.632058</td>\n",
       "      <td>0</td>\n",
       "      <td>0.323036</td>\n",
       "    </tr>\n",
       "    <tr>\n",
       "      <th>12641</th>\n",
       "      <td>265bde26afcab547a099f352a67bc462851b3d8b1b588c...</td>\n",
       "      <td>r/Coronavirus</td>\n",
       "      <td>7</td>\n",
       "      <td>549</td>\n",
       "      <td>1.275046</td>\n",
       "      <td>0</td>\n",
       "      <td>0.170752</td>\n",
       "    </tr>\n",
       "    <tr>\n",
       "      <th>12642</th>\n",
       "      <td>265bde26afcab547a099f352a67bc462851b3d8b1b588c...</td>\n",
       "      <td>r/CoronavirusRecession</td>\n",
       "      <td>4</td>\n",
       "      <td>549</td>\n",
       "      <td>0.728597</td>\n",
       "      <td>0</td>\n",
       "      <td>0.198413</td>\n",
       "    </tr>\n",
       "    <tr>\n",
       "      <th>12643</th>\n",
       "      <td>265bde26afcab547a099f352a67bc462851b3d8b1b588c...</td>\n",
       "      <td>r/CoronavirusUS</td>\n",
       "      <td>2</td>\n",
       "      <td>549</td>\n",
       "      <td>0.364299</td>\n",
       "      <td>0</td>\n",
       "      <td>0.201341</td>\n",
       "    </tr>\n",
       "  </tbody>\n",
       "</table>\n",
       "<p>12644 rows × 7 columns</p>\n",
       "</div>"
      ]
     },
     "execution_count": 18,
     "metadata": {},
     "output_type": "execute_result"
    }
   ],
   "execution_count": 18
  },
  {
   "metadata": {
    "ExecuteTime": {
     "end_time": "2024-12-05T12:42:32.847109Z",
     "start_time": "2024-12-05T12:42:32.833704Z"
    }
   },
   "cell_type": "code",
   "source": "merged_df_fake_news[\"product1\"]=(merged_df_fake_news[\"post_count\"]*merged_df_fake_news[\"fake_news_normalized\"])/merged_df_fake_news[\"total_posts\"]",
   "id": "8d8e73f7b47d7ba6",
   "outputs": [],
   "execution_count": 19
  },
  {
   "metadata": {
    "ExecuteTime": {
     "end_time": "2024-12-05T12:42:36.028152Z",
     "start_time": "2024-12-05T12:42:36.000593Z"
    }
   },
   "cell_type": "code",
   "source": [
    "user_sub_data=merged_df_fake_news.groupby(\"user_id\").agg(\n",
    "fns_indx=('product1','sum'),\n",
    "fake_news_spreader=('fake_news_spreader', 'first')\n",
    ").reset_index()"
   ],
   "id": "c91201b162977bfc",
   "outputs": [],
   "execution_count": 20
  },
  {
   "metadata": {
    "ExecuteTime": {
     "end_time": "2024-12-05T12:42:37.448747Z",
     "start_time": "2024-12-05T12:42:37.424805Z"
    }
   },
   "cell_type": "code",
   "source": "user_sub_data",
   "id": "81204df838c8524b",
   "outputs": [
    {
     "data": {
      "text/plain": [
       "                                                user_id  fns_indx  \\\n",
       "0     0003fafe378856de02194efe58a6c078dc1e6ddd9efb20...  0.312831   \n",
       "1     000bcb5df7671b9cb7937c736d2f66d497de3ca3563ec7...  0.683957   \n",
       "2     000fc015bdba09569fc127b9750a670ccbf17167c38a92...  0.323036   \n",
       "3     001f7fbf5fa8504bccacb2cbf654a6b40b62ce35730409...  0.375522   \n",
       "4     002ee190725837df6104a29b8370401e57b64c266a0d5c...  0.320402   \n",
       "...                                                 ...       ...   \n",
       "4145  ffb4297eefd0161a85ebe32cda3e5d61148497629df4e7...  0.323036   \n",
       "4146  ffd6820592d6595c628ce9c748d8e5de728ea2397ec8d5...  0.682027   \n",
       "4147  ffd8c54ae6a30b53c389b206cece0b8ec29a810ed6f60f...  0.335553   \n",
       "4148  ffeb2319b79d8cbee91ec2d70dcc053297f9710895d54d...  0.400682   \n",
       "4149  fff7c3608c9364ba59290b628a64198d62f4b418a6b9f7...  0.337487   \n",
       "\n",
       "      fake_news_spreader  \n",
       "0                      0  \n",
       "1                      1  \n",
       "2                      0  \n",
       "3                      0  \n",
       "4                      1  \n",
       "...                  ...  \n",
       "4145                   0  \n",
       "4146                   0  \n",
       "4147                   0  \n",
       "4148                   1  \n",
       "4149                   0  \n",
       "\n",
       "[4150 rows x 3 columns]"
      ],
      "text/html": [
       "<div>\n",
       "<style scoped>\n",
       "    .dataframe tbody tr th:only-of-type {\n",
       "        vertical-align: middle;\n",
       "    }\n",
       "\n",
       "    .dataframe tbody tr th {\n",
       "        vertical-align: top;\n",
       "    }\n",
       "\n",
       "    .dataframe thead th {\n",
       "        text-align: right;\n",
       "    }\n",
       "</style>\n",
       "<table border=\"1\" class=\"dataframe\">\n",
       "  <thead>\n",
       "    <tr style=\"text-align: right;\">\n",
       "      <th></th>\n",
       "      <th>user_id</th>\n",
       "      <th>fns_indx</th>\n",
       "      <th>fake_news_spreader</th>\n",
       "    </tr>\n",
       "  </thead>\n",
       "  <tbody>\n",
       "    <tr>\n",
       "      <th>0</th>\n",
       "      <td>0003fafe378856de02194efe58a6c078dc1e6ddd9efb20...</td>\n",
       "      <td>0.312831</td>\n",
       "      <td>0</td>\n",
       "    </tr>\n",
       "    <tr>\n",
       "      <th>1</th>\n",
       "      <td>000bcb5df7671b9cb7937c736d2f66d497de3ca3563ec7...</td>\n",
       "      <td>0.683957</td>\n",
       "      <td>1</td>\n",
       "    </tr>\n",
       "    <tr>\n",
       "      <th>2</th>\n",
       "      <td>000fc015bdba09569fc127b9750a670ccbf17167c38a92...</td>\n",
       "      <td>0.323036</td>\n",
       "      <td>0</td>\n",
       "    </tr>\n",
       "    <tr>\n",
       "      <th>3</th>\n",
       "      <td>001f7fbf5fa8504bccacb2cbf654a6b40b62ce35730409...</td>\n",
       "      <td>0.375522</td>\n",
       "      <td>0</td>\n",
       "    </tr>\n",
       "    <tr>\n",
       "      <th>4</th>\n",
       "      <td>002ee190725837df6104a29b8370401e57b64c266a0d5c...</td>\n",
       "      <td>0.320402</td>\n",
       "      <td>1</td>\n",
       "    </tr>\n",
       "    <tr>\n",
       "      <th>...</th>\n",
       "      <td>...</td>\n",
       "      <td>...</td>\n",
       "      <td>...</td>\n",
       "    </tr>\n",
       "    <tr>\n",
       "      <th>4145</th>\n",
       "      <td>ffb4297eefd0161a85ebe32cda3e5d61148497629df4e7...</td>\n",
       "      <td>0.323036</td>\n",
       "      <td>0</td>\n",
       "    </tr>\n",
       "    <tr>\n",
       "      <th>4146</th>\n",
       "      <td>ffd6820592d6595c628ce9c748d8e5de728ea2397ec8d5...</td>\n",
       "      <td>0.682027</td>\n",
       "      <td>0</td>\n",
       "    </tr>\n",
       "    <tr>\n",
       "      <th>4147</th>\n",
       "      <td>ffd8c54ae6a30b53c389b206cece0b8ec29a810ed6f60f...</td>\n",
       "      <td>0.335553</td>\n",
       "      <td>0</td>\n",
       "    </tr>\n",
       "    <tr>\n",
       "      <th>4148</th>\n",
       "      <td>ffeb2319b79d8cbee91ec2d70dcc053297f9710895d54d...</td>\n",
       "      <td>0.400682</td>\n",
       "      <td>1</td>\n",
       "    </tr>\n",
       "    <tr>\n",
       "      <th>4149</th>\n",
       "      <td>fff7c3608c9364ba59290b628a64198d62f4b418a6b9f7...</td>\n",
       "      <td>0.337487</td>\n",
       "      <td>0</td>\n",
       "    </tr>\n",
       "  </tbody>\n",
       "</table>\n",
       "<p>4150 rows × 3 columns</p>\n",
       "</div>"
      ]
     },
     "execution_count": 21,
     "metadata": {},
     "output_type": "execute_result"
    }
   ],
   "execution_count": 21
  },
  {
   "metadata": {},
   "cell_type": "markdown",
   "source": "# ADDING EDGES",
   "id": "c0d51786c939a8be"
  },
  {
   "metadata": {
    "ExecuteTime": {
     "end_time": "2024-12-05T12:42:42.207589Z",
     "start_time": "2024-12-05T12:42:42.194694Z"
    }
   },
   "cell_type": "code",
   "source": "df_tmp=data[[\"user_id\",\"documents\"]]",
   "id": "5031b6ee02cfa2d",
   "outputs": [],
   "execution_count": 22
  },
  {
   "metadata": {
    "ExecuteTime": {
     "end_time": "2024-12-05T12:42:42.568047Z",
     "start_time": "2024-12-05T12:42:42.554889Z"
    }
   },
   "cell_type": "code",
   "source": "df_iter=df_tmp.merge(user_sub_data, on='user_id')",
   "id": "ee97895fba1eaba1",
   "outputs": [],
   "execution_count": 23
  },
  {
   "metadata": {
    "ExecuteTime": {
     "end_time": "2024-12-05T12:42:43.643312Z",
     "start_time": "2024-12-05T12:42:43.329046Z"
    }
   },
   "cell_type": "code",
   "source": "df_iter",
   "id": "227c60aa96436cd0",
   "outputs": [
    {
     "data": {
      "text/plain": [
       "                                                user_id  \\\n",
       "0     ddf62a134f09db7a6056190d594bd41ff2f4cf04faf5db...   \n",
       "1     a78d753b103a2a4310ad6d1d49723733a6e4744bbf1beb...   \n",
       "2     19a734ee97b484a1a6c9625a1a3a0b5ddbabde3679ee2c...   \n",
       "3     d57699be1824c59714fb9a799b7b5b670227b07e2bde00...   \n",
       "4     26d0132074c91843483fb0f8b0378083f876d748be172b...   \n",
       "...                                                 ...   \n",
       "4145  e404255fd2be1d1e3c50c80f3ab21ec1be465c15d89541...   \n",
       "4146  e68fe2165fb6db674ae03dca13f1d14830d2a44853ebb2...   \n",
       "4147  cee6bf50d84a8287e957feed646da5aae981c53076acd9...   \n",
       "4148  95157a1c2c81dffdfacd4cfeb9fb62d82b6be831852ad3...   \n",
       "4149  265bde26afcab547a099f352a67bc462851b3d8b1b588c...   \n",
       "\n",
       "                                              documents  fns_indx  \\\n",
       "0     [(gloapg3, The fact that this has to be explai...  0.320701   \n",
       "1     [(fyfpnj4, Shelby County vs Holder. One of the...  0.323036   \n",
       "2     [(gmpzs0h, I've heard audio of him saying he'd...  0.321959   \n",
       "3     [(gghar1g, No. The democrats and with as many ...  0.337062   \n",
       "4     [(fyropxg, So, two weeks at Club Fed and 5 las...  0.323036   \n",
       "...                                                 ...       ...   \n",
       "4145  [(fz673tq, Somebody literally said that to me ...  0.324963   \n",
       "4146  [(gkezeid, Please dont insult sex workers. The...  0.295911   \n",
       "4147  [(fvlkgw8, 7,000 max. Womp womp., 2020-06-22 0...  0.323036   \n",
       "4148  [(fztr5v7, Just imagine how tired Cucker Tarls...  0.322109   \n",
       "4149  [(g6pwown, It’s only a good lesson if Biden an...  0.319743   \n",
       "\n",
       "      fake_news_spreader  \n",
       "0                      0  \n",
       "1                      0  \n",
       "2                      0  \n",
       "3                      0  \n",
       "4                      1  \n",
       "...                  ...  \n",
       "4145                   0  \n",
       "4146                   0  \n",
       "4147                   0  \n",
       "4148                   0  \n",
       "4149                   0  \n",
       "\n",
       "[4150 rows x 4 columns]"
      ],
      "text/html": [
       "<div>\n",
       "<style scoped>\n",
       "    .dataframe tbody tr th:only-of-type {\n",
       "        vertical-align: middle;\n",
       "    }\n",
       "\n",
       "    .dataframe tbody tr th {\n",
       "        vertical-align: top;\n",
       "    }\n",
       "\n",
       "    .dataframe thead th {\n",
       "        text-align: right;\n",
       "    }\n",
       "</style>\n",
       "<table border=\"1\" class=\"dataframe\">\n",
       "  <thead>\n",
       "    <tr style=\"text-align: right;\">\n",
       "      <th></th>\n",
       "      <th>user_id</th>\n",
       "      <th>documents</th>\n",
       "      <th>fns_indx</th>\n",
       "      <th>fake_news_spreader</th>\n",
       "    </tr>\n",
       "  </thead>\n",
       "  <tbody>\n",
       "    <tr>\n",
       "      <th>0</th>\n",
       "      <td>ddf62a134f09db7a6056190d594bd41ff2f4cf04faf5db...</td>\n",
       "      <td>[(gloapg3, The fact that this has to be explai...</td>\n",
       "      <td>0.320701</td>\n",
       "      <td>0</td>\n",
       "    </tr>\n",
       "    <tr>\n",
       "      <th>1</th>\n",
       "      <td>a78d753b103a2a4310ad6d1d49723733a6e4744bbf1beb...</td>\n",
       "      <td>[(fyfpnj4, Shelby County vs Holder. One of the...</td>\n",
       "      <td>0.323036</td>\n",
       "      <td>0</td>\n",
       "    </tr>\n",
       "    <tr>\n",
       "      <th>2</th>\n",
       "      <td>19a734ee97b484a1a6c9625a1a3a0b5ddbabde3679ee2c...</td>\n",
       "      <td>[(gmpzs0h, I've heard audio of him saying he'd...</td>\n",
       "      <td>0.321959</td>\n",
       "      <td>0</td>\n",
       "    </tr>\n",
       "    <tr>\n",
       "      <th>3</th>\n",
       "      <td>d57699be1824c59714fb9a799b7b5b670227b07e2bde00...</td>\n",
       "      <td>[(gghar1g, No. The democrats and with as many ...</td>\n",
       "      <td>0.337062</td>\n",
       "      <td>0</td>\n",
       "    </tr>\n",
       "    <tr>\n",
       "      <th>4</th>\n",
       "      <td>26d0132074c91843483fb0f8b0378083f876d748be172b...</td>\n",
       "      <td>[(fyropxg, So, two weeks at Club Fed and 5 las...</td>\n",
       "      <td>0.323036</td>\n",
       "      <td>1</td>\n",
       "    </tr>\n",
       "    <tr>\n",
       "      <th>...</th>\n",
       "      <td>...</td>\n",
       "      <td>...</td>\n",
       "      <td>...</td>\n",
       "      <td>...</td>\n",
       "    </tr>\n",
       "    <tr>\n",
       "      <th>4145</th>\n",
       "      <td>e404255fd2be1d1e3c50c80f3ab21ec1be465c15d89541...</td>\n",
       "      <td>[(fz673tq, Somebody literally said that to me ...</td>\n",
       "      <td>0.324963</td>\n",
       "      <td>0</td>\n",
       "    </tr>\n",
       "    <tr>\n",
       "      <th>4146</th>\n",
       "      <td>e68fe2165fb6db674ae03dca13f1d14830d2a44853ebb2...</td>\n",
       "      <td>[(gkezeid, Please dont insult sex workers. The...</td>\n",
       "      <td>0.295911</td>\n",
       "      <td>0</td>\n",
       "    </tr>\n",
       "    <tr>\n",
       "      <th>4147</th>\n",
       "      <td>cee6bf50d84a8287e957feed646da5aae981c53076acd9...</td>\n",
       "      <td>[(fvlkgw8, 7,000 max. Womp womp., 2020-06-22 0...</td>\n",
       "      <td>0.323036</td>\n",
       "      <td>0</td>\n",
       "    </tr>\n",
       "    <tr>\n",
       "      <th>4148</th>\n",
       "      <td>95157a1c2c81dffdfacd4cfeb9fb62d82b6be831852ad3...</td>\n",
       "      <td>[(fztr5v7, Just imagine how tired Cucker Tarls...</td>\n",
       "      <td>0.322109</td>\n",
       "      <td>0</td>\n",
       "    </tr>\n",
       "    <tr>\n",
       "      <th>4149</th>\n",
       "      <td>265bde26afcab547a099f352a67bc462851b3d8b1b588c...</td>\n",
       "      <td>[(g6pwown, It’s only a good lesson if Biden an...</td>\n",
       "      <td>0.319743</td>\n",
       "      <td>0</td>\n",
       "    </tr>\n",
       "  </tbody>\n",
       "</table>\n",
       "<p>4150 rows × 4 columns</p>\n",
       "</div>"
      ]
     },
     "execution_count": 24,
     "metadata": {},
     "output_type": "execute_result"
    }
   ],
   "execution_count": 24
  },
  {
   "metadata": {
    "ExecuteTime": {
     "end_time": "2024-12-05T12:42:46.624920Z",
     "start_time": "2024-12-05T12:42:46.609754Z"
    }
   },
   "cell_type": "code",
   "source": "df_filtered = df_iter[(df_iter[\"fns_indx\"] >= 0.4) & (df_iter[\"fns_indx\"] <= 0.6)]",
   "id": "e768e2e9e1f1627f",
   "outputs": [],
   "execution_count": 25
  },
  {
   "metadata": {
    "ExecuteTime": {
     "end_time": "2024-12-05T12:42:47.592435Z",
     "start_time": "2024-12-05T12:42:47.186453Z"
    }
   },
   "cell_type": "code",
   "source": "df_filtered",
   "id": "3a3bb4d0ad0dee67",
   "outputs": [
    {
     "data": {
      "text/plain": [
       "                                                user_id  \\\n",
       "7     67ffb77c37ab42f6c413c96155838369325075d672f2e6...   \n",
       "77    22e99593ec8f2eac0f8791de257f26fae02cc9e379e7e4...   \n",
       "107   adb3d8a02fd596cef7eb79089e0b1f6ce7a11683cd99b5...   \n",
       "112   f5fda8dddad11150281d5da4e19b04607dffd30db2f053...   \n",
       "146   3904c4d88acc2f6b1a3bc97523f5654fb3b78446b39936...   \n",
       "...                                                 ...   \n",
       "3998  6ad87ea39246908ef660feb4d8c279d40f60ce0c4bc7e7...   \n",
       "4054  306b8ba244eee6c3ad1e0a8689c9b9b7f08346ac95bd31...   \n",
       "4079  e41e785a68ecf8adbf381b47cceaf3722efda766346d1d...   \n",
       "4094  c8cd95fe7624419cea6c88ab695eff592992ce39ac78cc...   \n",
       "4101  37da8c1e236f44ba75cbf2a04754b2e5f0c492e2064890...   \n",
       "\n",
       "                                              documents  fns_indx  \\\n",
       "7     [(g4rl4xl, I appreciate all the work Woodward ...  0.454078   \n",
       "77    [(fdlir8g, \"Umm. I'm different. It matters if ...  0.537105   \n",
       "107   [(gntdrbu, I'd put Admiral General Emperor New...  0.528325   \n",
       "112   [(gmyuzwe, Disney is never getting a penny fro...  0.564727   \n",
       "146   [(jgtfdt, Doctor warns that fear has been weap...  0.502803   \n",
       "...                                                 ...       ...   \n",
       "3998  [(grz5dq3, They use our taxes to fund propagan...  0.525237   \n",
       "4054  [(gsyqrkj, Just because a variant could pop up...  0.450827   \n",
       "4079  [(m7h0no, More “Covid Suicides” than Covid Dea...  0.532394   \n",
       "4094  [(gag2gpz, Worth?, 2020-10-29 02:17:47, r/Cons...  0.599406   \n",
       "4101  [(gr2m1nw, But then we would have to give peop...  0.477314   \n",
       "\n",
       "      fake_news_spreader  \n",
       "7                      0  \n",
       "77                     0  \n",
       "107                    0  \n",
       "112                    1  \n",
       "146                    1  \n",
       "...                  ...  \n",
       "3998                   0  \n",
       "4054                   0  \n",
       "4079                   1  \n",
       "4094                   1  \n",
       "4101                   0  \n",
       "\n",
       "[243 rows x 4 columns]"
      ],
      "text/html": [
       "<div>\n",
       "<style scoped>\n",
       "    .dataframe tbody tr th:only-of-type {\n",
       "        vertical-align: middle;\n",
       "    }\n",
       "\n",
       "    .dataframe tbody tr th {\n",
       "        vertical-align: top;\n",
       "    }\n",
       "\n",
       "    .dataframe thead th {\n",
       "        text-align: right;\n",
       "    }\n",
       "</style>\n",
       "<table border=\"1\" class=\"dataframe\">\n",
       "  <thead>\n",
       "    <tr style=\"text-align: right;\">\n",
       "      <th></th>\n",
       "      <th>user_id</th>\n",
       "      <th>documents</th>\n",
       "      <th>fns_indx</th>\n",
       "      <th>fake_news_spreader</th>\n",
       "    </tr>\n",
       "  </thead>\n",
       "  <tbody>\n",
       "    <tr>\n",
       "      <th>7</th>\n",
       "      <td>67ffb77c37ab42f6c413c96155838369325075d672f2e6...</td>\n",
       "      <td>[(g4rl4xl, I appreciate all the work Woodward ...</td>\n",
       "      <td>0.454078</td>\n",
       "      <td>0</td>\n",
       "    </tr>\n",
       "    <tr>\n",
       "      <th>77</th>\n",
       "      <td>22e99593ec8f2eac0f8791de257f26fae02cc9e379e7e4...</td>\n",
       "      <td>[(fdlir8g, \"Umm. I'm different. It matters if ...</td>\n",
       "      <td>0.537105</td>\n",
       "      <td>0</td>\n",
       "    </tr>\n",
       "    <tr>\n",
       "      <th>107</th>\n",
       "      <td>adb3d8a02fd596cef7eb79089e0b1f6ce7a11683cd99b5...</td>\n",
       "      <td>[(gntdrbu, I'd put Admiral General Emperor New...</td>\n",
       "      <td>0.528325</td>\n",
       "      <td>0</td>\n",
       "    </tr>\n",
       "    <tr>\n",
       "      <th>112</th>\n",
       "      <td>f5fda8dddad11150281d5da4e19b04607dffd30db2f053...</td>\n",
       "      <td>[(gmyuzwe, Disney is never getting a penny fro...</td>\n",
       "      <td>0.564727</td>\n",
       "      <td>1</td>\n",
       "    </tr>\n",
       "    <tr>\n",
       "      <th>146</th>\n",
       "      <td>3904c4d88acc2f6b1a3bc97523f5654fb3b78446b39936...</td>\n",
       "      <td>[(jgtfdt, Doctor warns that fear has been weap...</td>\n",
       "      <td>0.502803</td>\n",
       "      <td>1</td>\n",
       "    </tr>\n",
       "    <tr>\n",
       "      <th>...</th>\n",
       "      <td>...</td>\n",
       "      <td>...</td>\n",
       "      <td>...</td>\n",
       "      <td>...</td>\n",
       "    </tr>\n",
       "    <tr>\n",
       "      <th>3998</th>\n",
       "      <td>6ad87ea39246908ef660feb4d8c279d40f60ce0c4bc7e7...</td>\n",
       "      <td>[(grz5dq3, They use our taxes to fund propagan...</td>\n",
       "      <td>0.525237</td>\n",
       "      <td>0</td>\n",
       "    </tr>\n",
       "    <tr>\n",
       "      <th>4054</th>\n",
       "      <td>306b8ba244eee6c3ad1e0a8689c9b9b7f08346ac95bd31...</td>\n",
       "      <td>[(gsyqrkj, Just because a variant could pop up...</td>\n",
       "      <td>0.450827</td>\n",
       "      <td>0</td>\n",
       "    </tr>\n",
       "    <tr>\n",
       "      <th>4079</th>\n",
       "      <td>e41e785a68ecf8adbf381b47cceaf3722efda766346d1d...</td>\n",
       "      <td>[(m7h0no, More “Covid Suicides” than Covid Dea...</td>\n",
       "      <td>0.532394</td>\n",
       "      <td>1</td>\n",
       "    </tr>\n",
       "    <tr>\n",
       "      <th>4094</th>\n",
       "      <td>c8cd95fe7624419cea6c88ab695eff592992ce39ac78cc...</td>\n",
       "      <td>[(gag2gpz, Worth?, 2020-10-29 02:17:47, r/Cons...</td>\n",
       "      <td>0.599406</td>\n",
       "      <td>1</td>\n",
       "    </tr>\n",
       "    <tr>\n",
       "      <th>4101</th>\n",
       "      <td>37da8c1e236f44ba75cbf2a04754b2e5f0c492e2064890...</td>\n",
       "      <td>[(gr2m1nw, But then we would have to give peop...</td>\n",
       "      <td>0.477314</td>\n",
       "      <td>0</td>\n",
       "    </tr>\n",
       "  </tbody>\n",
       "</table>\n",
       "<p>243 rows × 4 columns</p>\n",
       "</div>"
      ]
     },
     "execution_count": 26,
     "metadata": {},
     "output_type": "execute_result"
    }
   ],
   "execution_count": 26
  },
  {
   "metadata": {
    "ExecuteTime": {
     "end_time": "2024-12-05T13:25:06.253079Z",
     "start_time": "2024-12-05T13:25:04.063455Z"
    }
   },
   "cell_type": "code",
   "source": [
    "from transformers import AutoTokenizer, AutoModelForSequenceClassification\n",
    "from scipy.special import softmax\n",
    "\n",
    "model_name = \"cardiffnlp/twitter-roberta-base-sentiment\"\n",
    "tokenizer = AutoTokenizer.from_pretrained(model_name)\n",
    "model = AutoModelForSequenceClassification.from_pretrained(model_name)"
   ],
   "id": "e58454bd66d6d31d",
   "outputs": [],
   "execution_count": 42
  },
  {
   "metadata": {
    "ExecuteTime": {
     "end_time": "2024-12-05T13:25:00.433540Z",
     "start_time": "2024-12-05T13:25:00.424971Z"
    }
   },
   "cell_type": "code",
   "source": [
    "def get_sentiment(text):\n",
    "    encoded_text = tokenizer(text, return_tensors='pt', truncation=True, padding=True)\n",
    "    outputs = model(**encoded_text)\n",
    "    scores = outputs.logits.detach().numpy()[0]\n",
    "    probabilities = softmax(scores)\n",
    "\n",
    "    sentiments = ['negative', 'neutral', 'positive']\n",
    "    sentiment = sentiments[probabilities.argmax()]\n",
    "    return sentiment, probabilities"
   ],
   "id": "a2af47f7e6758d32",
   "outputs": [],
   "execution_count": 41
  },
  {
   "metadata": {
    "ExecuteTime": {
     "end_time": "2024-12-05T12:42:53.397176Z",
     "start_time": "2024-12-05T12:42:52.389422Z"
    }
   },
   "cell_type": "code",
   "source": [
    "from collections import defaultdict\n",
    "import networkx as nx\n",
    "import os\n",
    "user_to_idx = {user_id: idx for idx, user_id in enumerate(user_ids)}"
   ],
   "id": "127114fa9c661668",
   "outputs": [],
   "execution_count": 27
  },
  {
   "metadata": {
    "ExecuteTime": {
     "end_time": "2024-12-05T13:24:29.334454Z",
     "start_time": "2024-12-05T13:24:29.315192Z"
    }
   },
   "cell_type": "code",
   "source": [
    "for i in df_filtered.iterrows():\n",
    "                             for j in i[1]['documents']:\n",
    "                                    sentence = j[0]\n",
    "                                    print(j[0])\n",
    "                                    break"
   ],
   "id": "9f1aee7c7344aed8",
   "outputs": [
    {
     "name": "stdout",
     "output_type": "stream",
     "text": [
      "g4rl4xl\n",
      "fdlir8g\n",
      "gntdrbu\n",
      "gmyuzwe\n",
      "jgtfdt\n",
      "g2sceyp\n",
      "g8xgsz0\n",
      "iplp40\n",
      "glzeswe\n",
      "gmwylo9\n",
      "gjh1jx5\n",
      "fz77hbo\n",
      "fpwfnbj\n",
      "grem9he\n",
      "efmlghq\n",
      "gln6bto\n",
      "gadnkp8\n",
      "gkwje3f\n",
      "gn526nb\n",
      "gtkt88w\n",
      "g0lua4w\n",
      "ga4efxr\n",
      "g7jtd7f\n",
      "fdfsdie\n",
      "gqy49ip\n",
      "d8v0adq\n",
      "glzfevu\n",
      "g4l5wco\n",
      "g18ufat\n",
      "fxs98gj\n",
      "gedy3ll\n",
      "g3obtzh\n",
      "fdptnan\n",
      "fsusu1p\n",
      "9o5b7n\n",
      "ecl0rq2\n",
      "g5quslz\n",
      "gjza7ha\n",
      "gjbuydx\n",
      "gmn8hdu\n",
      "gohb3ln\n",
      "gc3coqg\n",
      "gu79ic5\n",
      "gltbgu5\n",
      "gp2r2nf\n",
      "ge6nc25\n",
      "g2m5v9n\n",
      "glefai2\n",
      "fy6xu9w\n",
      "g7cuu3h\n",
      "fsox8zj\n",
      "gmw2oe3\n",
      "gqunnsq\n",
      "g3owk3i\n",
      "grxg03y\n",
      "gbspbes\n",
      "evx2hxo\n",
      "fzof90m\n",
      "fg86c4l\n",
      "fctz6me\n",
      "gc1kulu\n",
      "gc1rqom\n",
      "gi5ublx\n",
      "gaw93nu\n",
      "fwe88ad\n",
      "fztfkaf\n",
      "gmxanin\n",
      "fejakd1\n",
      "gpcjvnw\n",
      "feirjgv\n",
      "gj6l47h\n",
      "g9hjb73\n",
      "gncg4ub\n",
      "g9kagqb\n",
      "g58abzb\n",
      "g0etwq7\n",
      "gi6xsd5\n",
      "gtulbzu\n",
      "g1snke9\n",
      "g8ptt3b\n",
      "glri9fv\n",
      "gizqf9g\n",
      "gntatrd\n",
      "jol5a3\n",
      "fz9t8yf\n",
      "gp4b3pn\n",
      "g12tv8s\n",
      "g815qp0\n",
      "g9ny6hc\n",
      "en1ei4\n",
      "gpta7o3\n",
      "gbu8k20\n",
      "fwtvoyt\n",
      "fcp5o5x\n",
      "gmww8w6\n",
      "g6cru9p\n",
      "gdu4w9j\n",
      "glh0lqy\n",
      "fe06nq7\n",
      "dculr5c\n",
      "gh1ini2\n",
      "g803oxw\n",
      "gmz3fq3\n",
      "fl74j4k\n",
      "g435w0o\n",
      "ghb69d7\n",
      "fxzrsm3\n",
      "gesmpp2\n",
      "g8mh24o\n",
      "g18u8ao\n",
      "gs6jrbu\n",
      "gmx52s8\n",
      "fczp2e9\n",
      "ghpzntw\n",
      "g51b6ot\n",
      "gms4trt\n",
      "gna5ed3\n",
      "ftmxpfe\n",
      "fprpet4\n",
      "gnv2324\n",
      "fxuz5lm\n",
      "gfnryl4\n",
      "fegxf5i\n",
      "fy9g62s\n",
      "glabpaw\n",
      "grl9dxd\n",
      "g4ev4we\n",
      "fqixrfh\n",
      "euwhkp2\n",
      "gnuxq1v\n",
      "g5abq2w\n",
      "g9sdevz\n",
      "gtizewz\n",
      "gcrwftn\n",
      "g3813e2\n",
      "gi2tbnp\n",
      "ggljnwq\n",
      "gjj6rsj\n",
      "etr082s\n",
      "e6ar2is\n",
      "g3mwsuk\n",
      "gazz66j\n",
      "gnhaykz\n",
      "gla8rdb\n",
      "dacas5p\n",
      "g6vnnot\n",
      "gs70ned\n",
      "f0ez6i1\n",
      "fxs3lv1\n",
      "fbbd26i\n",
      "fxy09dc\n",
      "g083213\n",
      "gl5o9w8\n",
      "g2ag0u5\n",
      "g623gn3\n",
      "doypjtz\n",
      "ggd7800\n",
      "gixy853\n",
      "g82w8xx\n",
      "gs75831\n",
      "jr2bko\n",
      "d30d01m\n",
      "g9m6cbl\n",
      "gjsgb9n\n",
      "g57y51x\n",
      "g0yuaed\n",
      "gng3j0n\n",
      "fdkq4xy\n",
      "gs5ejac\n",
      "g68wvmg\n",
      "grp9lpv\n",
      "gjrzc9b\n",
      "gms8bs5\n",
      "c3bzx8w\n",
      "fym4dd8\n",
      "gkmofw4\n",
      "gmsaxqv\n",
      "grhr7uz\n",
      "g7x3j6e\n",
      "gmxpc1s\n",
      "gtuphx9\n",
      "fzyhpte\n",
      "gn46f5k\n",
      "g2z0fmc\n",
      "gqtlr5g\n",
      "glz6we0\n",
      "fzqr9x8\n",
      "ft74t23\n",
      "fx9zgr7\n",
      "ghnvm7m\n",
      "gubk69z\n",
      "gu8o08r\n",
      "grwz9gg\n",
      "ejflyqi\n",
      "fvsq816\n",
      "gf2jz08\n",
      "fcwas24\n",
      "gqndnzc\n",
      "glckb0a\n",
      "gdufkj4\n",
      "gelhv8f\n",
      "gdncsxj\n",
      "ges5gtj\n",
      "g6sqkty\n",
      "gmz0won\n",
      "gnrqv8v\n",
      "gbobgu8\n",
      "gqmpl8n\n",
      "fee8ar5\n",
      "fd55gka\n",
      "g7u09m0\n",
      "eof15n\n",
      "geqod3v\n",
      "gqyyylu\n",
      "g7wp829\n",
      "flo7e6c\n",
      "gk4t9ao\n",
      "gs74n9a\n",
      "ge3vq08\n",
      "ghnhxth\n",
      "dhw34el\n",
      "f9zsjjv\n",
      "gkqp08t\n",
      "gm4n2ib\n",
      "iiturq\n",
      "da1m6gr\n",
      "gid8cib\n",
      "grxqv76\n",
      "grvwvf9\n",
      "gt65zay\n",
      "g9y92vb\n",
      "g6z1zzx\n",
      "fzdap42\n",
      "ggmrqox\n",
      "fdfb0ri\n",
      "f9jo13m\n",
      "fddxpts\n",
      "gloi0x4\n",
      "grz5dq3\n",
      "gsyqrkj\n",
      "m7h0no\n",
      "gag2gpz\n",
      "gr2m1nw\n"
     ]
    }
   ],
   "execution_count": 40
  },
  {
   "metadata": {
    "ExecuteTime": {
     "end_time": "2024-12-05T13:25:34.292605Z",
     "start_time": "2024-12-05T13:25:12.632946Z"
    }
   },
   "cell_type": "code",
   "source": [
    "edge_weights = defaultdict(int)\n",
    "sentences={}\n",
    "for filename in os.listdir(folder_path):\n",
    "    if filename.endswith('.txt'):\n",
    "        with open(os.path.join(folder_path, filename), 'r') as file:\n",
    "            for line in file:\n",
    "                parts = line.strip().split(';')\n",
    "                user_id = parts[0]\n",
    "                text_id=parts[1]\n",
    "                sentence=''\n",
    "                replied_user = parts[3]\n",
    "                reply_text = parts[5]\n",
    "                if user_id in df_filtered:\n",
    "                    if sentence not in sentences:\n",
    "                        for i in df_filtered.iterrows():\n",
    "                         if i[1]['user_id'] == user_id:\n",
    "                             for j in i[1]['documents']:\n",
    "                                if text_id == j[0]:\n",
    "                                    sentence = j[1]\n",
    "                        sentiment, probabilities = get_sentiment(sentence)\n",
    "                        sentences[sentence] = sentiment\n",
    "                    else:\n",
    "                        sentiment= sentences[sentence]\n",
    "                        \n",
    "                    if sentiment == 'positive' or sentiment == 'neutral':\n",
    "                        if user_id in user_to_idx and replied_user in user_to_idx:\n",
    "                            \n",
    "                            edge =  tuple(sorted((user_to_idx[user_id], user_to_idx[replied_user])))\n",
    "                            \n",
    "                            if sentiment == 'positive':\n",
    "                                edge_weights[edge] += 1\n",
    "                            else:\n",
    "                                edge_weights[edge] += 0.5\n",
    "                else:\n",
    "                    if user_id in user_to_idx and replied_user in user_to_idx:\n",
    "                        edge =  tuple(sorted((user_to_idx[user_id], user_to_idx[replied_user])))\n",
    "                        edge_weights[edge] += 1"
   ],
   "id": "aeab109a8d364ff4",
   "outputs": [],
   "execution_count": 43
  },
  {
   "metadata": {
    "ExecuteTime": {
     "end_time": "2024-12-05T13:25:48.613192Z",
     "start_time": "2024-12-05T13:25:47.781419Z"
    }
   },
   "cell_type": "code",
   "source": [
    "G = nx.Graph()\n",
    "for (u, v), weight in edge_weights.items():\n",
    "    G.add_edge(u, v, weight=weight)"
   ],
   "id": "63ae9c5b1c74ebb0",
   "outputs": [],
   "execution_count": 44
  },
  {
   "metadata": {},
   "cell_type": "markdown",
   "source": "# Node2Vec embeddings",
   "id": "c41162c4e0e557a5"
  },
  {
   "metadata": {
    "ExecuteTime": {
     "end_time": "2024-12-05T13:25:55.563539Z",
     "start_time": "2024-12-05T13:25:50.264096Z"
    }
   },
   "cell_type": "code",
   "source": [
    "import torch\n",
    "from torch_geometric.data import Data\n"
   ],
   "id": "474e9cd92654980a",
   "outputs": [],
   "execution_count": 45
  },
  {
   "metadata": {
    "ExecuteTime": {
     "end_time": "2024-12-05T13:26:46.740021Z",
     "start_time": "2024-12-05T13:26:45.266065Z"
    }
   },
   "cell_type": "code",
   "source": "from node2vec import Node2Vec",
   "id": "b125e783b96ff1a8",
   "outputs": [],
   "execution_count": 46
  },
  {
   "metadata": {
    "ExecuteTime": {
     "end_time": "2024-12-05T13:44:09.780619Z",
     "start_time": "2024-12-05T13:27:41.760736Z"
    }
   },
   "cell_type": "code",
   "source": "node2vec=Node2Vec(G, dimensions=64, walk_length=20, num_walks=100, workers=1) ",
   "id": "e9610f2041fe48ac",
   "outputs": [
    {
     "name": "stderr",
     "output_type": "stream",
     "text": [
      "Computing transition probabilities: 100%|██████████| 4150/4150 [12:21<00:00,  5.59it/s]\n",
      "Generating walks (CPU: 1): 100%|██████████| 100/100 [04:06<00:00,  2.46s/it]\n"
     ]
    }
   ],
   "execution_count": 47
  },
  {
   "metadata": {
    "ExecuteTime": {
     "end_time": "2024-12-05T13:48:29.242199Z",
     "start_time": "2024-12-05T13:44:23.646491Z"
    }
   },
   "cell_type": "code",
   "source": " model=node2vec.fit(window=10, min_count=1, batch_words=4)",
   "id": "b3469a761b6e37af",
   "outputs": [],
   "execution_count": 48
  },
  {
   "metadata": {
    "ExecuteTime": {
     "end_time": "2024-12-05T13:49:14.815035Z",
     "start_time": "2024-12-05T13:49:14.796999Z"
    }
   },
   "cell_type": "code",
   "source": "node_embeddings = {node: model.wv[str(node)] for node in G.nodes()}",
   "id": "ca609b62608c7079",
   "outputs": [],
   "execution_count": 49
  },
  {
   "metadata": {
    "ExecuteTime": {
     "end_time": "2024-12-04T21:17:03.177437Z",
     "start_time": "2024-12-04T21:17:03.163413Z"
    }
   },
   "cell_type": "code",
   "source": "user_to_idx = {user_id: idx for idx, user_id in enumerate(user_ids)}",
   "id": "79a02a1d238edf72",
   "outputs": [],
   "execution_count": 51
  },
  {
   "metadata": {
    "ExecuteTime": {
     "end_time": "2024-12-04T21:30:21.260811Z",
     "start_time": "2024-12-04T21:30:21.228767Z"
    }
   },
   "cell_type": "code",
   "source": "import numpy as np",
   "id": "8cdd7ad23bbc8751",
   "outputs": [],
   "execution_count": 66
  },
  {
   "metadata": {
    "ExecuteTime": {
     "end_time": "2024-12-04T22:36:57.501800Z",
     "start_time": "2024-12-04T22:36:53.150171Z"
    }
   },
   "cell_type": "code",
   "source": "nx.write_gexf(G,\"graph_data_new.gexf\")",
   "id": "ab718efb6382c5b",
   "outputs": [],
   "execution_count": 78
  },
  {
   "metadata": {},
   "cell_type": "markdown",
   "source": "#  TXT EMBEDDINGS",
   "id": "59352f2912feaebd"
  },
  {
   "metadata": {
    "ExecuteTime": {
     "end_time": "2024-12-05T12:43:46.250510Z",
     "start_time": "2024-12-05T12:43:37.257934Z"
    }
   },
   "cell_type": "code",
   "source": [
    "from transformers import AutoTokenizer, AutoModel\n",
    "import torch\n",
    "\n",
    "tokenizer = AutoTokenizer.from_pretrained(\"roberta-base\")\n",
    "model = AutoModel.from_pretrained(\"roberta-base\")\n"
   ],
   "id": "95810f237cd0dd2",
   "outputs": [
    {
     "name": "stderr",
     "output_type": "stream",
     "text": [
      "C:\\Users\\Dell\\PycharmProjects\\Manu_factoid_GCN\\.venv\\lib\\site-packages\\tqdm\\auto.py:21: TqdmWarning: IProgress not found. Please update jupyter and ipywidgets. See https://ipywidgets.readthedocs.io/en/stable/user_install.html\n",
      "  from .autonotebook import tqdm as notebook_tqdm\n",
      "Some weights of RobertaModel were not initialized from the model checkpoint at roberta-base and are newly initialized: ['roberta.pooler.dense.bias', 'roberta.pooler.dense.weight']\n",
      "You should probably TRAIN this model on a down-stream task to be able to use it for predictions and inference.\n"
     ]
    }
   ],
   "execution_count": 29
  },
  {
   "metadata": {
    "ExecuteTime": {
     "end_time": "2024-12-05T12:43:46.265703Z",
     "start_time": "2024-12-05T12:43:46.254722Z"
    }
   },
   "cell_type": "code",
   "source": [
    "def embed_text(text):\n",
    "    inputs = tokenizer(text, return_tensors=\"pt\", truncation=True, padding=True, max_length=512)\n",
    "    with torch.no_grad():\n",
    "        outputs = model(**inputs)\n",
    "    return outputs.last_hidden_state[:, 0, :].squeeze().numpy()\n"
   ],
   "id": "46ce033660dbdb67",
   "outputs": [],
   "execution_count": 30
  },
  {
   "metadata": {},
   "cell_type": "code",
   "outputs": [],
   "execution_count": null,
   "source": "",
   "id": "b61307fa43ff27e9"
  },
  {
   "metadata": {
    "ExecuteTime": {
     "end_time": "2024-12-05T13:19:47.000066Z",
     "start_time": "2024-12-05T12:43:50.806775Z"
    }
   },
   "cell_type": "code",
   "source": [
    "from tqdm import tqdm\n",
    "\n",
    "embeddings = []\n",
    "for document in tqdm(df_iter[\"documents\"], desc=\"Generating Text Embeddings\"):\n",
    "    sentences=\"\"\n",
    "    for i in document:\n",
    "        sentences=sentences+\"\\n\" + i[1]\n",
    "    embeddings.append(embed_text(sentences)) \n",
    "\n",
    "df_iter[\"text_embeddings\"] = embeddings"
   ],
   "id": "105e742bcc4f01d0",
   "outputs": [
    {
     "name": "stderr",
     "output_type": "stream",
     "text": [
      "Generating Text Embeddings: 100%|██████████| 4150/4150 [35:56<00:00,  1.92it/s]  \n"
     ]
    }
   ],
   "execution_count": 31
  },
  {
   "metadata": {
    "ExecuteTime": {
     "end_time": "2024-12-05T13:21:46.899936Z",
     "start_time": "2024-12-05T13:21:46.885163Z"
    }
   },
   "cell_type": "code",
   "source": [
    "user_features = df_iter.merge(data[[\"factual_factor\", \"user_id\"]], on='user_id')\n",
    "user_features[\"idx_id\"] = user_features[\"user_id\"].map(user_to_idx)"
   ],
   "id": "9ad4f65c97088021",
   "outputs": [],
   "execution_count": 33
  },
  {
   "metadata": {
    "ExecuteTime": {
     "end_time": "2024-12-05T13:21:52.896740Z",
     "start_time": "2024-12-05T13:21:52.624510Z"
    }
   },
   "cell_type": "code",
   "source": "user_features",
   "id": "86605f6383ac749f",
   "outputs": [
    {
     "data": {
      "text/plain": [
       "                                                user_id  \\\n",
       "0     ddf62a134f09db7a6056190d594bd41ff2f4cf04faf5db...   \n",
       "1     a78d753b103a2a4310ad6d1d49723733a6e4744bbf1beb...   \n",
       "2     19a734ee97b484a1a6c9625a1a3a0b5ddbabde3679ee2c...   \n",
       "3     d57699be1824c59714fb9a799b7b5b670227b07e2bde00...   \n",
       "4     26d0132074c91843483fb0f8b0378083f876d748be172b...   \n",
       "...                                                 ...   \n",
       "4145  e404255fd2be1d1e3c50c80f3ab21ec1be465c15d89541...   \n",
       "4146  e68fe2165fb6db674ae03dca13f1d14830d2a44853ebb2...   \n",
       "4147  cee6bf50d84a8287e957feed646da5aae981c53076acd9...   \n",
       "4148  95157a1c2c81dffdfacd4cfeb9fb62d82b6be831852ad3...   \n",
       "4149  265bde26afcab547a099f352a67bc462851b3d8b1b588c...   \n",
       "\n",
       "                                              documents  fns_indx  \\\n",
       "0     [(gloapg3, The fact that this has to be explai...  0.320701   \n",
       "1     [(fyfpnj4, Shelby County vs Holder. One of the...  0.323036   \n",
       "2     [(gmpzs0h, I've heard audio of him saying he'd...  0.321959   \n",
       "3     [(gghar1g, No. The democrats and with as many ...  0.337062   \n",
       "4     [(fyropxg, So, two weeks at Club Fed and 5 las...  0.323036   \n",
       "...                                                 ...       ...   \n",
       "4145  [(fz673tq, Somebody literally said that to me ...  0.324963   \n",
       "4146  [(gkezeid, Please dont insult sex workers. The...  0.295911   \n",
       "4147  [(fvlkgw8, 7,000 max. Womp womp., 2020-06-22 0...  0.323036   \n",
       "4148  [(fztr5v7, Just imagine how tired Cucker Tarls...  0.322109   \n",
       "4149  [(g6pwown, It’s only a good lesson if Biden an...  0.319743   \n",
       "\n",
       "      fake_news_spreader                                    text_embeddings  \\\n",
       "0                      0  [-0.05873113, 0.06430521, 0.004645394, -0.1160...   \n",
       "1                      0  [-0.06291658, 0.039699122, 0.015640024, -0.074...   \n",
       "2                      0  [-0.080647215, 0.03437587, 0.002277542, -0.103...   \n",
       "3                      0  [-0.08912592, 0.07326461, 0.012941355, -0.1098...   \n",
       "4                      1  [-0.06793897, 0.041282933, 0.015860328, -0.074...   \n",
       "...                  ...                                                ...   \n",
       "4145                   0  [-0.066843085, 0.08750501, 0.01217487, -0.1012...   \n",
       "4146                   0  [-0.05996017, 0.02423735, 0.006826237, -0.0771...   \n",
       "4147                   0  [-0.073933095, 0.04092048, 0.0014968999, -0.10...   \n",
       "4148                   0  [-0.078182355, 0.053874366, 0.021487318, -0.09...   \n",
       "4149                   0  [-0.06776806, 0.041435353, 0.016210513, -0.109...   \n",
       "\n",
       "      factual_factor  idx_id  \n",
       "0           1.666667       0  \n",
       "1           2.000000       1  \n",
       "2           2.015873       2  \n",
       "3           1.500000       3  \n",
       "4           0.583333       4  \n",
       "...              ...     ...  \n",
       "4145        1.800000    4145  \n",
       "4146        1.800000    4146  \n",
       "4147        2.600000    4147  \n",
       "4148        2.000000    4148  \n",
       "4149        2.111111    4149  \n",
       "\n",
       "[4150 rows x 7 columns]"
      ],
      "text/html": [
       "<div>\n",
       "<style scoped>\n",
       "    .dataframe tbody tr th:only-of-type {\n",
       "        vertical-align: middle;\n",
       "    }\n",
       "\n",
       "    .dataframe tbody tr th {\n",
       "        vertical-align: top;\n",
       "    }\n",
       "\n",
       "    .dataframe thead th {\n",
       "        text-align: right;\n",
       "    }\n",
       "</style>\n",
       "<table border=\"1\" class=\"dataframe\">\n",
       "  <thead>\n",
       "    <tr style=\"text-align: right;\">\n",
       "      <th></th>\n",
       "      <th>user_id</th>\n",
       "      <th>documents</th>\n",
       "      <th>fns_indx</th>\n",
       "      <th>fake_news_spreader</th>\n",
       "      <th>text_embeddings</th>\n",
       "      <th>factual_factor</th>\n",
       "      <th>idx_id</th>\n",
       "    </tr>\n",
       "  </thead>\n",
       "  <tbody>\n",
       "    <tr>\n",
       "      <th>0</th>\n",
       "      <td>ddf62a134f09db7a6056190d594bd41ff2f4cf04faf5db...</td>\n",
       "      <td>[(gloapg3, The fact that this has to be explai...</td>\n",
       "      <td>0.320701</td>\n",
       "      <td>0</td>\n",
       "      <td>[-0.05873113, 0.06430521, 0.004645394, -0.1160...</td>\n",
       "      <td>1.666667</td>\n",
       "      <td>0</td>\n",
       "    </tr>\n",
       "    <tr>\n",
       "      <th>1</th>\n",
       "      <td>a78d753b103a2a4310ad6d1d49723733a6e4744bbf1beb...</td>\n",
       "      <td>[(fyfpnj4, Shelby County vs Holder. One of the...</td>\n",
       "      <td>0.323036</td>\n",
       "      <td>0</td>\n",
       "      <td>[-0.06291658, 0.039699122, 0.015640024, -0.074...</td>\n",
       "      <td>2.000000</td>\n",
       "      <td>1</td>\n",
       "    </tr>\n",
       "    <tr>\n",
       "      <th>2</th>\n",
       "      <td>19a734ee97b484a1a6c9625a1a3a0b5ddbabde3679ee2c...</td>\n",
       "      <td>[(gmpzs0h, I've heard audio of him saying he'd...</td>\n",
       "      <td>0.321959</td>\n",
       "      <td>0</td>\n",
       "      <td>[-0.080647215, 0.03437587, 0.002277542, -0.103...</td>\n",
       "      <td>2.015873</td>\n",
       "      <td>2</td>\n",
       "    </tr>\n",
       "    <tr>\n",
       "      <th>3</th>\n",
       "      <td>d57699be1824c59714fb9a799b7b5b670227b07e2bde00...</td>\n",
       "      <td>[(gghar1g, No. The democrats and with as many ...</td>\n",
       "      <td>0.337062</td>\n",
       "      <td>0</td>\n",
       "      <td>[-0.08912592, 0.07326461, 0.012941355, -0.1098...</td>\n",
       "      <td>1.500000</td>\n",
       "      <td>3</td>\n",
       "    </tr>\n",
       "    <tr>\n",
       "      <th>4</th>\n",
       "      <td>26d0132074c91843483fb0f8b0378083f876d748be172b...</td>\n",
       "      <td>[(fyropxg, So, two weeks at Club Fed and 5 las...</td>\n",
       "      <td>0.323036</td>\n",
       "      <td>1</td>\n",
       "      <td>[-0.06793897, 0.041282933, 0.015860328, -0.074...</td>\n",
       "      <td>0.583333</td>\n",
       "      <td>4</td>\n",
       "    </tr>\n",
       "    <tr>\n",
       "      <th>...</th>\n",
       "      <td>...</td>\n",
       "      <td>...</td>\n",
       "      <td>...</td>\n",
       "      <td>...</td>\n",
       "      <td>...</td>\n",
       "      <td>...</td>\n",
       "      <td>...</td>\n",
       "    </tr>\n",
       "    <tr>\n",
       "      <th>4145</th>\n",
       "      <td>e404255fd2be1d1e3c50c80f3ab21ec1be465c15d89541...</td>\n",
       "      <td>[(fz673tq, Somebody literally said that to me ...</td>\n",
       "      <td>0.324963</td>\n",
       "      <td>0</td>\n",
       "      <td>[-0.066843085, 0.08750501, 0.01217487, -0.1012...</td>\n",
       "      <td>1.800000</td>\n",
       "      <td>4145</td>\n",
       "    </tr>\n",
       "    <tr>\n",
       "      <th>4146</th>\n",
       "      <td>e68fe2165fb6db674ae03dca13f1d14830d2a44853ebb2...</td>\n",
       "      <td>[(gkezeid, Please dont insult sex workers. The...</td>\n",
       "      <td>0.295911</td>\n",
       "      <td>0</td>\n",
       "      <td>[-0.05996017, 0.02423735, 0.006826237, -0.0771...</td>\n",
       "      <td>1.800000</td>\n",
       "      <td>4146</td>\n",
       "    </tr>\n",
       "    <tr>\n",
       "      <th>4147</th>\n",
       "      <td>cee6bf50d84a8287e957feed646da5aae981c53076acd9...</td>\n",
       "      <td>[(fvlkgw8, 7,000 max. Womp womp., 2020-06-22 0...</td>\n",
       "      <td>0.323036</td>\n",
       "      <td>0</td>\n",
       "      <td>[-0.073933095, 0.04092048, 0.0014968999, -0.10...</td>\n",
       "      <td>2.600000</td>\n",
       "      <td>4147</td>\n",
       "    </tr>\n",
       "    <tr>\n",
       "      <th>4148</th>\n",
       "      <td>95157a1c2c81dffdfacd4cfeb9fb62d82b6be831852ad3...</td>\n",
       "      <td>[(fztr5v7, Just imagine how tired Cucker Tarls...</td>\n",
       "      <td>0.322109</td>\n",
       "      <td>0</td>\n",
       "      <td>[-0.078182355, 0.053874366, 0.021487318, -0.09...</td>\n",
       "      <td>2.000000</td>\n",
       "      <td>4148</td>\n",
       "    </tr>\n",
       "    <tr>\n",
       "      <th>4149</th>\n",
       "      <td>265bde26afcab547a099f352a67bc462851b3d8b1b588c...</td>\n",
       "      <td>[(g6pwown, It’s only a good lesson if Biden an...</td>\n",
       "      <td>0.319743</td>\n",
       "      <td>0</td>\n",
       "      <td>[-0.06776806, 0.041435353, 0.016210513, -0.109...</td>\n",
       "      <td>2.111111</td>\n",
       "      <td>4149</td>\n",
       "    </tr>\n",
       "  </tbody>\n",
       "</table>\n",
       "<p>4150 rows × 7 columns</p>\n",
       "</div>"
      ]
     },
     "execution_count": 34,
     "metadata": {},
     "output_type": "execute_result"
    }
   ],
   "execution_count": 34
  },
  {
   "metadata": {
    "ExecuteTime": {
     "end_time": "2024-12-05T13:22:56.252356Z",
     "start_time": "2024-12-05T13:22:56.238179Z"
    }
   },
   "cell_type": "code",
   "source": "user_features=user_features.drop(columns=\"documents\")",
   "id": "4b890fdf81c3b344",
   "outputs": [],
   "execution_count": 36
  },
  {
   "metadata": {
    "ExecuteTime": {
     "end_time": "2024-12-05T13:23:22.327635Z",
     "start_time": "2024-12-05T13:23:11.505255Z"
    }
   },
   "cell_type": "code",
   "source": "user_features.to_csv(\"user_embeddings.csv\", index=False)",
   "id": "21539d19969e1e5a",
   "outputs": [],
   "execution_count": 37
  },
  {
   "metadata": {
    "ExecuteTime": {
     "end_time": "2024-12-05T13:49:41.075102Z",
     "start_time": "2024-12-05T13:49:41.058274Z"
    }
   },
   "cell_type": "code",
   "source": "user_features['embedding'] = user_features['idx_id'].map(node_embeddings)",
   "id": "3c14a0b5a442e848",
   "outputs": [],
   "execution_count": 50
  },
  {
   "metadata": {
    "ExecuteTime": {
     "end_time": "2024-12-05T13:49:46.890446Z",
     "start_time": "2024-12-05T13:49:46.873455Z"
    }
   },
   "cell_type": "code",
   "source": [
    "user_features=user_features.drop(columns=['fake_news_spreader',\"idx_id\",\"user_id\"])\n",
    "user_features[\"factual_factor\"]=user_features[\"factual_factor\"].fillna(0)"
   ],
   "id": "53e216bfc1d82df4",
   "outputs": [],
   "execution_count": 51
  },
  {
   "metadata": {
    "ExecuteTime": {
     "end_time": "2024-12-05T13:50:00.028421Z",
     "start_time": "2024-12-05T13:50:00.012026Z"
    }
   },
   "cell_type": "code",
   "source": "import numpy as np",
   "id": "33157bdb88f13ebc",
   "outputs": [],
   "execution_count": 53
  },
  {
   "metadata": {
    "ExecuteTime": {
     "end_time": "2024-12-05T13:50:00.994457Z",
     "start_time": "2024-12-05T13:50:00.967022Z"
    }
   },
   "cell_type": "code",
   "source": [
    "feature_matrix = np.array([\n",
    "    np.concatenate((embedding, [fns_indx, factual_factor]))\n",
    "    for embedding, fns_indx, factual_factor in zip(\n",
    "        user_features['embedding'], user_features['fns_indx'], user_features['factual_factor']\n",
    "    )\n",
    "])"
   ],
   "id": "8934e4e18fa839fa",
   "outputs": [],
   "execution_count": 54
  },
  {
   "metadata": {
    "ExecuteTime": {
     "end_time": "2024-12-05T13:50:02.941967Z",
     "start_time": "2024-12-05T13:50:02.775630Z"
    }
   },
   "cell_type": "code",
   "source": [
    "edge_index = torch.tensor(list(G.edges), dtype=torch.long).t().contiguous()\n",
    "x = torch.tensor(feature_matrix, dtype=torch.float)\n",
    "y = torch.tensor(df_iter['fake_news_spreader'].values, dtype=torch.long)\n",
    "edge_weight = torch.tensor([e[2] for e in edges], dtype=torch.float)"
   ],
   "id": "93c49c1f480d1725",
   "outputs": [],
   "execution_count": 55
  },
  {
   "metadata": {
    "ExecuteTime": {
     "end_time": "2024-12-05T13:50:10.751414Z",
     "start_time": "2024-12-05T13:50:10.740974Z"
    }
   },
   "cell_type": "code",
   "source": [
    "tdata = Data(x=x, edge_index=edge_index, y=y, edge_weights=edge_weight)\n",
    "tdata"
   ],
   "id": "ccd476fdef876249",
   "outputs": [
    {
     "data": {
      "text/plain": [
       "Data(x=[4150, 66], edge_index=[2, 439838], y=[4150], edge_weights=[0])"
      ]
     },
     "execution_count": 56,
     "metadata": {},
     "output_type": "execute_result"
    }
   ],
   "execution_count": 56
  },
  {
   "metadata": {
    "ExecuteTime": {
     "end_time": "2024-12-05T13:50:14.389274Z",
     "start_time": "2024-12-05T13:50:14.376236Z"
    }
   },
   "cell_type": "code",
   "source": "torch.save(tdata, 'graph_data_with_txt.pt')",
   "id": "682cd70a59dd8f4c",
   "outputs": [],
   "execution_count": 57
  },
  {
   "metadata": {},
   "cell_type": "markdown",
   "source": "## Same but for a user's most active sub. Bad info, ignore",
   "id": "90cec00361638eb1"
  },
  {
   "metadata": {
    "ExecuteTime": {
     "end_time": "2024-12-05T11:48:13.906960Z",
     "start_time": "2024-12-05T11:48:13.886146Z"
    }
   },
   "cell_type": "code",
   "source": "most_active_subreddits",
   "id": "4e7965ed8c5d97b",
   "outputs": [
    {
     "data": {
      "text/plain": [
       "                                                user_id       subreddit  \\\n",
       "0     0003fafe378856de02194efe58a6c078dc1e6ddd9efb20...      r/politics   \n",
       "1     000bcb5df7671b9cb7937c736d2f66d497de3ca3563ec7...  r/Conservative   \n",
       "2     000fc015bdba09569fc127b9750a670ccbf17167c38a92...      r/politics   \n",
       "3     001f7fbf5fa8504bccacb2cbf654a6b40b62ce35730409...      r/politics   \n",
       "4     002ee190725837df6104a29b8370401e57b64c266a0d5c...      r/politics   \n",
       "...                                                 ...             ...   \n",
       "4145  ffb4297eefd0161a85ebe32cda3e5d61148497629df4e7...      r/politics   \n",
       "4146  ffd6820592d6595c628ce9c748d8e5de728ea2397ec8d5...  r/Conservative   \n",
       "4147  ffd8c54ae6a30b53c389b206cece0b8ec29a810ed6f60f...      r/politics   \n",
       "4148  ffeb2319b79d8cbee91ec2d70dcc053297f9710895d54d...      r/politics   \n",
       "4149  fff7c3608c9364ba59290b628a64198d62f4b418a6b9f7...      r/politics   \n",
       "\n",
       "      percentage  fake_news_spreader  \n",
       "0      87.640449                 0.0  \n",
       "1      97.389474                 0.0  \n",
       "2     100.000000                 0.0  \n",
       "3      85.789474                 0.0  \n",
       "4      96.967655                 1.0  \n",
       "...          ...                 ...  \n",
       "4145  100.000000                 0.0  \n",
       "4146  100.000000                 0.0  \n",
       "4147   89.516129                 0.0  \n",
       "4148   72.727273                 1.0  \n",
       "4149   95.974576                 0.0  \n",
       "\n",
       "[4150 rows x 4 columns]"
      ],
      "text/html": [
       "<div>\n",
       "<style scoped>\n",
       "    .dataframe tbody tr th:only-of-type {\n",
       "        vertical-align: middle;\n",
       "    }\n",
       "\n",
       "    .dataframe tbody tr th {\n",
       "        vertical-align: top;\n",
       "    }\n",
       "\n",
       "    .dataframe thead th {\n",
       "        text-align: right;\n",
       "    }\n",
       "</style>\n",
       "<table border=\"1\" class=\"dataframe\">\n",
       "  <thead>\n",
       "    <tr style=\"text-align: right;\">\n",
       "      <th></th>\n",
       "      <th>user_id</th>\n",
       "      <th>subreddit</th>\n",
       "      <th>percentage</th>\n",
       "      <th>fake_news_spreader</th>\n",
       "    </tr>\n",
       "  </thead>\n",
       "  <tbody>\n",
       "    <tr>\n",
       "      <th>0</th>\n",
       "      <td>0003fafe378856de02194efe58a6c078dc1e6ddd9efb20...</td>\n",
       "      <td>r/politics</td>\n",
       "      <td>87.640449</td>\n",
       "      <td>0.0</td>\n",
       "    </tr>\n",
       "    <tr>\n",
       "      <th>1</th>\n",
       "      <td>000bcb5df7671b9cb7937c736d2f66d497de3ca3563ec7...</td>\n",
       "      <td>r/Conservative</td>\n",
       "      <td>97.389474</td>\n",
       "      <td>0.0</td>\n",
       "    </tr>\n",
       "    <tr>\n",
       "      <th>2</th>\n",
       "      <td>000fc015bdba09569fc127b9750a670ccbf17167c38a92...</td>\n",
       "      <td>r/politics</td>\n",
       "      <td>100.000000</td>\n",
       "      <td>0.0</td>\n",
       "    </tr>\n",
       "    <tr>\n",
       "      <th>3</th>\n",
       "      <td>001f7fbf5fa8504bccacb2cbf654a6b40b62ce35730409...</td>\n",
       "      <td>r/politics</td>\n",
       "      <td>85.789474</td>\n",
       "      <td>0.0</td>\n",
       "    </tr>\n",
       "    <tr>\n",
       "      <th>4</th>\n",
       "      <td>002ee190725837df6104a29b8370401e57b64c266a0d5c...</td>\n",
       "      <td>r/politics</td>\n",
       "      <td>96.967655</td>\n",
       "      <td>1.0</td>\n",
       "    </tr>\n",
       "    <tr>\n",
       "      <th>...</th>\n",
       "      <td>...</td>\n",
       "      <td>...</td>\n",
       "      <td>...</td>\n",
       "      <td>...</td>\n",
       "    </tr>\n",
       "    <tr>\n",
       "      <th>4145</th>\n",
       "      <td>ffb4297eefd0161a85ebe32cda3e5d61148497629df4e7...</td>\n",
       "      <td>r/politics</td>\n",
       "      <td>100.000000</td>\n",
       "      <td>0.0</td>\n",
       "    </tr>\n",
       "    <tr>\n",
       "      <th>4146</th>\n",
       "      <td>ffd6820592d6595c628ce9c748d8e5de728ea2397ec8d5...</td>\n",
       "      <td>r/Conservative</td>\n",
       "      <td>100.000000</td>\n",
       "      <td>0.0</td>\n",
       "    </tr>\n",
       "    <tr>\n",
       "      <th>4147</th>\n",
       "      <td>ffd8c54ae6a30b53c389b206cece0b8ec29a810ed6f60f...</td>\n",
       "      <td>r/politics</td>\n",
       "      <td>89.516129</td>\n",
       "      <td>0.0</td>\n",
       "    </tr>\n",
       "    <tr>\n",
       "      <th>4148</th>\n",
       "      <td>ffeb2319b79d8cbee91ec2d70dcc053297f9710895d54d...</td>\n",
       "      <td>r/politics</td>\n",
       "      <td>72.727273</td>\n",
       "      <td>1.0</td>\n",
       "    </tr>\n",
       "    <tr>\n",
       "      <th>4149</th>\n",
       "      <td>fff7c3608c9364ba59290b628a64198d62f4b418a6b9f7...</td>\n",
       "      <td>r/politics</td>\n",
       "      <td>95.974576</td>\n",
       "      <td>0.0</td>\n",
       "    </tr>\n",
       "  </tbody>\n",
       "</table>\n",
       "<p>4150 rows × 4 columns</p>\n",
       "</div>"
      ]
     },
     "execution_count": 79,
     "metadata": {},
     "output_type": "execute_result"
    }
   ],
   "execution_count": 79
  },
  {
   "metadata": {
    "ExecuteTime": {
     "end_time": "2024-12-04T20:03:19.304651300Z",
     "start_time": "2024-11-21T11:05:30.242585Z"
    }
   },
   "cell_type": "code",
   "source": [
    "subreddit_counts = most_active_subreddits.groupby('subreddit')['fake_news_spreader'].agg(\n",
    "    total_count='count',\n",
    "    fake_news_count='sum'\n",
    ").reset_index()\n",
    "\n",
    "subreddit_counts['fake_news_normalized'] = subreddit_counts['fake_news_count'] / subreddit_counts['total_count']\n",
    "\n",
    "print(subreddit_counts)"
   ],
   "id": "d33ea9a4a8759527",
   "outputs": [
    {
     "name": "stdout",
     "output_type": "stream",
     "text": [
      "                 subreddit  total_count  fake_news_count  fake_news_normalized\n",
      "0               r/5GDebate            2                1              0.500000\n",
      "1         r/Abortiondebate            8                2              0.250000\n",
      "2            r/AntiVaxxers            3                2              0.666667\n",
      "3                r/COVID19            1                0              0.000000\n",
      "4           r/Conservative          502              142              0.282869\n",
      "5      r/ConservativesOnly            3                1              0.333333\n",
      "6            r/Coronavirus           91               28              0.307692\n",
      "7      r/CoronavirusCanada            1                0              0.000000\n",
      "8          r/CoronavirusUK           11                3              0.272727\n",
      "9          r/CoronavirusUS            4                2              0.500000\n",
      "10       r/CovidVaccinated            1                1              1.000000\n",
      "11         r/DebateVaccine            3                0              0.000000\n",
      "12        r/DebateVaccines           30                6              0.200000\n",
      "13        r/Egalitarianism            1                0              0.000000\n",
      "14       r/EndTheLockdowns            2                0              0.000000\n",
      "15              r/Firearms           25               10              0.400000\n",
      "16           r/GunsAreCool            4                1              0.250000\n",
      "17         r/Impeach_Trump            5                1              0.200000\n",
      "18              r/JoeBiden           68               19              0.279412\n",
      "19               r/Liberal            2                1              0.500000\n",
      "20  r/LockdownCriticalLeft            6                1              0.166667\n",
      "21    r/LockdownSkepticism           78               26              0.333333\n",
      "22             r/Masks4All            3                1              0.333333\n",
      "23            r/MensRights           66               16              0.242424\n",
      "24    r/NoLockdownsNoMasks            1                0              0.000000\n",
      "25           r/NoNewNormal          131               27              0.206107\n",
      "26            r/Republican           11                4              0.363636\n",
      "27      r/RepublicanValues            1                0              0.000000\n",
      "28   r/TrueAntiVaccination            4                1              0.250000\n",
      "29              r/VACCINES            1                0              0.000000\n",
      "30         r/antifeminists            1                0              0.000000\n",
      "31         r/climatechange           14                2              0.142857\n",
      "32       r/climateskeptics           27                6              0.222222\n",
      "33         r/conservatives           19                5              0.263158\n",
      "34             r/democrats            8                3              0.375000\n",
      "35             r/feminisms            4                0              0.000000\n",
      "36           r/gunpolitics            2                1              0.500000\n",
      "37      r/liberalgunowners           13                4              0.307692\n",
      "38              r/politics         2947              756              0.256532\n",
      "39             r/prochoice            4                1              0.250000\n",
      "40                r/progun           19                7              0.368421\n",
      "41               r/prolife            8                0              0.000000\n",
      "42            r/uspolitics            8                1              0.125000\n",
      "43          r/vaxxhappened            7                4              0.571429\n"
     ]
    }
   ],
   "execution_count": 16
  },
  {
   "metadata": {},
   "cell_type": "markdown",
   "source": "# Visualiziations",
   "id": "1339ed4f4eff64f0"
  },
  {
   "metadata": {
    "ExecuteTime": {
     "end_time": "2024-12-04T20:03:19.304651300Z",
     "start_time": "2024-11-08T10:37:40.476264Z"
    }
   },
   "cell_type": "code",
   "source": [
    "import matplotlib.pyplot as plt\n",
    "import seaborn as sns\n",
    "sns.set(style=\"whitegrid\")"
   ],
   "id": "867be25c0923529f",
   "outputs": [],
   "execution_count": 27
  },
  {
   "metadata": {
    "ExecuteTime": {
     "end_time": "2024-12-04T20:03:19.304651300Z",
     "start_time": "2024-11-08T10:37:43.702694Z"
    }
   },
   "cell_type": "code",
   "source": "most_active_subreddits = most_active_subreddits.sort_values(by='percentage', ascending=False)",
   "id": "d32662719f96e722",
   "outputs": [],
   "execution_count": 28
  },
  {
   "metadata": {
    "ExecuteTime": {
     "end_time": "2024-12-04T20:03:19.304651300Z",
     "start_time": "2024-11-08T10:47:19.902794Z"
    }
   },
   "cell_type": "code",
   "source": [
    "subreddit_averages = most_active_subreddits.groupby('subreddit')['percentage'].mean().sort_values(ascending=False).head(20)\n",
    "\n",
    "plt.figure(figsize=(12, 8))\n",
    "sns.barplot(\n",
    "    x=subreddit_averages.index,\n",
    "    y=subreddit_averages.values,\n",
    "    palette=\"viridis\"\n",
    ")\n",
    "plt.xlabel('Subreddit')\n",
    "plt.ylabel('Average Percentage of Posts')\n",
    "plt.title(\"Average Percentage of Posts by Subreddit\")\n",
    "plt.xticks(rotation=90)\n",
    "plt.tight_layout()\n",
    "plt.show()\n"
   ],
   "id": "46e0f98f08067524",
   "outputs": [
    {
     "name": "stderr",
     "output_type": "stream",
     "text": [
      "C:\\Users\\petar\\AppData\\Local\\Temp\\ipykernel_22756\\1935291511.py:4: FutureWarning: \n",
      "\n",
      "Passing `palette` without assigning `hue` is deprecated and will be removed in v0.14.0. Assign the `x` variable to `hue` and set `legend=False` for the same effect.\n",
      "\n",
      "  sns.barplot(\n"
     ]
    },
    {
     "data": {
      "text/plain": [
       "<Figure size 1200x800 with 1 Axes>"
      ],
      "image/png": "[encoded data removed]"
     },
     "metadata": {},
     "output_type": "display_data"
    }
   ],
   "execution_count": 32
  },
  {
   "metadata": {
    "ExecuteTime": {
     "end_time": "2024-12-04T20:03:19.312674500Z",
     "start_time": "2024-11-08T10:52:35.764581Z"
    }
   },
   "cell_type": "code",
   "source": [
    "# Define the percentage bins\n",
    "bins = list(range(0, 105, 5))  # 0 to 100 with steps of 5\n",
    "labels = [f'{i}-{i+5}%' for i in bins[:-1]]\n",
    "most_active_subreddits['percentage_bin'] = pd.cut(most_active_subreddits['percentage'], bins=bins, labels=labels, right=False)\n",
    "bin_counts = most_active_subreddits['percentage_bin'].value_counts().sort_index()\n"
   ],
   "id": "a8288ffa462446c",
   "outputs": [],
   "execution_count": 38
  },
  {
   "metadata": {
    "ExecuteTime": {
     "end_time": "2024-12-04T20:03:19.312674500Z",
     "start_time": "2024-11-08T10:52:36.569005Z"
    }
   },
   "cell_type": "code",
   "source": "bin_counts",
   "id": "c5ffbc4605826319",
   "outputs": [
    {
     "data": {
      "text/plain": [
       "percentage_bin\n",
       "0-5%          0\n",
       "5-10%         0\n",
       "10-15%        0\n",
       "15-20%        1\n",
       "20-25%        1\n",
       "25-30%        5\n",
       "30-35%       15\n",
       "35-40%       39\n",
       "40-45%       49\n",
       "45-50%       75\n",
       "50-55%       76\n",
       "55-60%       86\n",
       "60-65%       89\n",
       "65-70%      116\n",
       "70-75%      133\n",
       "75-80%      140\n",
       "80-85%      158\n",
       "85-90%      251\n",
       "90-95%      384\n",
       "95-100%    1512\n",
       "Name: count, dtype: int64"
      ]
     },
     "execution_count": 39,
     "metadata": {},
     "output_type": "execute_result"
    }
   ],
   "execution_count": 39
  },
  {
   "metadata": {
    "ExecuteTime": {
     "end_time": "2024-12-04T20:03:19.312674500Z",
     "start_time": "2024-11-08T10:52:56.831820Z"
    }
   },
   "cell_type": "code",
   "source": [
    "plt.figure(figsize=(14, 8))\n",
    "sns.barplot(x=bin_counts.index, y=bin_counts.values, palette=\"viridis\")\n",
    "plt.xticks(rotation=90)\n",
    "plt.xlabel('Percentage of Posts in Most Active Subreddit')\n",
    "plt.ylabel('Number of Users')\n",
    "plt.title('Distribution of Users by Activity in Their Most Active Subreddit')\n",
    "plt.show()"
   ],
   "id": "de7c20659a631654",
   "outputs": [
    {
     "name": "stderr",
     "output_type": "stream",
     "text": [
      "C:\\Users\\petar\\AppData\\Local\\Temp\\ipykernel_22756\\1197852936.py:2: FutureWarning: \n",
      "\n",
      "Passing `palette` without assigning `hue` is deprecated and will be removed in v0.14.0. Assign the `x` variable to `hue` and set `legend=False` for the same effect.\n",
      "\n",
      "  sns.barplot(x=bin_counts.index, y=bin_counts.values, palette=\"viridis\")\n"
     ]
    },
    {
     "data": {
      "text/plain": [
       "<Figure size 1400x800 with 1 Axes>"
      ],
      "image/png": "[encoded data removed]"
     },
     "metadata": {},
     "output_type": "display_data"
    }
   ],
   "execution_count": 40
  },
  {
   "metadata": {},
   "cell_type": "code",
   "outputs": [],
   "execution_count": null,
   "source": "",
   "id": "98619564534e5de9"
  }
 ],
 "metadata": {
  "kernelspec": {
   "display_name": "manu_factoid",
   "language": "python",
   "name": "manu_factoid"
  },
  "language_info": {
   "codemirror_mode": {
    "name": "ipython",
    "version": 2
   },
   "file_extension": ".py",
   "mimetype": "text/x-python",
   "name": "python",
   "nbconvert_exporter": "python",
   "pygments_lexer": "ipython2",
   "version": "2.7.6"
  }
 },
 "nbformat": 4,
 "nbformat_minor": 5
}
