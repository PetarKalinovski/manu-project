{
 "cells": [
  {
   "metadata": {
    "ExecuteTime": {
     "end_time": "2025-01-06T12:48:49.927859Z",
     "start_time": "2025-01-06T12:48:49.906863Z"
    }
   },
   "cell_type": "code",
   "source": "import torch",
   "id": "95c2a881779b79e2",
   "outputs": [],
   "execution_count": 65
  },
  {
   "cell_type": "code",
   "id": "initial_id",
   "metadata": {
    "collapsed": true,
    "ExecuteTime": {
     "end_time": "2025-01-06T13:59:37.852314Z",
     "start_time": "2025-01-06T13:59:35.896939Z"
    }
   },
   "source": [
    "import torch\n",
    "from sympy.printing.tensorflow import tensorflow"
   ],
   "outputs": [],
   "execution_count": 1
  },
  {
   "metadata": {
    "ExecuteTime": {
     "end_time": "2025-01-06T13:59:58.894619Z",
     "start_time": "2025-01-06T13:59:56.520168Z"
    }
   },
   "cell_type": "code",
   "source": "pip install torch-geometric",
   "id": "7d1fe6925ac49011",
   "outputs": [
    {
     "name": "stdout",
     "output_type": "stream",
     "text": [
      "Requirement already satisfied: torch-geometric in c:\\users\\dell\\pycharmprojects\\manu_factoid_gcn\\.venv\\lib\\site-packages (2.6.1)\n",
      "Requirement already satisfied: aiohttp in c:\\users\\dell\\pycharmprojects\\manu_factoid_gcn\\.venv\\lib\\site-packages (from torch-geometric) (3.10.10)\n",
      "Requirement already satisfied: fsspec in c:\\users\\dell\\pycharmprojects\\manu_factoid_gcn\\.venv\\lib\\site-packages (from torch-geometric) (2024.10.0)\n",
      "Requirement already satisfied: jinja2 in c:\\users\\dell\\pycharmprojects\\manu_factoid_gcn\\.venv\\lib\\site-packages (from torch-geometric) (3.1.4)\n",
      "Requirement already satisfied: numpy in c:\\users\\dell\\pycharmprojects\\manu_factoid_gcn\\.venv\\lib\\site-packages (from torch-geometric) (1.26.4)\n",
      "Requirement already satisfied: psutil>=5.8.0 in c:\\users\\dell\\pycharmprojects\\manu_factoid_gcn\\.venv\\lib\\site-packages (from torch-geometric) (6.1.0)\n",
      "Requirement already satisfied: pyparsing in c:\\users\\dell\\pycharmprojects\\manu_factoid_gcn\\.venv\\lib\\site-packages (from torch-geometric) (3.2.0)\n",
      "Requirement already satisfied: requests in c:\\users\\dell\\pycharmprojects\\manu_factoid_gcn\\.venv\\lib\\site-packages (from torch-geometric) (2.32.3)\n",
      "Requirement already satisfied: tqdm in c:\\users\\dell\\pycharmprojects\\manu_factoid_gcn\\.venv\\lib\\site-packages (from torch-geometric) (4.67.0)\n",
      "Requirement already satisfied: aiohappyeyeballs>=2.3.0 in c:\\users\\dell\\pycharmprojects\\manu_factoid_gcn\\.venv\\lib\\site-packages (from aiohttp->torch-geometric) (2.4.3)\n",
      "Requirement already satisfied: aiosignal>=1.1.2 in c:\\users\\dell\\pycharmprojects\\manu_factoid_gcn\\.venv\\lib\\site-packages (from aiohttp->torch-geometric) (1.3.1)\n",
      "Requirement already satisfied: attrs>=17.3.0 in c:\\users\\dell\\pycharmprojects\\manu_factoid_gcn\\.venv\\lib\\site-packages (from aiohttp->torch-geometric) (24.2.0)\n",
      "Requirement already satisfied: frozenlist>=1.1.1 in c:\\users\\dell\\pycharmprojects\\manu_factoid_gcn\\.venv\\lib\\site-packages (from aiohttp->torch-geometric) (1.5.0)\n",
      "Requirement already satisfied: multidict<7.0,>=4.5 in c:\\users\\dell\\pycharmprojects\\manu_factoid_gcn\\.venv\\lib\\site-packages (from aiohttp->torch-geometric) (6.1.0)\n",
      "Requirement already satisfied: yarl<2.0,>=1.12.0 in c:\\users\\dell\\pycharmprojects\\manu_factoid_gcn\\.venv\\lib\\site-packages (from aiohttp->torch-geometric) (1.17.1)\n",
      "Requirement already satisfied: async-timeout<5.0,>=4.0 in c:\\users\\dell\\pycharmprojects\\manu_factoid_gcn\\.venv\\lib\\site-packages (from aiohttp->torch-geometric) (4.0.3)\n",
      "Requirement already satisfied: MarkupSafe>=2.0 in c:\\users\\dell\\pycharmprojects\\manu_factoid_gcn\\.venv\\lib\\site-packages (from jinja2->torch-geometric) (3.0.2)\n",
      "Requirement already satisfied: charset-normalizer<4,>=2 in c:\\users\\dell\\pycharmprojects\\manu_factoid_gcn\\.venv\\lib\\site-packages (from requests->torch-geometric) (3.4.0)\n",
      "Requirement already satisfied: idna<4,>=2.5 in c:\\users\\dell\\pycharmprojects\\manu_factoid_gcn\\.venv\\lib\\site-packages (from requests->torch-geometric) (3.10)\n",
      "Requirement already satisfied: urllib3<3,>=1.21.1 in c:\\users\\dell\\pycharmprojects\\manu_factoid_gcn\\.venv\\lib\\site-packages (from requests->torch-geometric) (2.2.3)\n",
      "Requirement already satisfied: certifi>=2017.4.17 in c:\\users\\dell\\pycharmprojects\\manu_factoid_gcn\\.venv\\lib\\site-packages (from requests->torch-geometric) (2024.8.30)\n",
      "Requirement already satisfied: colorama in c:\\users\\dell\\pycharmprojects\\manu_factoid_gcn\\.venv\\lib\\site-packages (from tqdm->torch-geometric) (0.4.6)\n",
      "Requirement already satisfied: typing-extensions>=4.1.0 in c:\\users\\dell\\pycharmprojects\\manu_factoid_gcn\\.venv\\lib\\site-packages (from multidict<7.0,>=4.5->aiohttp->torch-geometric) (4.12.2)\n",
      "Requirement already satisfied: propcache>=0.2.0 in c:\\users\\dell\\pycharmprojects\\manu_factoid_gcn\\.venv\\lib\\site-packages (from yarl<2.0,>=1.12.0->aiohttp->torch-geometric) (0.2.0)\n",
      "Note: you may need to restart the kernel to use updated packages.\n"
     ]
    },
    {
     "name": "stderr",
     "output_type": "stream",
     "text": [
      "\n",
      "[notice] A new release of pip is available: 23.2.1 -> 24.3.1\n",
      "[notice] To update, run: python.exe -m pip install --upgrade pip\n"
     ]
    }
   ],
   "execution_count": 2
  },
  {
   "metadata": {
    "ExecuteTime": {
     "end_time": "2025-01-06T12:48:52.335212Z",
     "start_time": "2025-01-06T12:48:52.319468Z"
    }
   },
   "cell_type": "code",
   "source": "from torch_geometric.data import Data",
   "id": "98f20b94751b75cd",
   "outputs": [],
   "execution_count": 68
  },
  {
   "metadata": {
    "ExecuteTime": {
     "end_time": "2025-01-06T16:20:51.407066Z",
     "start_time": "2025-01-06T16:20:51.241605Z"
    }
   },
   "cell_type": "code",
   "source": "data=torch.load('graph_data_with_txt.pt')",
   "id": "1f9229f1db84387a",
   "outputs": [
    {
     "name": "stderr",
     "output_type": "stream",
     "text": [
      "C:\\Users\\Dell\\AppData\\Local\\Temp\\ipykernel_30064\\951303083.py:1: FutureWarning: You are using `torch.load` with `weights_only=False` (the current default value), which uses the default pickle module implicitly. It is possible to construct malicious pickle data which will execute arbitrary code during unpickling (See https://github.com/pytorch/pytorch/blob/main/SECURITY.md#untrusted-models for more details). In a future release, the default value for `weights_only` will be flipped to `True`. This limits the functions that could be executed during unpickling. Arbitrary objects will no longer be allowed to be loaded via this mode unless they are explicitly allowlisted by the user via `torch.serialization.add_safe_globals`. We recommend you start setting `weights_only=True` for any use case where you don't have full control of the loaded file. Please open an issue on GitHub for any issues related to this experimental feature.\n",
      "  data=torch.load('graph_data_with_txt.pt')\n"
     ]
    }
   ],
   "execution_count": 63
  },
  {
   "metadata": {
    "ExecuteTime": {
     "end_time": "2025-01-06T12:48:52.399164Z",
     "start_time": "2025-01-06T12:48:52.385227Z"
    }
   },
   "cell_type": "code",
   "source": "#data.y[data.y == -1] = 3",
   "id": "5f07bf554ee0d2a0",
   "outputs": [],
   "execution_count": 70
  },
  {
   "metadata": {
    "ExecuteTime": {
     "end_time": "2025-01-06T12:48:52.431093Z",
     "start_time": "2025-01-06T12:48:52.415047Z"
    }
   },
   "cell_type": "code",
   "source": [
    "# num_nodes = data.num_nodes\n",
    "# num_train = int(0.8 * num_nodes)\n",
    "# train_mask = torch.zeros(num_nodes, dtype=torch.bool)\n",
    "# train_mask[:num_train] = 1"
   ],
   "id": "d6273ef2ccdbf3dd",
   "outputs": [],
   "execution_count": 71
  },
  {
   "metadata": {
    "ExecuteTime": {
     "end_time": "2025-01-06T12:48:52.462470Z",
     "start_time": "2025-01-06T12:48:52.446799Z"
    }
   },
   "cell_type": "code",
   "source": [
    "# data.train_mask = train_mask\n",
    "# data.test_mask = ~train_mask"
   ],
   "id": "dad495538008a783",
   "outputs": [],
   "execution_count": 72
  },
  {
   "metadata": {
    "ExecuteTime": {
     "end_time": "2025-01-06T16:20:56.846734Z",
     "start_time": "2025-01-06T16:20:56.815027Z"
    }
   },
   "cell_type": "code",
   "source": [
    "num_nodes = data.num_nodes\n",
    "train_ratio, val_ratio = 0.8, 0.1  # 80% train, 10% val, 10% test\n",
    "\n",
    "perm = torch.randperm(num_nodes)\n",
    "train_size = int(train_ratio * num_nodes)\n",
    "val_size = int(val_ratio * num_nodes)\n",
    "\n",
    "train_mask = torch.zeros(num_nodes, dtype=torch.bool)\n",
    "val_mask = torch.zeros(num_nodes, dtype=torch.bool)\n",
    "test_mask = torch.zeros(num_nodes, dtype=torch.bool)\n",
    "\n",
    "train_mask[perm[:train_size]] = True\n",
    "val_mask[perm[train_size:train_size + val_size]] = True\n",
    "test_mask[perm[train_size + val_size:]] = True\n",
    "\n",
    "data.train_mask = train_mask\n",
    "data.val_mask = val_mask\n",
    "data.test_mask = test_mask"
   ],
   "id": "312d7d09fee2387a",
   "outputs": [],
   "execution_count": 64
  },
  {
   "metadata": {
    "ExecuteTime": {
     "end_time": "2025-01-06T16:20:57.768874Z",
     "start_time": "2025-01-06T16:20:57.745261Z"
    }
   },
   "cell_type": "code",
   "source": [
    "from torch.optim import Adam\n",
    "from torch.nn import CrossEntropyLoss\n",
    "from torch.nn.functional import dropout\n",
    "from torch_geometric.nn import GCNConv, Linear, SAGEConv"
   ],
   "id": "295b18c0e78a9ac5",
   "outputs": [],
   "execution_count": 65
  },
  {
   "metadata": {
    "ExecuteTime": {
     "end_time": "2025-01-06T16:20:58.186464Z",
     "start_time": "2025-01-06T16:20:58.170878Z"
    }
   },
   "cell_type": "code",
   "source": [
    "import torch\n",
    "from torch_geometric.nn import GCNConv\n",
    "from torch.nn import Linear, Dropout, LeakyReLU\n"
   ],
   "id": "d691ce6eda3a6144",
   "outputs": [],
   "execution_count": 66
  },
  {
   "metadata": {
    "ExecuteTime": {
     "end_time": "2025-01-06T16:20:58.559233Z",
     "start_time": "2025-01-06T16:20:58.527318Z"
    }
   },
   "cell_type": "code",
   "source": [
    "import torch\n",
    "from torch.nn import Linear, Dropout, Sigmoid\n",
    "from torch_geometric.nn import GCNConv\n",
    "from torch_geometric.nn import SAGEConv\n",
    "class GCN(torch.nn.Module):\n",
    "    def __init__(self):\n",
    "        super().__init__()\n",
    "        self.conv1 = GCNConv(-1, 64)\n",
    "        self.conv2 = GCNConv(64, 128)\n",
    "        self.conv3 = GCNConv(128, 256)\n",
    "        self.conv4 = GCNConv(256, 512)\n",
    "        self.linear = Linear(512, 256)\n",
    "        self.linear1=Linear(256,128)\n",
    "        self.linear2 = Linear(128, 64)\n",
    "        self.linear3 = Linear(64, 1)\n",
    "        self.dropout = Dropout(p=0.4)\n",
    "\n",
    "    def forward(self, x, edge_index, edge_weight=None):\n",
    "        x = self.conv1(x, edge_index, edge_weight=edge_weight)\n",
    "        x = torch.relu(x)\n",
    "        x = self.dropout(x)\n",
    "        \n",
    "        x = self.conv2(x, edge_index, edge_weight=edge_weight)\n",
    "        x = torch.relu(x)\n",
    "        x = self.dropout(x)\n",
    "        \n",
    "        x = self.conv3(x,edge_index, edge_weight=edge_weight)\n",
    "        x = torch.relu(x)\n",
    "        x = self.dropout(x)\n",
    "        \n",
    "        x = self.conv4(x,edge_index, edge_weight=edge_weight)\n",
    "        x = torch.relu(x)\n",
    "        x = self.dropout(x)\n",
    "        \n",
    "        # x = self.conv5(x,edge_index)\n",
    "        # x = torch.relu(x)\n",
    "        # x = self.dropout(x)\n",
    "        x=self.linear(x)\n",
    "        x=self.linear1(x)\n",
    "        x=self.linear2(x)\n",
    "        x = self.linear3(x)\n",
    "        return x"
   ],
   "id": "1a64deea56f33079",
   "outputs": [],
   "execution_count": 67
  },
  {
   "metadata": {
    "ExecuteTime": {
     "end_time": "2025-01-06T16:20:59.237220Z",
     "start_time": "2025-01-06T16:20:59.220294Z"
    }
   },
   "cell_type": "code",
   "source": [
    "import torch\n",
    "from torch.nn import Linear, Dropout, Sigmoid\n",
    "from torch_geometric.nn import SAGEConv\n",
    "class SAGE(torch.nn.Module):\n",
    "    def __init__(self):\n",
    "        super().__init__()\n",
    "        self.conv1 = SAGEConv(-1, 64)\n",
    "        self.conv2 = SAGEConv(64, 128)\n",
    "        self.conv3 = SAGEConv(128, 256)\n",
    "        self.conv4 = SAGEConv(256, 512)\n",
    "        self.linear = Linear(512, 256)\n",
    "        self.linear1=Linear(256,128)\n",
    "        self.linear2 = Linear(128, 64)\n",
    "        self.linear3 = Linear(64, 1)\n",
    "        self.dropout = Dropout(p=0.4)\n",
    "\n",
    "    def forward(self, x, edge_index):\n",
    "        x = self.conv1(x, edge_index)\n",
    "        x = torch.relu(x)\n",
    "        x = self.dropout(x)\n",
    "        \n",
    "        x = self.conv2(x, edge_index)\n",
    "        x = torch.relu(x)\n",
    "        x = self.dropout(x)\n",
    "        \n",
    "        x = self.conv3(x,edge_index)\n",
    "        x = torch.relu(x)\n",
    "        x = self.dropout(x)\n",
    "        \n",
    "        x = self.conv4(x,edge_index)\n",
    "        x = torch.relu(x)\n",
    "        x = self.dropout(x)\n",
    "        \n",
    "        # x = self.conv5(x,edge_index)\n",
    "        # x = torch.relu(x)\n",
    "        # x = self.dropout(x)\n",
    "        x=self.linear(x)\n",
    "        x=self.linear1(x)\n",
    "        x=self.linear2(x)\n",
    "        x = self.linear3(x)\n",
    "        return x"
   ],
   "id": "585813aab42a1ca5",
   "outputs": [],
   "execution_count": 68
  },
  {
   "metadata": {
    "ExecuteTime": {
     "end_time": "2025-01-06T16:20:59.782550Z",
     "start_time": "2025-01-06T16:20:59.766644Z"
    }
   },
   "cell_type": "code",
   "source": [
    "# def train(model, dataset, optimizer, criterion, epochs=5):\n",
    "#     train_mask = dataset.train_mask\n",
    "#     for epoch in range(epochs):\n",
    "#         model.train()\n",
    "#         optimizer.zero_grad()\n",
    "#         out = model(dataset.x, dataset.edge_index,dataset.edge_weight).squeeze()  # Output shape: [num_nodes]\n",
    "#         loss = criterion(out[train_mask], dataset.y[train_mask].float()) \n",
    "#         loss.backward()\n",
    "#         optimizer.step()\n",
    "#         print(f'Epoch: {epoch:03d}, Loss: {loss:.4f}')"
   ],
   "id": "84eb9b984caffb00",
   "outputs": [],
   "execution_count": 69
  },
  {
   "metadata": {
    "ExecuteTime": {
     "end_time": "2025-01-06T16:21:00.190493Z",
     "start_time": "2025-01-06T16:21:00.161544Z"
    }
   },
   "cell_type": "code",
   "source": [
    "def train(model, dataset, optimizer, criterion, epochs=5):\n",
    "    train_mask = dataset.train_mask\n",
    "    val_mask = dataset.val_mask  # Assuming `val_mask` is available in the dataset\n",
    "    for epoch in range(epochs):\n",
    "        model.train()\n",
    "        optimizer.zero_grad()\n",
    "        \n",
    "        # Forward pass\n",
    "        out = model(dataset.x, dataset.edge_index, dataset.edge_weight).squeeze()\n",
    "        \n",
    "        # Compute loss on the training set\n",
    "        loss = criterion(out[train_mask], dataset.y[train_mask].float())\n",
    "        loss.backward()\n",
    "        optimizer.step()\n",
    "\n",
    "        # Validation Performance\n",
    "        model.eval()\n",
    "        with torch.no_grad():\n",
    "            val_out = out[val_mask]\n",
    "            val_loss = criterion(val_out, dataset.y[val_mask].float())\n",
    "            val_pred = (torch.sigmoid(val_out) > 0.5).long()\n",
    "            # val_acc = accuracy_score(dataset.y[val_mask].cpu(), val_pred.cpu())\n",
    "        \n",
    "        print(f'Epoch: {epoch:03d}, Train Loss: {loss:.4f}, Val Loss: {val_loss:.4f}')"
   ],
   "id": "baa398050c3b9165",
   "outputs": [],
   "execution_count": 70
  },
  {
   "metadata": {
    "ExecuteTime": {
     "end_time": "2025-01-06T16:21:01.239544Z",
     "start_time": "2025-01-06T16:21:01.207904Z"
    }
   },
   "cell_type": "code",
   "source": "data",
   "id": "643bd6d6435875d1",
   "outputs": [
    {
     "data": {
      "text/plain": [
       "Data(x=[4150, 66], edge_index=[2, 439838], y=[4150], edge_weights=[439838], train_mask=[4150], val_mask=[4150], test_mask=[4150])"
      ]
     },
     "execution_count": 71,
     "metadata": {},
     "output_type": "execute_result"
    }
   ],
   "execution_count": 71
  },
  {
   "metadata": {
    "ExecuteTime": {
     "end_time": "2025-01-06T16:21:02.612245Z",
     "start_time": "2025-01-06T16:21:02.554643Z"
    }
   },
   "cell_type": "code",
   "source": "model_gcn = GCN()",
   "id": "7872b7da23a988d9",
   "outputs": [],
   "execution_count": 72
  },
  {
   "metadata": {
    "ExecuteTime": {
     "end_time": "2025-01-06T16:21:03.074606Z",
     "start_time": "2025-01-06T16:21:03.021705Z"
    }
   },
   "cell_type": "code",
   "source": "model_sage=SAGE()",
   "id": "1079aa9478fc5ee9",
   "outputs": [],
   "execution_count": 73
  },
  {
   "metadata": {
    "ExecuteTime": {
     "end_time": "2025-01-06T16:21:03.655705Z",
     "start_time": "2025-01-06T16:21:03.640029Z"
    }
   },
   "cell_type": "code",
   "source": "model_gcn",
   "id": "70265206dc300beb",
   "outputs": [
    {
     "data": {
      "text/plain": [
       "GCN(\n",
       "  (conv1): GCNConv(-1, 64)\n",
       "  (conv2): GCNConv(64, 128)\n",
       "  (conv3): GCNConv(128, 256)\n",
       "  (conv4): GCNConv(256, 512)\n",
       "  (linear): Linear(in_features=512, out_features=256, bias=True)\n",
       "  (linear1): Linear(in_features=256, out_features=128, bias=True)\n",
       "  (linear2): Linear(in_features=128, out_features=64, bias=True)\n",
       "  (linear3): Linear(in_features=64, out_features=1, bias=True)\n",
       "  (dropout): Dropout(p=0.4, inplace=False)\n",
       ")"
      ]
     },
     "execution_count": 74,
     "metadata": {},
     "output_type": "execute_result"
    }
   ],
   "execution_count": 74
  },
  {
   "metadata": {
    "ExecuteTime": {
     "end_time": "2025-01-06T16:21:05.189253Z",
     "start_time": "2025-01-06T16:21:05.173153Z"
    }
   },
   "cell_type": "code",
   "source": "optimizer = Adam(model_gcn.parameters(), lr=0.001)",
   "id": "a2ddefde61ff0a02",
   "outputs": [],
   "execution_count": 75
  },
  {
   "metadata": {
    "ExecuteTime": {
     "end_time": "2025-01-06T16:21:06.593391Z",
     "start_time": "2025-01-06T16:21:06.582016Z"
    }
   },
   "cell_type": "code",
   "source": "criterion = torch.nn.BCEWithLogitsLoss()",
   "id": "304689634bcd4ba3",
   "outputs": [],
   "execution_count": 76
  },
  {
   "metadata": {
    "ExecuteTime": {
     "end_time": "2025-01-06T14:00:21.773805Z",
     "start_time": "2025-01-06T14:00:21.761623Z"
    }
   },
   "cell_type": "code",
   "source": "(data.y == 0).sum().item()",
   "id": "8c00927cc006f628",
   "outputs": [
    {
     "data": {
      "text/plain": [
       "3064"
      ]
     },
     "execution_count": 17,
     "metadata": {},
     "output_type": "execute_result"
    }
   ],
   "execution_count": 17
  },
  {
   "metadata": {
    "ExecuteTime": {
     "end_time": "2025-01-06T13:00:41.203476Z",
     "start_time": "2025-01-06T13:00:41.105560Z"
    }
   },
   "cell_type": "code",
   "source": [
    "train(model=model_sage, dataset=data,\n",
    "      criterion=criterion, optimizer=optimizer,\n",
    "      epochs=50)"
   ],
   "id": "4cfaf0539a513844",
   "outputs": [
    {
     "ename": "TypeError",
     "evalue": "SAGE.forward() takes 3 positional arguments but 4 were given",
     "output_type": "error",
     "traceback": [
      "\u001B[1;31m---------------------------------------------------------------------------\u001B[0m",
      "\u001B[1;31mTypeError\u001B[0m                                 Traceback (most recent call last)",
      "Cell \u001B[1;32mIn[107], line 1\u001B[0m\n\u001B[1;32m----> 1\u001B[0m \u001B[43mtrain\u001B[49m\u001B[43m(\u001B[49m\u001B[43mmodel\u001B[49m\u001B[38;5;241;43m=\u001B[39;49m\u001B[43mmodel_sage\u001B[49m\u001B[43m,\u001B[49m\u001B[43m \u001B[49m\u001B[43mdataset\u001B[49m\u001B[38;5;241;43m=\u001B[39;49m\u001B[43mdata\u001B[49m\u001B[43m,\u001B[49m\n\u001B[0;32m      2\u001B[0m \u001B[43m      \u001B[49m\u001B[43mcriterion\u001B[49m\u001B[38;5;241;43m=\u001B[39;49m\u001B[43mcriterion\u001B[49m\u001B[43m,\u001B[49m\u001B[43m \u001B[49m\u001B[43moptimizer\u001B[49m\u001B[38;5;241;43m=\u001B[39;49m\u001B[43moptimizer\u001B[49m\u001B[43m,\u001B[49m\n\u001B[0;32m      3\u001B[0m \u001B[43m      \u001B[49m\u001B[43mepochs\u001B[49m\u001B[38;5;241;43m=\u001B[39;49m\u001B[38;5;241;43m50\u001B[39;49m\u001B[43m)\u001B[49m\n",
      "Cell \u001B[1;32mIn[79], line 9\u001B[0m, in \u001B[0;36mtrain\u001B[1;34m(model, dataset, optimizer, criterion, epochs)\u001B[0m\n\u001B[0;32m      6\u001B[0m optimizer\u001B[38;5;241m.\u001B[39mzero_grad()\n\u001B[0;32m      8\u001B[0m \u001B[38;5;66;03m# Forward pass\u001B[39;00m\n\u001B[1;32m----> 9\u001B[0m out \u001B[38;5;241m=\u001B[39m \u001B[43mmodel\u001B[49m\u001B[43m(\u001B[49m\u001B[43mdataset\u001B[49m\u001B[38;5;241;43m.\u001B[39;49m\u001B[43mx\u001B[49m\u001B[43m,\u001B[49m\u001B[43m \u001B[49m\u001B[43mdataset\u001B[49m\u001B[38;5;241;43m.\u001B[39;49m\u001B[43medge_index\u001B[49m\u001B[43m,\u001B[49m\u001B[43m \u001B[49m\u001B[43mdataset\u001B[49m\u001B[38;5;241;43m.\u001B[39;49m\u001B[43medge_weight\u001B[49m\u001B[43m)\u001B[49m\u001B[38;5;241m.\u001B[39msqueeze()\n\u001B[0;32m     11\u001B[0m \u001B[38;5;66;03m# Compute loss on the training set\u001B[39;00m\n\u001B[0;32m     12\u001B[0m loss \u001B[38;5;241m=\u001B[39m criterion(out[train_mask], dataset\u001B[38;5;241m.\u001B[39my[train_mask]\u001B[38;5;241m.\u001B[39mfloat())\n",
      "File \u001B[1;32m~\\PycharmProjects\\Manu_factoid_GCN\\.venv\\lib\\site-packages\\torch\\nn\\modules\\module.py:1736\u001B[0m, in \u001B[0;36mModule._wrapped_call_impl\u001B[1;34m(self, *args, **kwargs)\u001B[0m\n\u001B[0;32m   1734\u001B[0m     \u001B[38;5;28;01mreturn\u001B[39;00m \u001B[38;5;28mself\u001B[39m\u001B[38;5;241m.\u001B[39m_compiled_call_impl(\u001B[38;5;241m*\u001B[39margs, \u001B[38;5;241m*\u001B[39m\u001B[38;5;241m*\u001B[39mkwargs)  \u001B[38;5;66;03m# type: ignore[misc]\u001B[39;00m\n\u001B[0;32m   1735\u001B[0m \u001B[38;5;28;01melse\u001B[39;00m:\n\u001B[1;32m-> 1736\u001B[0m     \u001B[38;5;28;01mreturn\u001B[39;00m \u001B[38;5;28mself\u001B[39m\u001B[38;5;241m.\u001B[39m_call_impl(\u001B[38;5;241m*\u001B[39margs, \u001B[38;5;241m*\u001B[39m\u001B[38;5;241m*\u001B[39mkwargs)\n",
      "File \u001B[1;32m~\\PycharmProjects\\Manu_factoid_GCN\\.venv\\lib\\site-packages\\torch\\nn\\modules\\module.py:1747\u001B[0m, in \u001B[0;36mModule._call_impl\u001B[1;34m(self, *args, **kwargs)\u001B[0m\n\u001B[0;32m   1742\u001B[0m \u001B[38;5;66;03m# If we don't have any hooks, we want to skip the rest of the logic in\u001B[39;00m\n\u001B[0;32m   1743\u001B[0m \u001B[38;5;66;03m# this function, and just call forward.\u001B[39;00m\n\u001B[0;32m   1744\u001B[0m \u001B[38;5;28;01mif\u001B[39;00m \u001B[38;5;129;01mnot\u001B[39;00m (\u001B[38;5;28mself\u001B[39m\u001B[38;5;241m.\u001B[39m_backward_hooks \u001B[38;5;129;01mor\u001B[39;00m \u001B[38;5;28mself\u001B[39m\u001B[38;5;241m.\u001B[39m_backward_pre_hooks \u001B[38;5;129;01mor\u001B[39;00m \u001B[38;5;28mself\u001B[39m\u001B[38;5;241m.\u001B[39m_forward_hooks \u001B[38;5;129;01mor\u001B[39;00m \u001B[38;5;28mself\u001B[39m\u001B[38;5;241m.\u001B[39m_forward_pre_hooks\n\u001B[0;32m   1745\u001B[0m         \u001B[38;5;129;01mor\u001B[39;00m _global_backward_pre_hooks \u001B[38;5;129;01mor\u001B[39;00m _global_backward_hooks\n\u001B[0;32m   1746\u001B[0m         \u001B[38;5;129;01mor\u001B[39;00m _global_forward_hooks \u001B[38;5;129;01mor\u001B[39;00m _global_forward_pre_hooks):\n\u001B[1;32m-> 1747\u001B[0m     \u001B[38;5;28;01mreturn\u001B[39;00m forward_call(\u001B[38;5;241m*\u001B[39margs, \u001B[38;5;241m*\u001B[39m\u001B[38;5;241m*\u001B[39mkwargs)\n\u001B[0;32m   1749\u001B[0m result \u001B[38;5;241m=\u001B[39m \u001B[38;5;28;01mNone\u001B[39;00m\n\u001B[0;32m   1750\u001B[0m called_always_called_hooks \u001B[38;5;241m=\u001B[39m \u001B[38;5;28mset\u001B[39m()\n",
      "\u001B[1;31mTypeError\u001B[0m: SAGE.forward() takes 3 positional arguments but 4 were given"
     ]
    }
   ],
   "execution_count": 107
  },
  {
   "metadata": {
    "ExecuteTime": {
     "end_time": "2025-01-06T16:22:11.058230Z",
     "start_time": "2025-01-06T16:21:09.529848Z"
    }
   },
   "cell_type": "code",
   "source": [
    "train(model=model_gcn, dataset=data,\n",
    "      criterion=criterion, optimizer=optimizer,\n",
    "      epochs=50)"
   ],
   "id": "bfc051a13aa5f54b",
   "outputs": [
    {
     "name": "stdout",
     "output_type": "stream",
     "text": [
      "Epoch: 000, Train Loss: 0.6954, Val Loss: 0.6954\n",
      "Epoch: 001, Train Loss: 0.6450, Val Loss: 0.6425\n",
      "Epoch: 002, Train Loss: 0.5880, Val Loss: 0.5764\n",
      "Epoch: 003, Train Loss: 0.5774, Val Loss: 0.5519\n",
      "Epoch: 004, Train Loss: 0.6235, Val Loss: 0.5762\n",
      "Epoch: 005, Train Loss: 0.5754, Val Loss: 0.5482\n",
      "Epoch: 006, Train Loss: 0.5673, Val Loss: 0.5504\n",
      "Epoch: 007, Train Loss: 0.5824, Val Loss: 0.5701\n",
      "Epoch: 008, Train Loss: 0.5815, Val Loss: 0.5679\n",
      "Epoch: 009, Train Loss: 0.5768, Val Loss: 0.5573\n",
      "Epoch: 010, Train Loss: 0.5687, Val Loss: 0.5509\n",
      "Epoch: 011, Train Loss: 0.5582, Val Loss: 0.5326\n",
      "Epoch: 012, Train Loss: 0.5597, Val Loss: 0.5164\n",
      "Epoch: 013, Train Loss: 0.5552, Val Loss: 0.5179\n",
      "Epoch: 014, Train Loss: 0.5710, Val Loss: 0.5192\n",
      "Epoch: 015, Train Loss: 0.5562, Val Loss: 0.5140\n",
      "Epoch: 016, Train Loss: 0.5551, Val Loss: 0.5130\n",
      "Epoch: 017, Train Loss: 0.5519, Val Loss: 0.5204\n",
      "Epoch: 018, Train Loss: 0.5540, Val Loss: 0.5227\n",
      "Epoch: 019, Train Loss: 0.5551, Val Loss: 0.5314\n",
      "Epoch: 020, Train Loss: 0.5574, Val Loss: 0.5363\n",
      "Epoch: 021, Train Loss: 0.5522, Val Loss: 0.5259\n",
      "Epoch: 022, Train Loss: 0.5515, Val Loss: 0.5243\n",
      "Epoch: 023, Train Loss: 0.5465, Val Loss: 0.5162\n",
      "Epoch: 024, Train Loss: 0.5499, Val Loss: 0.5135\n",
      "Epoch: 025, Train Loss: 0.5508, Val Loss: 0.5094\n",
      "Epoch: 026, Train Loss: 0.5580, Val Loss: 0.5148\n",
      "Epoch: 027, Train Loss: 0.5416, Val Loss: 0.5026\n",
      "Epoch: 028, Train Loss: 0.5435, Val Loss: 0.5071\n",
      "Epoch: 029, Train Loss: 0.5402, Val Loss: 0.5075\n",
      "Epoch: 030, Train Loss: 0.5430, Val Loss: 0.5111\n",
      "Epoch: 031, Train Loss: 0.5443, Val Loss: 0.5123\n",
      "Epoch: 032, Train Loss: 0.5387, Val Loss: 0.5063\n",
      "Epoch: 033, Train Loss: 0.5375, Val Loss: 0.5013\n",
      "Epoch: 034, Train Loss: 0.5378, Val Loss: 0.5029\n",
      "Epoch: 035, Train Loss: 0.5341, Val Loss: 0.4957\n",
      "Epoch: 036, Train Loss: 0.5353, Val Loss: 0.4958\n",
      "Epoch: 037, Train Loss: 0.5352, Val Loss: 0.4914\n",
      "Epoch: 038, Train Loss: 0.5321, Val Loss: 0.4974\n",
      "Epoch: 039, Train Loss: 0.5353, Val Loss: 0.5069\n",
      "Epoch: 040, Train Loss: 0.5298, Val Loss: 0.4973\n",
      "Epoch: 041, Train Loss: 0.5349, Val Loss: 0.5012\n",
      "Epoch: 042, Train Loss: 0.5236, Val Loss: 0.4785\n",
      "Epoch: 043, Train Loss: 0.5423, Val Loss: 0.4830\n",
      "Epoch: 044, Train Loss: 0.5455, Val Loss: 0.4890\n",
      "Epoch: 045, Train Loss: 0.5248, Val Loss: 0.4874\n",
      "Epoch: 046, Train Loss: 0.5247, Val Loss: 0.4929\n",
      "Epoch: 047, Train Loss: 0.5260, Val Loss: 0.4946\n",
      "Epoch: 048, Train Loss: 0.5261, Val Loss: 0.5000\n",
      "Epoch: 049, Train Loss: 0.5194, Val Loss: 0.4862\n"
     ]
    }
   ],
   "execution_count": 77
  },
  {
   "metadata": {
    "ExecuteTime": {
     "end_time": "2025-01-06T16:22:15.224764Z",
     "start_time": "2025-01-06T16:22:15.208693Z"
    }
   },
   "cell_type": "code",
   "source": "from sklearn.metrics import accuracy_score, precision_score, recall_score, f1_score",
   "id": "5cf7731c0db13495",
   "outputs": [],
   "execution_count": 78
  },
  {
   "metadata": {
    "ExecuteTime": {
     "end_time": "2025-01-06T16:22:15.837341Z",
     "start_time": "2025-01-06T16:22:15.810095Z"
    }
   },
   "cell_type": "code",
   "source": [
    "def test(model, dataset):\n",
    "    model.eval()\n",
    "    test_mask = dataset.test_mask\n",
    "\n",
    "    with torch.no_grad():\n",
    "        out = model(dataset.x, dataset.edge_index, dataset.edge_weight).squeeze()\n",
    "        test_out = out[test_mask]\n",
    "        test_pred = (torch.sigmoid(test_out) > 0.5).long()\n",
    "        test_labels = dataset.y[test_mask]\n",
    "\n",
    "    # Calculate metrics\n",
    "    test_acc = accuracy_score(test_labels.cpu(), test_pred.cpu())\n",
    "    test_precision = precision_score(test_labels.cpu(), test_pred.cpu(), average='macro')\n",
    "    test_recall = recall_score(test_labels.cpu(), test_pred.cpu(), average='macro')\n",
    "    test_f1 = f1_score(test_labels.cpu(), test_pred.cpu(), average='macro')\n",
    "\n",
    "    print(f'Test Accuracy: {test_acc:}')\n",
    "    print(f'Test Precision: {test_precision:}')\n",
    "    print(f'Test Recall: {test_recall:}')\n",
    "    print(f'Test F1 Score: {test_f1:}')"
   ],
   "id": "b9c57aaf07b96d6f",
   "outputs": [],
   "execution_count": 79
  },
  {
   "metadata": {
    "ExecuteTime": {
     "end_time": "2025-01-06T16:22:18.621406Z",
     "start_time": "2025-01-06T16:22:17.750816Z"
    }
   },
   "cell_type": "code",
   "source": "test(model=model_gcn, dataset=data)",
   "id": "c4daa1a2101860b",
   "outputs": [
    {
     "name": "stdout",
     "output_type": "stream",
     "text": [
      "Test Accuracy: 0.7518072289156627\n",
      "Test Precision: 0.690671031096563\n",
      "Test Recall: 0.5823903818953323\n",
      "Test F1 Score: 0.583093563772201\n"
     ]
    }
   ],
   "execution_count": 80
  },
  {
   "metadata": {
    "ExecuteTime": {
     "end_time": "2025-01-06T12:48:53.023997400Z",
     "start_time": "2024-11-08T12:21:30.810857Z"
    }
   },
   "cell_type": "code",
   "source": "from sklearn.cluster import KMeans",
   "id": "3b0ea2cc472ef3b0",
   "outputs": [],
   "execution_count": 178
  },
  {
   "metadata": {
    "ExecuteTime": {
     "end_time": "2025-01-06T12:48:53.023997400Z",
     "start_time": "2024-12-04T21:53:51.927694Z"
    }
   },
   "cell_type": "code",
   "source": "from sklearn.cluster import AgglomerativeClustering",
   "id": "11330619588a0aa9",
   "outputs": [],
   "execution_count": 27
  },
  {
   "metadata": {
    "ExecuteTime": {
     "end_time": "2025-01-06T12:48:53.023997400Z",
     "start_time": "2024-12-04T21:55:33.690183Z"
    }
   },
   "cell_type": "code",
   "source": "",
   "id": "c5be10528a98e229",
   "outputs": [],
   "execution_count": 31
  },
  {
   "metadata": {},
   "cell_type": "markdown",
   "source": "# USING Class Weighting",
   "id": "f8d5a184d4485b04"
  },
  {
   "metadata": {
    "ExecuteTime": {
     "end_time": "2025-01-06T16:22:29.097199Z",
     "start_time": "2025-01-06T16:22:29.075614Z"
    }
   },
   "cell_type": "code",
   "source": [
    "from sklearn.utils.class_weight import compute_class_weight\n",
    "import numpy as np"
   ],
   "id": "e28187f970e010d1",
   "outputs": [],
   "execution_count": 81
  },
  {
   "metadata": {
    "ExecuteTime": {
     "end_time": "2025-01-06T16:22:29.422635Z",
     "start_time": "2025-01-06T16:22:29.407066Z"
    }
   },
   "cell_type": "code",
   "source": [
    "labels = data.y.cpu().numpy() \n",
    "classes = np.unique(labels)"
   ],
   "id": "70bcd0e82c741fb1",
   "outputs": [],
   "execution_count": 82
  },
  {
   "metadata": {
    "ExecuteTime": {
     "end_time": "2025-01-06T16:22:30.325510Z",
     "start_time": "2025-01-06T16:22:30.311971Z"
    }
   },
   "cell_type": "code",
   "source": "class_weights = compute_class_weight(class_weight='balanced', classes=classes, y=labels)",
   "id": "f59561820c8fc1bc",
   "outputs": [],
   "execution_count": 83
  },
  {
   "metadata": {
    "ExecuteTime": {
     "end_time": "2025-01-06T16:22:30.920880Z",
     "start_time": "2025-01-06T16:22:30.901570Z"
    }
   },
   "cell_type": "code",
   "source": "weights = torch.tensor(class_weights, dtype=torch.float) ",
   "id": "e48b034ab7260a29",
   "outputs": [],
   "execution_count": 84
  },
  {
   "metadata": {
    "ExecuteTime": {
     "end_time": "2025-01-06T16:22:31.610276Z",
     "start_time": "2025-01-06T16:22:31.589242Z"
    }
   },
   "cell_type": "code",
   "source": "criterion2 = torch.nn.BCEWithLogitsLoss(pos_weight=weights[1])\n",
   "id": "65c3e7ac91e2523a",
   "outputs": [],
   "execution_count": 85
  },
  {
   "metadata": {
    "ExecuteTime": {
     "end_time": "2025-01-06T16:22:32.612446Z",
     "start_time": "2025-01-06T16:22:32.582773Z"
    }
   },
   "cell_type": "code",
   "source": [
    "model_gcn2 = GCN()\n",
    "optimizer = Adam(model_gcn.parameters(), lr=0.001)"
   ],
   "id": "97e46d5bab8b29ab",
   "outputs": [],
   "execution_count": 86
  },
  {
   "metadata": {
    "ExecuteTime": {
     "end_time": "2025-01-06T16:23:36.138250Z",
     "start_time": "2025-01-06T16:22:35.105255Z"
    }
   },
   "cell_type": "code",
   "source": [
    "train(model=model_gcn2, dataset=data,\n",
    "      criterion=criterion2, optimizer=optimizer,\n",
    "      epochs=50)"
   ],
   "id": "14a7fcfecb1ffe4c",
   "outputs": [
    {
     "name": "stdout",
     "output_type": "stream",
     "text": [
      "Epoch: 000, Train Loss: 0.8680, Val Loss: 0.8647\n",
      "Epoch: 001, Train Loss: 0.8685, Val Loss: 0.8664\n",
      "Epoch: 002, Train Loss: 0.8687, Val Loss: 0.8656\n",
      "Epoch: 003, Train Loss: 0.8686, Val Loss: 0.8658\n",
      "Epoch: 004, Train Loss: 0.8693, Val Loss: 0.8665\n",
      "Epoch: 005, Train Loss: 0.8680, Val Loss: 0.8652\n",
      "Epoch: 006, Train Loss: 0.8688, Val Loss: 0.8658\n",
      "Epoch: 007, Train Loss: 0.8696, Val Loss: 0.8664\n",
      "Epoch: 008, Train Loss: 0.8678, Val Loss: 0.8656\n",
      "Epoch: 009, Train Loss: 0.8687, Val Loss: 0.8655\n",
      "Epoch: 010, Train Loss: 0.8693, Val Loss: 0.8672\n",
      "Epoch: 011, Train Loss: 0.8679, Val Loss: 0.8654\n",
      "Epoch: 012, Train Loss: 0.8685, Val Loss: 0.8652\n",
      "Epoch: 013, Train Loss: 0.8686, Val Loss: 0.8650\n",
      "Epoch: 014, Train Loss: 0.8688, Val Loss: 0.8673\n",
      "Epoch: 015, Train Loss: 0.8689, Val Loss: 0.8661\n",
      "Epoch: 016, Train Loss: 0.8685, Val Loss: 0.8658\n",
      "Epoch: 017, Train Loss: 0.8688, Val Loss: 0.8654\n",
      "Epoch: 018, Train Loss: 0.8682, Val Loss: 0.8656\n",
      "Epoch: 019, Train Loss: 0.8687, Val Loss: 0.8654\n",
      "Epoch: 020, Train Loss: 0.8676, Val Loss: 0.8652\n",
      "Epoch: 021, Train Loss: 0.8684, Val Loss: 0.8653\n",
      "Epoch: 022, Train Loss: 0.8684, Val Loss: 0.8656\n",
      "Epoch: 023, Train Loss: 0.8690, Val Loss: 0.8668\n",
      "Epoch: 024, Train Loss: 0.8690, Val Loss: 0.8666\n",
      "Epoch: 025, Train Loss: 0.8682, Val Loss: 0.8657\n",
      "Epoch: 026, Train Loss: 0.8689, Val Loss: 0.8661\n",
      "Epoch: 027, Train Loss: 0.8694, Val Loss: 0.8669\n",
      "Epoch: 028, Train Loss: 0.8681, Val Loss: 0.8654\n",
      "Epoch: 029, Train Loss: 0.8686, Val Loss: 0.8657\n",
      "Epoch: 030, Train Loss: 0.8679, Val Loss: 0.8653\n",
      "Epoch: 031, Train Loss: 0.8690, Val Loss: 0.8664\n",
      "Epoch: 032, Train Loss: 0.8693, Val Loss: 0.8660\n",
      "Epoch: 033, Train Loss: 0.8687, Val Loss: 0.8664\n",
      "Epoch: 034, Train Loss: 0.8686, Val Loss: 0.8659\n",
      "Epoch: 035, Train Loss: 0.8690, Val Loss: 0.8661\n",
      "Epoch: 036, Train Loss: 0.8684, Val Loss: 0.8657\n",
      "Epoch: 037, Train Loss: 0.8684, Val Loss: 0.8657\n",
      "Epoch: 038, Train Loss: 0.8696, Val Loss: 0.8667\n",
      "Epoch: 039, Train Loss: 0.8689, Val Loss: 0.8669\n",
      "Epoch: 040, Train Loss: 0.8685, Val Loss: 0.8653\n",
      "Epoch: 041, Train Loss: 0.8685, Val Loss: 0.8659\n",
      "Epoch: 042, Train Loss: 0.8689, Val Loss: 0.8661\n",
      "Epoch: 043, Train Loss: 0.8690, Val Loss: 0.8653\n",
      "Epoch: 044, Train Loss: 0.8690, Val Loss: 0.8668\n",
      "Epoch: 045, Train Loss: 0.8683, Val Loss: 0.8669\n",
      "Epoch: 046, Train Loss: 0.8688, Val Loss: 0.8667\n",
      "Epoch: 047, Train Loss: 0.8681, Val Loss: 0.8654\n",
      "Epoch: 048, Train Loss: 0.8689, Val Loss: 0.8662\n",
      "Epoch: 049, Train Loss: 0.8689, Val Loss: 0.8658\n"
     ]
    }
   ],
   "execution_count": 87
  },
  {
   "metadata": {
    "ExecuteTime": {
     "end_time": "2025-01-06T16:24:22.723099Z",
     "start_time": "2025-01-06T16:24:21.975320Z"
    }
   },
   "cell_type": "code",
   "source": "test(model=model_gcn2, dataset=data)",
   "id": "925cff18627ba1b4",
   "outputs": [
    {
     "name": "stdout",
     "output_type": "stream",
     "text": [
      "Test Accuracy: 0.26987951807228916\n",
      "Test Precision: 0.13493975903614458\n",
      "Test Recall: 0.5\n",
      "Test F1 Score: 0.2125237191650854\n"
     ]
    },
    {
     "name": "stderr",
     "output_type": "stream",
     "text": [
      "C:\\Users\\Dell\\PycharmProjects\\Manu_factoid_GCN\\.venv\\lib\\site-packages\\sklearn\\metrics\\_classification.py:1531: UndefinedMetricWarning: Precision is ill-defined and being set to 0.0 in labels with no predicted samples. Use `zero_division` parameter to control this behavior.\n",
      "  _warn_prf(average, modifier, f\"{metric.capitalize()} is\", len(result))\n"
     ]
    }
   ],
   "execution_count": 88
  },
  {
   "metadata": {},
   "cell_type": "markdown",
   "source": "## FAKE WEIGHTS",
   "id": "3a4b69a7b1c6c964"
  },
  {
   "metadata": {
    "ExecuteTime": {
     "end_time": "2025-01-06T12:48:53.025875600Z",
     "start_time": "2024-12-05T14:01:59.813664Z"
    }
   },
   "cell_type": "code",
   "source": "weights[1]",
   "id": "e129eb1edbfb3e89",
   "outputs": [
    {
     "data": {
      "text/plain": [
       "tensor(1.9107)"
      ]
     },
     "execution_count": 87,
     "metadata": {},
     "output_type": "execute_result"
    }
   ],
   "execution_count": 87
  },
  {
   "metadata": {
    "ExecuteTime": {
     "end_time": "2025-01-06T12:48:53.025875600Z",
     "start_time": "2024-12-05T14:02:00.415307Z"
    }
   },
   "cell_type": "code",
   "source": "fake_weight=torch.tensor(2.5)",
   "id": "181e99cdf1994ef6",
   "outputs": [],
   "execution_count": 88
  },
  {
   "metadata": {
    "ExecuteTime": {
     "end_time": "2025-01-06T12:48:53.025875600Z",
     "start_time": "2024-12-05T14:02:00.925993Z"
    }
   },
   "cell_type": "code",
   "source": "criterion3 = torch.nn.BCEWithLogitsLoss(pos_weight=fake_weight)\n",
   "id": "d291c546508c3933",
   "outputs": [],
   "execution_count": 89
  },
  {
   "metadata": {
    "ExecuteTime": {
     "end_time": "2025-01-06T12:48:53.025875600Z",
     "start_time": "2024-12-05T14:02:01.333325Z"
    }
   },
   "cell_type": "code",
   "source": [
    "train(model=model_gcn, dataset=data,\n",
    "      criterion=criterion3, optimizer=optimizer,\n",
    "      epochs=50)"
   ],
   "id": "2c2ea8cea4fc9db9",
   "outputs": [
    {
     "name": "stdout",
     "output_type": "stream",
     "text": [
      "Epoch: 000, Loss: 0.8760\n",
      "Epoch: 001, Loss: 0.8475\n",
      "Epoch: 002, Loss: 0.8552\n",
      "Epoch: 003, Loss: 0.8509\n",
      "Epoch: 004, Loss: 0.8515\n",
      "Epoch: 005, Loss: 0.8597\n",
      "Epoch: 006, Loss: 0.8483\n",
      "Epoch: 007, Loss: 0.8585\n",
      "Epoch: 008, Loss: 0.8648\n",
      "Epoch: 009, Loss: 0.8415\n",
      "Epoch: 010, Loss: 0.8422\n",
      "Epoch: 011, Loss: 0.8548\n",
      "Epoch: 012, Loss: 0.8448\n",
      "Epoch: 013, Loss: 0.8604\n",
      "Epoch: 014, Loss: 0.8491\n",
      "Epoch: 015, Loss: 0.8452\n",
      "Epoch: 016, Loss: 0.8487\n",
      "Epoch: 017, Loss: 0.8586\n",
      "Epoch: 018, Loss: 0.8624\n",
      "Epoch: 019, Loss: 0.8445\n",
      "Epoch: 020, Loss: 0.8388\n",
      "Epoch: 021, Loss: 0.8555\n",
      "Epoch: 022, Loss: 0.8540\n",
      "Epoch: 023, Loss: 0.8532\n",
      "Epoch: 024, Loss: 0.8429\n",
      "Epoch: 025, Loss: 0.8584\n",
      "Epoch: 026, Loss: 0.8514\n",
      "Epoch: 027, Loss: 0.8592\n",
      "Epoch: 028, Loss: 0.8484\n",
      "Epoch: 029, Loss: 0.8436\n",
      "Epoch: 030, Loss: 0.8495\n",
      "Epoch: 031, Loss: 0.8462\n",
      "Epoch: 032, Loss: 0.8428\n",
      "Epoch: 033, Loss: 0.8470\n",
      "Epoch: 034, Loss: 0.8442\n",
      "Epoch: 035, Loss: 0.8506\n",
      "Epoch: 036, Loss: 0.8413\n",
      "Epoch: 037, Loss: 0.8414\n",
      "Epoch: 038, Loss: 0.8412\n",
      "Epoch: 039, Loss: 0.8415\n",
      "Epoch: 040, Loss: 0.8433\n",
      "Epoch: 041, Loss: 0.8462\n",
      "Epoch: 042, Loss: 0.8382\n",
      "Epoch: 043, Loss: 0.8317\n",
      "Epoch: 044, Loss: 0.8356\n",
      "Epoch: 045, Loss: 0.8350\n",
      "Epoch: 046, Loss: 0.8508\n",
      "Epoch: 047, Loss: 0.8447\n",
      "Epoch: 048, Loss: 0.8398\n",
      "Epoch: 049, Loss: 0.8355\n"
     ]
    }
   ],
   "execution_count": 90
  },
  {
   "metadata": {
    "ExecuteTime": {
     "end_time": "2025-01-06T12:48:53.034012700Z",
     "start_time": "2024-12-04T22:13:26.424126Z"
    }
   },
   "cell_type": "code",
   "source": [
    "from torch_geometric.utils import to_networkx\n",
    "import matplotlib.pyplot as plt\n",
    "import networkx as nx"
   ],
   "id": "1206f4be90a5dd3f",
   "outputs": [],
   "execution_count": 50
  },
  {
   "metadata": {
    "ExecuteTime": {
     "end_time": "2025-01-06T14:17:44.796908Z",
     "start_time": "2025-01-06T14:17:43.471299Z"
    }
   },
   "cell_type": "code",
   "source": [
    "from torch_geometric.utils import to_networkx\n",
    "\n",
    "# Convert to a NetworkX graph\n",
    "# Assuming your `data` object contains `edge_index` and `x` (node features)\n",
    "G = to_networkx(data, to_undirected=True)  # Convert to an undirected NetworkX graph\n",
    "\n",
    "# Optionally, add node features or labels as attributes to the NetworkX graph\n",
    "for i, feature in enumerate(data.x):\n",
    "    G.nodes[i]['feature'] = feature.tolist()\n",
    "    \n",
    "if hasattr(data, 'y'):  # Add labels if they exist\n",
    "    for i, label in enumerate(data.y):\n",
    "        G.nodes[i]['label'] = int(label.item())\n"
   ],
   "id": "b2c60793758ae666",
   "outputs": [],
   "execution_count": 57
  },
  {
   "metadata": {
    "ExecuteTime": {
     "end_time": "2025-01-06T14:18:41.259795Z",
     "start_time": "2025-01-06T14:18:41.229666Z"
    }
   },
   "cell_type": "code",
   "source": [
    "for u, v, idx in G.edges(data=True):\n",
    "    idx['weight'] = float(data.edge_weight[data.edge_index[0] == u][data.edge_index[1] == v])"
   ],
   "id": "57bce314987632b3",
   "outputs": [
    {
     "ename": "TypeError",
     "evalue": "'NoneType' object is not subscriptable",
     "output_type": "error",
     "traceback": [
      "\u001B[1;31m---------------------------------------------------------------------------\u001B[0m",
      "\u001B[1;31mTypeError\u001B[0m                                 Traceback (most recent call last)",
      "Cell \u001B[1;32mIn[58], line 2\u001B[0m\n\u001B[0;32m      1\u001B[0m \u001B[38;5;28;01mfor\u001B[39;00m u, v, idx \u001B[38;5;129;01min\u001B[39;00m G\u001B[38;5;241m.\u001B[39medges(data\u001B[38;5;241m=\u001B[39m\u001B[38;5;28;01mTrue\u001B[39;00m):\n\u001B[1;32m----> 2\u001B[0m     idx[\u001B[38;5;124m'\u001B[39m\u001B[38;5;124mweight\u001B[39m\u001B[38;5;124m'\u001B[39m] \u001B[38;5;241m=\u001B[39m \u001B[38;5;28mfloat\u001B[39m(\u001B[43mdata\u001B[49m\u001B[38;5;241;43m.\u001B[39;49m\u001B[43medge_weight\u001B[49m\u001B[43m[\u001B[49m\u001B[43mdata\u001B[49m\u001B[38;5;241;43m.\u001B[39;49m\u001B[43medge_index\u001B[49m\u001B[43m[\u001B[49m\u001B[38;5;241;43m0\u001B[39;49m\u001B[43m]\u001B[49m\u001B[43m \u001B[49m\u001B[38;5;241;43m==\u001B[39;49m\u001B[43m \u001B[49m\u001B[43mu\u001B[49m\u001B[43m]\u001B[49m[data\u001B[38;5;241m.\u001B[39medge_index[\u001B[38;5;241m1\u001B[39m] \u001B[38;5;241m==\u001B[39m v])\n",
      "\u001B[1;31mTypeError\u001B[0m: 'NoneType' object is not subscriptable"
     ]
    }
   ],
   "execution_count": 58
  },
  {
   "metadata": {
    "ExecuteTime": {
     "end_time": "2025-01-06T14:14:23.466994Z",
     "start_time": "2025-01-06T14:14:21.987788Z"
    }
   },
   "cell_type": "code",
   "source": "export_to_gephi(data)",
   "id": "d4f5f91b5e6dbc2e",
   "outputs": [
    {
     "ename": "TypeError",
     "evalue": "cannot unpack non-iterable float object",
     "output_type": "error",
     "traceback": [
      "\u001B[1;31m---------------------------------------------------------------------------\u001B[0m",
      "\u001B[1;31mTypeError\u001B[0m                                 Traceback (most recent call last)",
      "Cell \u001B[1;32mIn[55], line 1\u001B[0m\n\u001B[1;32m----> 1\u001B[0m \u001B[43mexport_to_gephi\u001B[49m\u001B[43m(\u001B[49m\u001B[43mdata\u001B[49m\u001B[43m)\u001B[49m\n",
      "Cell \u001B[1;32mIn[54], line 15\u001B[0m, in \u001B[0;36mexport_to_gephi\u001B[1;34m(data)\u001B[0m\n\u001B[0;32m     12\u001B[0m     \u001B[38;5;28;01mfor\u001B[39;00m i, (u, v) \u001B[38;5;129;01min\u001B[39;00m \u001B[38;5;28menumerate\u001B[39m(graph_nx\u001B[38;5;241m.\u001B[39medges):\n\u001B[0;32m     13\u001B[0m         graph_nx\u001B[38;5;241m.\u001B[39medges[u, v][\u001B[38;5;124m\"\u001B[39m\u001B[38;5;124mweight\u001B[39m\u001B[38;5;124m\"\u001B[39m] \u001B[38;5;241m=\u001B[39m edge_weight[i]\n\u001B[1;32m---> 15\u001B[0m \u001B[43mnx\u001B[49m\u001B[38;5;241;43m.\u001B[39;49m\u001B[43mwrite_gexf\u001B[49m\u001B[43m(\u001B[49m\u001B[43mgraph_nx\u001B[49m\u001B[43m,\u001B[49m\u001B[38;5;124;43m\"\u001B[39;49m\u001B[38;5;124;43mgraph_data_with.gexf\u001B[39;49m\u001B[38;5;124;43m\"\u001B[39;49m\u001B[43m)\u001B[49m\n",
      "File \u001B[1;32m<class 'networkx.utils.decorators.argmap'> compilation 5:5\u001B[0m, in \u001B[0;36margmap_write_gexf_1\u001B[1;34m(G, path, encoding, prettyprint, version)\u001B[0m\n\u001B[0;32m      3\u001B[0m \u001B[38;5;28;01mimport\u001B[39;00m \u001B[38;5;21;01mgzip\u001B[39;00m\n\u001B[0;32m      4\u001B[0m \u001B[38;5;28;01mimport\u001B[39;00m \u001B[38;5;21;01minspect\u001B[39;00m\n\u001B[1;32m----> 5\u001B[0m \u001B[38;5;28;01mimport\u001B[39;00m \u001B[38;5;21;01mitertools\u001B[39;00m\n\u001B[0;32m      6\u001B[0m \u001B[38;5;28;01mimport\u001B[39;00m \u001B[38;5;21;01mre\u001B[39;00m\n\u001B[0;32m      7\u001B[0m \u001B[38;5;28;01mimport\u001B[39;00m \u001B[38;5;21;01mwarnings\u001B[39;00m\n",
      "File \u001B[1;32m~\\PycharmProjects\\Manu_factoid_GCN\\.venv\\lib\\site-packages\\networkx\\readwrite\\gexf.py:87\u001B[0m, in \u001B[0;36mwrite_gexf\u001B[1;34m(G, path, encoding, prettyprint, version)\u001B[0m\n\u001B[0;32m     38\u001B[0m \u001B[38;5;250m\u001B[39m\u001B[38;5;124;03m\"\"\"Write G in GEXF format to path.\u001B[39;00m\n\u001B[0;32m     39\u001B[0m \n\u001B[0;32m     40\u001B[0m \u001B[38;5;124;03m\"GEXF (Graph Exchange XML Format) is a language for describing\u001B[39;00m\n\u001B[1;32m   (...)\u001B[0m\n\u001B[0;32m     84\u001B[0m \u001B[38;5;124;03m.. [2] GEXF schema, http://gexf.net/schema.html\u001B[39;00m\n\u001B[0;32m     85\u001B[0m \u001B[38;5;124;03m\"\"\"\u001B[39;00m\n\u001B[0;32m     86\u001B[0m writer \u001B[38;5;241m=\u001B[39m GEXFWriter(encoding\u001B[38;5;241m=\u001B[39mencoding, prettyprint\u001B[38;5;241m=\u001B[39mprettyprint, version\u001B[38;5;241m=\u001B[39mversion)\n\u001B[1;32m---> 87\u001B[0m \u001B[43mwriter\u001B[49m\u001B[38;5;241;43m.\u001B[39;49m\u001B[43madd_graph\u001B[49m\u001B[43m(\u001B[49m\u001B[43mG\u001B[49m\u001B[43m)\u001B[49m\n\u001B[0;32m     88\u001B[0m writer\u001B[38;5;241m.\u001B[39mwrite(path)\n",
      "File \u001B[1;32m~\\PycharmProjects\\Manu_factoid_GCN\\.venv\\lib\\site-packages\\networkx\\readwrite\\gexf.py:346\u001B[0m, in \u001B[0;36mGEXFWriter.add_graph\u001B[1;34m(self, G)\u001B[0m\n\u001B[0;32m    344\u001B[0m graph_element \u001B[38;5;241m=\u001B[39m Element(\u001B[38;5;124m\"\u001B[39m\u001B[38;5;124mgraph\u001B[39m\u001B[38;5;124m\"\u001B[39m, defaultedgetype\u001B[38;5;241m=\u001B[39mdefault, mode\u001B[38;5;241m=\u001B[39mmode, name\u001B[38;5;241m=\u001B[39mname)\n\u001B[0;32m    345\u001B[0m \u001B[38;5;28mself\u001B[39m\u001B[38;5;241m.\u001B[39mgraph_element \u001B[38;5;241m=\u001B[39m graph_element\n\u001B[1;32m--> 346\u001B[0m \u001B[38;5;28;43mself\u001B[39;49m\u001B[38;5;241;43m.\u001B[39;49m\u001B[43madd_nodes\u001B[49m\u001B[43m(\u001B[49m\u001B[43mG\u001B[49m\u001B[43m,\u001B[49m\u001B[43m \u001B[49m\u001B[43mgraph_element\u001B[49m\u001B[43m)\u001B[49m\n\u001B[0;32m    347\u001B[0m \u001B[38;5;28mself\u001B[39m\u001B[38;5;241m.\u001B[39madd_edges(G, graph_element)\n\u001B[0;32m    348\u001B[0m \u001B[38;5;28mself\u001B[39m\u001B[38;5;241m.\u001B[39mxml\u001B[38;5;241m.\u001B[39mappend(graph_element)\n",
      "File \u001B[1;32m~\\PycharmProjects\\Manu_factoid_GCN\\.venv\\lib\\site-packages\\networkx\\readwrite\\gexf.py:385\u001B[0m, in \u001B[0;36mGEXFWriter.add_nodes\u001B[1;34m(self, G, graph_element)\u001B[0m\n\u001B[0;32m    383\u001B[0m         node_data \u001B[38;5;241m=\u001B[39m \u001B[38;5;28mself\u001B[39m\u001B[38;5;241m.\u001B[39madd_spells(node_element, node_data)\n\u001B[0;32m    384\u001B[0m     node_data \u001B[38;5;241m=\u001B[39m \u001B[38;5;28mself\u001B[39m\u001B[38;5;241m.\u001B[39madd_viz(node_element, node_data)\n\u001B[1;32m--> 385\u001B[0m     node_data \u001B[38;5;241m=\u001B[39m \u001B[38;5;28;43mself\u001B[39;49m\u001B[38;5;241;43m.\u001B[39;49m\u001B[43madd_attributes\u001B[49m\u001B[43m(\u001B[49m\u001B[38;5;124;43m\"\u001B[39;49m\u001B[38;5;124;43mnode\u001B[39;49m\u001B[38;5;124;43m\"\u001B[39;49m\u001B[43m,\u001B[49m\u001B[43m \u001B[49m\u001B[43mnode_element\u001B[49m\u001B[43m,\u001B[49m\u001B[43m \u001B[49m\u001B[43mnode_data\u001B[49m\u001B[43m,\u001B[49m\u001B[43m \u001B[49m\u001B[43mdefault\u001B[49m\u001B[43m)\u001B[49m\n\u001B[0;32m    386\u001B[0m     nodes_element\u001B[38;5;241m.\u001B[39mappend(node_element)\n\u001B[0;32m    387\u001B[0m graph_element\u001B[38;5;241m.\u001B[39mappend(nodes_element)\n",
      "File \u001B[1;32m~\\PycharmProjects\\Manu_factoid_GCN\\.venv\\lib\\site-packages\\networkx\\readwrite\\gexf.py:472\u001B[0m, in \u001B[0;36mGEXFWriter.add_attributes\u001B[1;34m(self, node_or_edge, xml_obj, data, default)\u001B[0m\n\u001B[0;32m    469\u001B[0m     \u001B[38;5;28;01mraise\u001B[39;00m \u001B[38;5;167;01mTypeError\u001B[39;00m(\u001B[38;5;124mf\u001B[39m\u001B[38;5;124m\"\u001B[39m\u001B[38;5;124mattribute value type is not allowed: \u001B[39m\u001B[38;5;132;01m{\u001B[39;00mval_type\u001B[38;5;132;01m}\u001B[39;00m\u001B[38;5;124m\"\u001B[39m)\n\u001B[0;32m    470\u001B[0m \u001B[38;5;28;01mif\u001B[39;00m \u001B[38;5;28misinstance\u001B[39m(v, \u001B[38;5;28mlist\u001B[39m):\n\u001B[0;32m    471\u001B[0m     \u001B[38;5;66;03m# dynamic data\u001B[39;00m\n\u001B[1;32m--> 472\u001B[0m     \u001B[38;5;28;01mfor\u001B[39;00m val, start, end \u001B[38;5;129;01min\u001B[39;00m v:\n\u001B[0;32m    473\u001B[0m         val_type \u001B[38;5;241m=\u001B[39m \u001B[38;5;28mtype\u001B[39m(val)\n\u001B[0;32m    474\u001B[0m         \u001B[38;5;28;01mif\u001B[39;00m start \u001B[38;5;129;01mis\u001B[39;00m \u001B[38;5;129;01mnot\u001B[39;00m \u001B[38;5;28;01mNone\u001B[39;00m \u001B[38;5;129;01mor\u001B[39;00m end \u001B[38;5;129;01mis\u001B[39;00m \u001B[38;5;129;01mnot\u001B[39;00m \u001B[38;5;28;01mNone\u001B[39;00m:\n",
      "\u001B[1;31mTypeError\u001B[0m: cannot unpack non-iterable float object"
     ]
    }
   ],
   "execution_count": 55
  },
  {
   "metadata": {
    "ExecuteTime": {
     "end_time": "2025-01-06T12:48:53.034012700Z",
     "start_time": "2024-12-04T22:36:21.899938Z"
    }
   },
   "cell_type": "code",
   "source": "G = to_networkx(data, to_undirected=True)\n",
   "id": "bca6d060fff523f1",
   "outputs": [],
   "execution_count": 53
  },
  {
   "metadata": {
    "ExecuteTime": {
     "end_time": "2025-01-06T12:48:53.034012700Z",
     "start_time": "2024-12-04T22:36:27.200763Z"
    }
   },
   "cell_type": "code",
   "source": "nx.write_gexf(G,\"graph_data_with.gexf\")",
   "id": "ee03d03bf4464901",
   "outputs": [],
   "execution_count": 54
  }
 ],
 "metadata": {
  "kernelspec": {
   "display_name": "manu_factoid",
   "language": "python",
   "name": "manu_factoid"
  },
  "language_info": {
   "codemirror_mode": {
    "name": "ipython",
    "version": 2
   },
   "file_extension": ".py",
   "mimetype": "text/x-python",
   "name": "python",
   "nbconvert_exporter": "python",
   "pygments_lexer": "ipython2",
   "version": "2.7.6"
  }
 },
 "nbformat": 4,
 "nbformat_minor": 5
}
