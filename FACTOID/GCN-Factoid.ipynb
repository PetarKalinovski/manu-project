{
 "cells": [
  {
   "cell_type": "code",
   "id": "initial_id",
   "metadata": {
    "collapsed": true,
    "ExecuteTime": {
     "end_time": "2024-12-04T21:35:16.109657Z",
     "start_time": "2024-12-04T21:35:01.008423Z"
    }
   },
   "source": [
    "import torch\n",
    "from sympy.printing.tensorflow import tensorflow"
   ],
   "outputs": [],
   "execution_count": 1
  },
  {
   "metadata": {
    "ExecuteTime": {
     "end_time": "2024-11-20T15:30:08.998735Z",
     "start_time": "2024-11-20T15:30:05.505543Z"
    }
   },
   "cell_type": "code",
   "source": "pip install torch-geometric",
   "id": "7d1fe6925ac49011",
   "outputs": [
    {
     "name": "stdout",
     "output_type": "stream",
     "text": [
      "Requirement already satisfied: torch-geometric in c:\\users\\dell\\appdata\\local\\programs\\python\\python310\\lib\\site-packages (2.6.1)\n",
      "Requirement already satisfied: aiohttp in c:\\users\\dell\\appdata\\local\\programs\\python\\python310\\lib\\site-packages (from torch-geometric) (3.10.10)\n",
      "Requirement already satisfied: fsspec in c:\\users\\dell\\appdata\\local\\programs\\python\\python310\\lib\\site-packages (from torch-geometric) (2024.6.1)\n",
      "Requirement already satisfied: jinja2 in c:\\users\\dell\\appdata\\local\\programs\\python\\python310\\lib\\site-packages (from torch-geometric) (3.1.4)\n",
      "Requirement already satisfied: numpy in c:\\users\\dell\\appdata\\local\\programs\\python\\python310\\lib\\site-packages (from torch-geometric) (1.26.4)\n",
      "Requirement already satisfied: psutil>=5.8.0 in c:\\users\\dell\\appdata\\local\\programs\\python\\python310\\lib\\site-packages (from torch-geometric) (6.0.0)\n",
      "Requirement already satisfied: pyparsing in c:\\users\\dell\\appdata\\local\\programs\\python\\python310\\lib\\site-packages (from torch-geometric) (3.2.0)\n",
      "Requirement already satisfied: requests in c:\\users\\dell\\appdata\\local\\programs\\python\\python310\\lib\\site-packages (from torch-geometric) (2.32.3)\n",
      "Requirement already satisfied: tqdm in c:\\users\\dell\\appdata\\local\\programs\\python\\python310\\lib\\site-packages (from torch-geometric) (4.66.5)\n",
      "Requirement already satisfied: aiohappyeyeballs>=2.3.0 in c:\\users\\dell\\appdata\\local\\programs\\python\\python310\\lib\\site-packages (from aiohttp->torch-geometric) (2.4.3)\n",
      "Requirement already satisfied: aiosignal>=1.1.2 in c:\\users\\dell\\appdata\\local\\programs\\python\\python310\\lib\\site-packages (from aiohttp->torch-geometric) (1.3.1)\n",
      "Requirement already satisfied: attrs>=17.3.0 in c:\\users\\dell\\appdata\\local\\programs\\python\\python310\\lib\\site-packages (from aiohttp->torch-geometric) (24.2.0)\n",
      "Requirement already satisfied: frozenlist>=1.1.1 in c:\\users\\dell\\appdata\\local\\programs\\python\\python310\\lib\\site-packages (from aiohttp->torch-geometric) (1.4.1)\n",
      "Requirement already satisfied: multidict<7.0,>=4.5 in c:\\users\\dell\\appdata\\local\\programs\\python\\python310\\lib\\site-packages (from aiohttp->torch-geometric) (6.1.0)\n",
      "Requirement already satisfied: yarl<2.0,>=1.12.0 in c:\\users\\dell\\appdata\\local\\programs\\python\\python310\\lib\\site-packages (from aiohttp->torch-geometric) (1.15.2)\n",
      "Requirement already satisfied: async-timeout<5.0,>=4.0 in c:\\users\\dell\\appdata\\local\\programs\\python\\python310\\lib\\site-packages (from aiohttp->torch-geometric) (4.0.3)\n",
      "Requirement already satisfied: MarkupSafe>=2.0 in c:\\users\\dell\\appdata\\local\\programs\\python\\python310\\lib\\site-packages (from jinja2->torch-geometric) (3.0.1)\n",
      "Requirement already satisfied: charset-normalizer<4,>=2 in c:\\users\\dell\\appdata\\local\\programs\\python\\python310\\lib\\site-packages (from requests->torch-geometric) (3.4.0)\n",
      "Requirement already satisfied: idna<4,>=2.5 in c:\\users\\dell\\appdata\\local\\programs\\python\\python310\\lib\\site-packages (from requests->torch-geometric) (3.10)\n",
      "Requirement already satisfied: urllib3<3,>=1.21.1 in c:\\users\\dell\\appdata\\local\\programs\\python\\python310\\lib\\site-packages (from requests->torch-geometric) (2.2.3)\n",
      "Requirement already satisfied: certifi>=2017.4.17 in c:\\users\\dell\\appdata\\local\\programs\\python\\python310\\lib\\site-packages (from requests->torch-geometric) (2024.8.30)\n",
      "Requirement already satisfied: colorama in c:\\users\\dell\\appdata\\local\\programs\\python\\python310\\lib\\site-packages (from tqdm->torch-geometric) (0.4.6)\n",
      "Requirement already satisfied: typing-extensions>=4.1.0 in c:\\users\\dell\\appdata\\local\\programs\\python\\python310\\lib\\site-packages (from multidict<7.0,>=4.5->aiohttp->torch-geometric) (4.12.2)\n",
      "Requirement already satisfied: propcache>=0.2.0 in c:\\users\\dell\\appdata\\local\\programs\\python\\python310\\lib\\site-packages (from yarl<2.0,>=1.12.0->aiohttp->torch-geometric) (0.2.0)\n",
      "Note: you may need to restart the kernel to use updated packages.\n"
     ]
    },
    {
     "name": "stderr",
     "output_type": "stream",
     "text": [
      "\n",
      "[notice] A new release of pip is available: 24.2 -> 24.3.1\n",
      "[notice] To update, run: C:\\Users\\Dell\\AppData\\Local\\Programs\\Python\\Python310\\python.exe -m pip install --upgrade pip\n"
     ]
    }
   ],
   "execution_count": 2
  },
  {
   "metadata": {
    "ExecuteTime": {
     "end_time": "2024-12-04T21:35:56.657297Z",
     "start_time": "2024-12-04T21:35:53.548792Z"
    }
   },
   "cell_type": "code",
   "source": "from torch_geometric.data import Data",
   "id": "98f20b94751b75cd",
   "outputs": [
    {
     "name": "stderr",
     "output_type": "stream",
     "text": [
      "C:\\Users\\Dell\\AppData\\Local\\Programs\\Python\\Python310\\lib\\site-packages\\tqdm\\auto.py:21: TqdmWarning: IProgress not found. Please update jupyter and ipywidgets. See https://ipywidgets.readthedocs.io/en/stable/user_install.html\n",
      "  from .autonotebook import tqdm as notebook_tqdm\n"
     ]
    }
   ],
   "execution_count": 2
  },
  {
   "metadata": {
    "ExecuteTime": {
     "end_time": "2024-12-05T13:52:30.863050Z",
     "start_time": "2024-12-05T13:52:30.779738Z"
    }
   },
   "cell_type": "code",
   "source": "data=torch.load('graph_data_with_txt.pt')",
   "id": "1f9229f1db84387a",
   "outputs": [
    {
     "name": "stderr",
     "output_type": "stream",
     "text": [
      "C:\\Users\\Dell\\AppData\\Local\\Temp\\ipykernel_31480\\951303083.py:1: FutureWarning: You are using `torch.load` with `weights_only=False` (the current default value), which uses the default pickle module implicitly. It is possible to construct malicious pickle data which will execute arbitrary code during unpickling (See https://github.com/pytorch/pytorch/blob/main/SECURITY.md#untrusted-models for more details). In a future release, the default value for `weights_only` will be flipped to `True`. This limits the functions that could be executed during unpickling. Arbitrary objects will no longer be allowed to be loaded via this mode unless they are explicitly allowlisted by the user via `torch.serialization.add_safe_globals`. We recommend you start setting `weights_only=True` for any use case where you don't have full control of the loaded file. Please open an issue on GitHub for any issues related to this experimental feature.\n",
      "  data=torch.load('graph_data_with_txt.pt')\n"
     ]
    }
   ],
   "execution_count": 55
  },
  {
   "metadata": {
    "ExecuteTime": {
     "end_time": "2024-11-20T15:54:13.227410Z",
     "start_time": "2024-11-20T15:54:13.211618Z"
    }
   },
   "cell_type": "code",
   "source": "#data.y[data.y == -1] = 3",
   "id": "5f07bf554ee0d2a0",
   "outputs": [],
   "execution_count": 41
  },
  {
   "metadata": {
    "ExecuteTime": {
     "end_time": "2024-12-05T13:52:34.469708Z",
     "start_time": "2024-12-05T13:52:34.449592Z"
    }
   },
   "cell_type": "code",
   "source": [
    "num_nodes = data.num_nodes\n",
    "num_train = int(0.8 * num_nodes)\n",
    "train_mask = torch.zeros(num_nodes, dtype=torch.bool)\n",
    "train_mask[:num_train] = 1"
   ],
   "id": "d6273ef2ccdbf3dd",
   "outputs": [],
   "execution_count": 56
  },
  {
   "metadata": {
    "ExecuteTime": {
     "end_time": "2024-12-05T13:52:52.800275Z",
     "start_time": "2024-12-05T13:52:52.788739Z"
    }
   },
   "cell_type": "code",
   "source": [
    "data.train_mask = train_mask\n",
    "data.test_mask = ~train_mask"
   ],
   "id": "dad495538008a783",
   "outputs": [],
   "execution_count": 57
  },
  {
   "metadata": {
    "ExecuteTime": {
     "end_time": "2024-12-05T13:52:53.965939Z",
     "start_time": "2024-12-05T13:52:53.949192Z"
    }
   },
   "cell_type": "code",
   "source": [
    "from torch.optim import Adam\n",
    "from torch.nn import CrossEntropyLoss\n",
    "from torch.nn.functional import dropout\n",
    "from torch_geometric.nn import GCNConv, Linear, SAGEConv"
   ],
   "id": "295b18c0e78a9ac5",
   "outputs": [],
   "execution_count": 58
  },
  {
   "metadata": {
    "ExecuteTime": {
     "end_time": "2024-12-05T13:52:57.471852Z",
     "start_time": "2024-12-05T13:52:57.456611Z"
    }
   },
   "cell_type": "code",
   "source": [
    "import torch\n",
    "from torch_geometric.nn import GCNConv\n",
    "from torch.nn import Linear, Dropout, LeakyReLU\n"
   ],
   "id": "d691ce6eda3a6144",
   "outputs": [],
   "execution_count": 59
  },
  {
   "metadata": {
    "ExecuteTime": {
     "end_time": "2024-12-05T14:09:36.333738Z",
     "start_time": "2024-12-05T14:09:36.318336Z"
    }
   },
   "cell_type": "code",
   "source": [
    "import torch\n",
    "from torch.nn import Linear, Dropout, Sigmoid\n",
    "from torch_geometric.nn import GCNConv\n",
    "from torch_geometric.nn import SAGEConv\n",
    "class GCN(torch.nn.Module):\n",
    "    def __init__(self):\n",
    "        super().__init__()\n",
    "        self.conv1 = GCNConv(-1, 64)\n",
    "        self.conv2 = GCNConv(64, 128)\n",
    "        self.conv3 = GCNConv(128, 256)\n",
    "        self.conv4 = GCNConv(256, 512)\n",
    "        self.linear = Linear(512, 256)\n",
    "        self.linear1=Linear(256,128)\n",
    "        self.linear2 = Linear(128, 64)\n",
    "        self.linear3 = Linear(64, 1)\n",
    "        self.dropout = Dropout(p=0.4)\n",
    "\n",
    "    def forward(self, x, edge_index, edge_weight=None):\n",
    "        x = self.conv1(x, edge_index, edge_weight=edge_weight)\n",
    "        x = torch.relu(x)\n",
    "        x = self.dropout(x)\n",
    "        \n",
    "        x = self.conv2(x, edge_index, edge_weight=edge_weight)\n",
    "        x = torch.relu(x)\n",
    "        x = self.dropout(x)\n",
    "        \n",
    "        x = self.conv3(x,edge_index, edge_weight=edge_weight)\n",
    "        x = torch.relu(x)\n",
    "        x = self.dropout(x)\n",
    "        \n",
    "        x = self.conv4(x,edge_index, edge_weight=edge_weight)\n",
    "        x = torch.relu(x)\n",
    "        x = self.dropout(x)\n",
    "        \n",
    "        # x = self.conv5(x,edge_index)\n",
    "        # x = torch.relu(x)\n",
    "        # x = self.dropout(x)\n",
    "        x=self.linear(x)\n",
    "        x=self.linear1(x)\n",
    "        x=self.linear2(x)\n",
    "        x = self.linear3(x)\n",
    "        return x"
   ],
   "id": "1a64deea56f33079",
   "outputs": [],
   "execution_count": 95
  },
  {
   "metadata": {
    "ExecuteTime": {
     "end_time": "2024-12-05T13:53:12.872979Z",
     "start_time": "2024-12-05T13:53:12.866456Z"
    }
   },
   "cell_type": "code",
   "source": [
    "import torch\n",
    "from torch.nn import Linear, Dropout, Sigmoid\n",
    "from torch_geometric.nn import SAGEConv\n",
    "class SAGE(torch.nn.Module):\n",
    "    def __init__(self):\n",
    "        super().__init__()\n",
    "        self.conv1 = SAGEConv(-1, 64)\n",
    "        self.conv2 = SAGEConv(64, 128)\n",
    "        self.conv3 = SAGEConv(128, 256)\n",
    "        self.conv4 = SAGEConv(256, 512)\n",
    "        self.linear = Linear(512, 256)\n",
    "        self.linear1=Linear(256,128)\n",
    "        self.linear2 = Linear(128, 64)\n",
    "        self.linear3 = Linear(64, 1)\n",
    "        self.dropout = Dropout(p=0.4)\n",
    "\n",
    "    def forward(self, x, edge_index):\n",
    "        x = self.conv1(x, edge_index)\n",
    "        x = torch.relu(x)\n",
    "        x = self.dropout(x)\n",
    "        \n",
    "        x = self.conv2(x, edge_index)\n",
    "        x = torch.relu(x)\n",
    "        x = self.dropout(x)\n",
    "        \n",
    "        x = self.conv3(x,edge_index)\n",
    "        x = torch.relu(x)\n",
    "        x = self.dropout(x)\n",
    "        \n",
    "        x = self.conv4(x,edge_index)\n",
    "        x = torch.relu(x)\n",
    "        x = self.dropout(x)\n",
    "        \n",
    "        # x = self.conv5(x,edge_index)\n",
    "        # x = torch.relu(x)\n",
    "        # x = self.dropout(x)\n",
    "        x=self.linear(x)\n",
    "        x=self.linear1(x)\n",
    "        x=self.linear2(x)\n",
    "        x = self.linear3(x)\n",
    "        return x"
   ],
   "id": "585813aab42a1ca5",
   "outputs": [],
   "execution_count": 61
  },
  {
   "metadata": {
    "ExecuteTime": {
     "end_time": "2024-12-05T14:09:39.922782Z",
     "start_time": "2024-12-05T14:09:39.907514Z"
    }
   },
   "cell_type": "code",
   "source": [
    "def train(model, dataset, optimizer, criterion, epochs=5):\n",
    "    train_mask = dataset.train_mask\n",
    "    for epoch in range(epochs):\n",
    "        model.train()\n",
    "        optimizer.zero_grad()\n",
    "        out = model(dataset.x, dataset.edge_index,dataset.edge_weight).squeeze()  # Output shape: [num_nodes]\n",
    "        loss = criterion(out[train_mask], dataset.y[train_mask].float())  # Labels must be float\n",
    "        loss.backward()\n",
    "        optimizer.step()\n",
    "        print(f'Epoch: {epoch:03d}, Loss: {loss:.4f}')"
   ],
   "id": "84eb9b984caffb00",
   "outputs": [],
   "execution_count": 96
  },
  {
   "metadata": {
    "ExecuteTime": {
     "end_time": "2024-11-20T16:20:00.449378Z",
     "start_time": "2024-11-20T16:20:00.418102Z"
    }
   },
   "cell_type": "code",
   "source": "data",
   "id": "643bd6d6435875d1",
   "outputs": [
    {
     "data": {
      "text/plain": [
       "Data(x=[4150, 1], edge_index=[2, 2270905], y=[4150], train_mask=[4150], test_mask=[4150])"
      ]
     },
     "execution_count": 122,
     "metadata": {},
     "output_type": "execute_result"
    }
   ],
   "execution_count": 122
  },
  {
   "metadata": {
    "ExecuteTime": {
     "end_time": "2024-12-05T14:16:18.938785Z",
     "start_time": "2024-12-05T14:16:18.914028Z"
    }
   },
   "cell_type": "code",
   "source": "model_gcn = GCN()",
   "id": "7872b7da23a988d9",
   "outputs": [],
   "execution_count": 109
  },
  {
   "metadata": {
    "ExecuteTime": {
     "end_time": "2024-11-20T16:24:07.724516Z",
     "start_time": "2024-11-20T16:24:07.644405Z"
    }
   },
   "cell_type": "code",
   "source": "model_sage=SAGE()",
   "id": "1079aa9478fc5ee9",
   "outputs": [],
   "execution_count": 134
  },
  {
   "metadata": {
    "ExecuteTime": {
     "end_time": "2024-12-05T13:53:32.588004Z",
     "start_time": "2024-12-05T13:53:32.575802Z"
    }
   },
   "cell_type": "code",
   "source": "model_gcn",
   "id": "70265206dc300beb",
   "outputs": [
    {
     "data": {
      "text/plain": [
       "GCN(\n",
       "  (conv1): GCNConv(-1, 64)\n",
       "  (conv2): GCNConv(64, 128)\n",
       "  (conv3): GCNConv(128, 256)\n",
       "  (conv4): GCNConv(256, 512)\n",
       "  (linear): Linear(in_features=512, out_features=256, bias=True)\n",
       "  (linear1): Linear(in_features=256, out_features=128, bias=True)\n",
       "  (linear2): Linear(in_features=128, out_features=64, bias=True)\n",
       "  (linear3): Linear(in_features=64, out_features=1, bias=True)\n",
       "  (dropout): Dropout(p=0.4, inplace=False)\n",
       ")"
      ]
     },
     "execution_count": 64,
     "metadata": {},
     "output_type": "execute_result"
    }
   ],
   "execution_count": 64
  },
  {
   "metadata": {
    "ExecuteTime": {
     "end_time": "2024-12-05T14:09:48.815059Z",
     "start_time": "2024-12-05T14:09:48.806701Z"
    }
   },
   "cell_type": "code",
   "source": "optimizer = Adam(model_gcn.parameters(), lr=0.001)",
   "id": "a2ddefde61ff0a02",
   "outputs": [],
   "execution_count": 98
  },
  {
   "metadata": {
    "ExecuteTime": {
     "end_time": "2024-12-05T14:09:50.007289Z",
     "start_time": "2024-12-05T14:09:49.995003Z"
    }
   },
   "cell_type": "code",
   "source": "criterion = torch.nn.BCEWithLogitsLoss()",
   "id": "304689634bcd4ba3",
   "outputs": [],
   "execution_count": 99
  },
  {
   "metadata": {
    "ExecuteTime": {
     "end_time": "2024-12-04T21:50:39.955470Z",
     "start_time": "2024-12-04T21:50:39.926298Z"
    }
   },
   "cell_type": "code",
   "source": "(data.y == 0).sum().item()",
   "id": "8c00927cc006f628",
   "outputs": [
    {
     "data": {
      "text/plain": [
       "3064"
      ]
     },
     "execution_count": 15,
     "metadata": {},
     "output_type": "execute_result"
    }
   ],
   "execution_count": 15
  },
  {
   "metadata": {
    "ExecuteTime": {
     "end_time": "2024-12-05T13:53:43.347112Z",
     "start_time": "2024-12-05T13:53:42.926917Z"
    }
   },
   "cell_type": "code",
   "source": [
    "train(model=model_sage, dataset=data,\n",
    "      criterion=criterion, optimizer=optimizer,\n",
    "      epochs=50)"
   ],
   "id": "4cfaf0539a513844",
   "outputs": [
    {
     "ename": "NameError",
     "evalue": "name 'model_sage' is not defined",
     "output_type": "error",
     "traceback": [
      "\u001B[1;31m---------------------------------------------------------------------------\u001B[0m",
      "\u001B[1;31mNameError\u001B[0m                                 Traceback (most recent call last)",
      "Cell \u001B[1;32mIn[67], line 1\u001B[0m\n\u001B[1;32m----> 1\u001B[0m train(model\u001B[38;5;241m=\u001B[39m\u001B[43mmodel_sage\u001B[49m, dataset\u001B[38;5;241m=\u001B[39mdata,\n\u001B[0;32m      2\u001B[0m       criterion\u001B[38;5;241m=\u001B[39mcriterion, optimizer\u001B[38;5;241m=\u001B[39moptimizer,\n\u001B[0;32m      3\u001B[0m       epochs\u001B[38;5;241m=\u001B[39m\u001B[38;5;241m50\u001B[39m)\n",
      "\u001B[1;31mNameError\u001B[0m: name 'model_sage' is not defined"
     ]
    }
   ],
   "execution_count": 67
  },
  {
   "metadata": {
    "ExecuteTime": {
     "end_time": "2024-12-05T14:11:07.938086Z",
     "start_time": "2024-12-05T14:09:54.777125Z"
    }
   },
   "cell_type": "code",
   "source": [
    "train(model=model_gcn, dataset=data,\n",
    "      criterion=criterion, optimizer=optimizer,\n",
    "      epochs=50)"
   ],
   "id": "bfc051a13aa5f54b",
   "outputs": [
    {
     "name": "stdout",
     "output_type": "stream",
     "text": [
      "Epoch: 000, Loss: 0.6712\n",
      "Epoch: 001, Loss: 0.6274\n",
      "Epoch: 002, Loss: 0.6025\n",
      "Epoch: 003, Loss: 0.6330\n",
      "Epoch: 004, Loss: 0.6043\n",
      "Epoch: 005, Loss: 0.5967\n",
      "Epoch: 006, Loss: 0.6035\n",
      "Epoch: 007, Loss: 0.6064\n",
      "Epoch: 008, Loss: 0.6012\n",
      "Epoch: 009, Loss: 0.5946\n",
      "Epoch: 010, Loss: 0.5903\n",
      "Epoch: 011, Loss: 0.5882\n",
      "Epoch: 012, Loss: 0.5836\n",
      "Epoch: 013, Loss: 0.5796\n",
      "Epoch: 014, Loss: 0.5797\n",
      "Epoch: 015, Loss: 0.5762\n",
      "Epoch: 016, Loss: 0.5729\n",
      "Epoch: 017, Loss: 0.5791\n",
      "Epoch: 018, Loss: 0.5726\n",
      "Epoch: 019, Loss: 0.5733\n",
      "Epoch: 020, Loss: 0.5797\n",
      "Epoch: 021, Loss: 0.5744\n",
      "Epoch: 022, Loss: 0.5717\n",
      "Epoch: 023, Loss: 0.5627\n",
      "Epoch: 024, Loss: 0.5662\n",
      "Epoch: 025, Loss: 0.5670\n",
      "Epoch: 026, Loss: 0.5697\n",
      "Epoch: 027, Loss: 0.5665\n",
      "Epoch: 028, Loss: 0.5622\n",
      "Epoch: 029, Loss: 0.5592\n",
      "Epoch: 030, Loss: 0.5582\n",
      "Epoch: 031, Loss: 0.5591\n",
      "Epoch: 032, Loss: 0.5527\n",
      "Epoch: 033, Loss: 0.5603\n",
      "Epoch: 034, Loss: 0.5512\n",
      "Epoch: 035, Loss: 0.5508\n",
      "Epoch: 036, Loss: 0.5499\n",
      "Epoch: 037, Loss: 0.5481\n",
      "Epoch: 038, Loss: 0.5432\n",
      "Epoch: 039, Loss: 0.5496\n",
      "Epoch: 040, Loss: 0.5420\n",
      "Epoch: 041, Loss: 0.5403\n",
      "Epoch: 042, Loss: 0.5571\n",
      "Epoch: 043, Loss: 0.5358\n",
      "Epoch: 044, Loss: 0.5378\n",
      "Epoch: 045, Loss: 0.5361\n",
      "Epoch: 046, Loss: 0.5339\n",
      "Epoch: 047, Loss: 0.5413\n",
      "Epoch: 048, Loss: 0.5469\n",
      "Epoch: 049, Loss: 0.5306\n"
     ]
    }
   ],
   "execution_count": 100
  },
  {
   "metadata": {
    "ExecuteTime": {
     "end_time": "2024-12-05T14:15:02.237211Z",
     "start_time": "2024-12-05T14:15:01.516263Z"
    }
   },
   "cell_type": "code",
   "source": "gcn_embeddings = model_gcn(data.x, data.edge_index).detach().cpu().numpy()",
   "id": "beed97885a1ac6f3",
   "outputs": [],
   "execution_count": 101
  },
  {
   "metadata": {
    "ExecuteTime": {
     "end_time": "2024-12-05T14:15:02.253314Z",
     "start_time": "2024-12-05T14:15:02.248241Z"
    }
   },
   "cell_type": "code",
   "source": "gcn_embeddings",
   "id": "3102531ed6f36d24",
   "outputs": [
    {
     "data": {
      "text/plain": [
       "array([[-1.8652898],\n",
       "       [-2.0220864],\n",
       "       [-1.8491397],\n",
       "       ...,\n",
       "       [-1.7761192],\n",
       "       [-1.6381758],\n",
       "       [-1.8900195]], dtype=float32)"
      ]
     },
     "execution_count": 102,
     "metadata": {},
     "output_type": "execute_result"
    }
   ],
   "execution_count": 102
  },
  {
   "metadata": {
    "ExecuteTime": {
     "end_time": "2024-12-05T14:15:03.205494Z",
     "start_time": "2024-12-05T14:15:03.188612Z"
    }
   },
   "cell_type": "code",
   "source": "labels = data.y.detach().cpu().numpy()",
   "id": "ff89c5a1544fa40",
   "outputs": [],
   "execution_count": 103
  },
  {
   "metadata": {
    "ExecuteTime": {
     "end_time": "2024-12-05T14:15:04.281160Z",
     "start_time": "2024-12-05T14:15:03.438084Z"
    }
   },
   "cell_type": "code",
   "source": "probs=torch.sigmoid(model_gcn(data.x, data.edge_index))",
   "id": "a9b9b52ee1abcca6",
   "outputs": [],
   "execution_count": 104
  },
  {
   "metadata": {
    "ExecuteTime": {
     "end_time": "2024-12-05T14:15:04.297198Z",
     "start_time": "2024-12-05T14:15:04.285171Z"
    }
   },
   "cell_type": "code",
   "source": "predictions = (probs > 0.5).long()",
   "id": "15f954afa9f96ccd",
   "outputs": [],
   "execution_count": 105
  },
  {
   "metadata": {
    "ExecuteTime": {
     "end_time": "2024-11-08T12:21:30.831145Z",
     "start_time": "2024-11-08T12:21:30.810857Z"
    }
   },
   "cell_type": "code",
   "source": "from sklearn.cluster import KMeans",
   "id": "3b0ea2cc472ef3b0",
   "outputs": [],
   "execution_count": 178
  },
  {
   "metadata": {
    "ExecuteTime": {
     "end_time": "2024-12-04T21:53:53.756335Z",
     "start_time": "2024-12-04T21:53:51.927694Z"
    }
   },
   "cell_type": "code",
   "source": "from sklearn.cluster import AgglomerativeClustering",
   "id": "11330619588a0aa9",
   "outputs": [],
   "execution_count": 27
  },
  {
   "metadata": {
    "ExecuteTime": {
     "end_time": "2024-12-04T21:55:33.706082Z",
     "start_time": "2024-12-04T21:55:33.690183Z"
    }
   },
   "cell_type": "code",
   "source": "from sklearn.metrics import accuracy_score, precision_score, recall_score, f1_score",
   "id": "c5be10528a98e229",
   "outputs": [],
   "execution_count": 31
  },
  {
   "metadata": {
    "ExecuteTime": {
     "end_time": "2024-12-05T14:15:51.679184Z",
     "start_time": "2024-12-05T14:15:51.653094Z"
    }
   },
   "cell_type": "code",
   "source": [
    "accuracy = accuracy_score(labels, predictions)\n",
    "precision = precision_score(labels, predictions, average=None)\n",
    "recall = recall_score(labels, predictions, average=None)\n",
    "f1 = f1_score(labels, predictions, average=None)"
   ],
   "id": "3b98c5873f5f576f",
   "outputs": [],
   "execution_count": 106
  },
  {
   "metadata": {
    "ExecuteTime": {
     "end_time": "2024-12-04T21:55:37.072791Z",
     "start_time": "2024-12-04T21:55:37.042225Z"
    }
   },
   "cell_type": "code",
   "source": [
    "print(f\"Accuracy: {accuracy}\")\n",
    "print(f\"Precision: {precision}\")\n",
    "print(f\"Recall: {recall}\")\n",
    "print(f\"F1 score: {f1}\")"
   ],
   "id": "17930866b8147a1c",
   "outputs": [
    {
     "name": "stdout",
     "output_type": "stream",
     "text": [
      "Accuracy: 0.7662650602409639\n",
      "Precision: [0.7982906 0.590625 ]\n",
      "Recall: [0.91449086 0.3480663 ]\n",
      "F1 score: [0.85244904 0.43800695]\n"
     ]
    }
   ],
   "execution_count": 33
  },
  {
   "metadata": {
    "ExecuteTime": {
     "end_time": "2024-12-05T14:15:54.236003Z",
     "start_time": "2024-12-05T14:15:54.220728Z"
    }
   },
   "cell_type": "code",
   "source": [
    "print(f\"Accuracy: {accuracy}\")\n",
    "print(f\"Precision: {precision}\")\n",
    "print(f\"Recall: {recall}\")\n",
    "print(f\"F1 score: {f1}\")"
   ],
   "id": "32e38d8c77a272f9",
   "outputs": [
    {
     "name": "stdout",
     "output_type": "stream",
     "text": [
      "Accuracy: 0.759277108433735\n",
      "Precision: [0.78816634 0.57671958]\n",
      "Recall: [0.92167102 0.30110497]\n",
      "F1 score: [0.84970663 0.39564428]\n"
     ]
    }
   ],
   "execution_count": 107
  },
  {
   "metadata": {},
   "cell_type": "markdown",
   "source": "# USING Class Weighting",
   "id": "f8d5a184d4485b04"
  },
  {
   "metadata": {
    "ExecuteTime": {
     "end_time": "2024-12-05T13:56:57.852959Z",
     "start_time": "2024-12-05T13:56:57.836614Z"
    }
   },
   "cell_type": "code",
   "source": [
    "from sklearn.utils.class_weight import compute_class_weight\n",
    "import numpy as np"
   ],
   "id": "e28187f970e010d1",
   "outputs": [],
   "execution_count": 76
  },
  {
   "metadata": {
    "ExecuteTime": {
     "end_time": "2024-12-05T13:56:58.427061Z",
     "start_time": "2024-12-05T13:56:58.418088Z"
    }
   },
   "cell_type": "code",
   "source": [
    "labels = data.y.cpu().numpy() \n",
    "classes = np.unique(labels)"
   ],
   "id": "70bcd0e82c741fb1",
   "outputs": [],
   "execution_count": 77
  },
  {
   "metadata": {
    "ExecuteTime": {
     "end_time": "2024-12-05T14:18:15.534684Z",
     "start_time": "2024-12-05T14:18:15.520666Z"
    }
   },
   "cell_type": "code",
   "source": "class_weights = compute_class_weight(class_weight='balanced', classes=classes, y=labels)",
   "id": "f59561820c8fc1bc",
   "outputs": [],
   "execution_count": 116
  },
  {
   "metadata": {
    "ExecuteTime": {
     "end_time": "2024-12-05T14:18:16.297165Z",
     "start_time": "2024-12-05T14:18:16.293134Z"
    }
   },
   "cell_type": "code",
   "source": "weights = torch.tensor(class_weights, dtype=torch.float) ",
   "id": "e48b034ab7260a29",
   "outputs": [],
   "execution_count": 117
  },
  {
   "metadata": {
    "ExecuteTime": {
     "end_time": "2024-12-05T14:18:17.039721Z",
     "start_time": "2024-12-05T14:18:17.026020Z"
    }
   },
   "cell_type": "code",
   "source": "criterion2 = torch.nn.BCEWithLogitsLoss(pos_weight=weights[1])\n",
   "id": "65c3e7ac91e2523a",
   "outputs": [],
   "execution_count": 118
  },
  {
   "metadata": {
    "ExecuteTime": {
     "end_time": "2024-12-05T14:18:17.847539Z",
     "start_time": "2024-12-05T14:18:17.835526Z"
    }
   },
   "cell_type": "code",
   "source": [
    "def train2(model, dataset, optimizer, criterion, epochs=50):\n",
    "    if len(dataset.train_mask.shape) > 1:\n",
    "        train_mask = dataset.train_mask[:, 0]\n",
    "    else:\n",
    "        train_mask = dataset.train_mask\n",
    "\n",
    "    for epoch in range(epochs):\n",
    "        model.train()\n",
    "        optimizer.zero_grad()\n",
    "        # out = model(dataset.x, dataset.edge_index)  # Output shape: [N, 2]\n",
    "        # loss = criterion(out[train_mask], dataset.y[train_mask])  # Shapes: [N_train, 2] and \\[N_train]\n",
    "        out = model(dataset.x, dataset.edge_index, dataset.edge_weight).squeeze()  # Output shape: [num_nodes]\n",
    "        loss = criterion(out[train_mask], dataset.y[train_mask].float())  \n",
    "        \n",
    "        loss.backward()\n",
    "        optimizer.step()\n",
    "\n",
    "        print(f'Epoch: {epoch:03d}, Loss: {loss:.4f}')\n"
   ],
   "id": "35ad69eac1f21ef9",
   "outputs": [],
   "execution_count": 119
  },
  {
   "metadata": {
    "ExecuteTime": {
     "end_time": "2024-12-05T14:19:33.772203Z",
     "start_time": "2024-12-05T14:18:18.840556Z"
    }
   },
   "cell_type": "code",
   "source": [
    "train2(model=model_gcn, dataset=data,\n",
    "      criterion=criterion2, optimizer=optimizer,\n",
    "      epochs=50)"
   ],
   "id": "14a7fcfecb1ffe4c",
   "outputs": [
    {
     "name": "stdout",
     "output_type": "stream",
     "text": [
      "Epoch: 000, Loss: 0.8822\n",
      "Epoch: 001, Loss: 0.8827\n",
      "Epoch: 002, Loss: 0.8828\n",
      "Epoch: 003, Loss: 0.8829\n",
      "Epoch: 004, Loss: 0.8820\n",
      "Epoch: 005, Loss: 0.8824\n",
      "Epoch: 006, Loss: 0.8816\n",
      "Epoch: 007, Loss: 0.8828\n",
      "Epoch: 008, Loss: 0.8837\n",
      "Epoch: 009, Loss: 0.8825\n",
      "Epoch: 010, Loss: 0.8836\n",
      "Epoch: 011, Loss: 0.8822\n",
      "Epoch: 012, Loss: 0.8818\n",
      "Epoch: 013, Loss: 0.8818\n",
      "Epoch: 014, Loss: 0.8812\n",
      "Epoch: 015, Loss: 0.8818\n",
      "Epoch: 016, Loss: 0.8825\n",
      "Epoch: 017, Loss: 0.8819\n",
      "Epoch: 018, Loss: 0.8820\n",
      "Epoch: 019, Loss: 0.8823\n",
      "Epoch: 020, Loss: 0.8815\n",
      "Epoch: 021, Loss: 0.8821\n",
      "Epoch: 022, Loss: 0.8827\n",
      "Epoch: 023, Loss: 0.8826\n",
      "Epoch: 024, Loss: 0.8832\n",
      "Epoch: 025, Loss: 0.8824\n",
      "Epoch: 026, Loss: 0.8824\n",
      "Epoch: 027, Loss: 0.8814\n",
      "Epoch: 028, Loss: 0.8822\n",
      "Epoch: 029, Loss: 0.8827\n",
      "Epoch: 030, Loss: 0.8816\n",
      "Epoch: 031, Loss: 0.8819\n",
      "Epoch: 032, Loss: 0.8832\n",
      "Epoch: 033, Loss: 0.8826\n",
      "Epoch: 034, Loss: 0.8822\n",
      "Epoch: 035, Loss: 0.8815\n",
      "Epoch: 036, Loss: 0.8821\n",
      "Epoch: 037, Loss: 0.8822\n",
      "Epoch: 038, Loss: 0.8816\n",
      "Epoch: 039, Loss: 0.8823\n",
      "Epoch: 040, Loss: 0.8831\n",
      "Epoch: 041, Loss: 0.8823\n",
      "Epoch: 042, Loss: 0.8815\n",
      "Epoch: 043, Loss: 0.8827\n",
      "Epoch: 044, Loss: 0.8817\n",
      "Epoch: 045, Loss: 0.8818\n",
      "Epoch: 046, Loss: 0.8820\n",
      "Epoch: 047, Loss: 0.8820\n",
      "Epoch: 048, Loss: 0.8819\n",
      "Epoch: 049, Loss: 0.8821\n"
     ]
    }
   ],
   "execution_count": 120
  },
  {
   "metadata": {
    "ExecuteTime": {
     "end_time": "2024-12-05T14:19:41.356365Z",
     "start_time": "2024-12-05T14:19:40.566187Z"
    }
   },
   "cell_type": "code",
   "source": [
    "probabilities = torch.sigmoid(model_gcn(data.x, data.edge_index)).squeeze()\n",
    "predictions2 = (probabilities > 0.5).long()"
   ],
   "id": "2dd7f2e71b763d9",
   "outputs": [],
   "execution_count": 121
  },
  {
   "metadata": {
    "ExecuteTime": {
     "end_time": "2024-12-05T14:19:41.885804Z",
     "start_time": "2024-12-05T14:19:41.870847Z"
    }
   },
   "cell_type": "code",
   "source": "predictions2 = predictions2.cpu().numpy()",
   "id": "fbd90dde60052e38",
   "outputs": [],
   "execution_count": 122
  },
  {
   "metadata": {
    "ExecuteTime": {
     "end_time": "2024-12-05T14:19:42.585047Z",
     "start_time": "2024-12-05T14:19:42.559559Z"
    }
   },
   "cell_type": "code",
   "source": [
    "accuracy = accuracy_score(labels, predictions2)\n",
    "precision = precision_score(labels, predictions2, average=None)\n",
    "recall = recall_score(labels, predictions2, average=None)\n",
    "f1 = f1_score(labels, predictions2, average=None)"
   ],
   "id": "cf7bc161288193e9",
   "outputs": [],
   "execution_count": 123
  },
  {
   "metadata": {
    "ExecuteTime": {
     "end_time": "2024-12-04T21:58:34.679814Z",
     "start_time": "2024-12-04T21:58:34.648230Z"
    }
   },
   "cell_type": "code",
   "source": [
    "print(f\"Accuracy: {accuracy}\")\n",
    "print(f\"Precision: {precision}\")\n",
    "print(f\"Recall: {recall}\")\n",
    "print(f\"F1 Score: {f1}\")"
   ],
   "id": "7128cc57d7a6ccfb",
   "outputs": [
    {
     "name": "stdout",
     "output_type": "stream",
     "text": [
      "Accuracy: 0.7602409638554217\n",
      "Precision: [0.83686096 0.54216867]\n",
      "Recall: [0.83877285 0.53867403]\n",
      "F1 Score: [0.83781581 0.5404157 ]\n"
     ]
    }
   ],
   "execution_count": 41
  },
  {
   "metadata": {
    "ExecuteTime": {
     "end_time": "2024-12-05T14:19:44.775887Z",
     "start_time": "2024-12-05T14:19:44.762719Z"
    }
   },
   "cell_type": "code",
   "source": [
    "print(f\"Accuracy: {accuracy}\")\n",
    "print(f\"Precision: {precision}\")\n",
    "print(f\"Recall: {recall}\")\n",
    "print(f\"F1 Score: {f1}\")"
   ],
   "id": "86d82efe48ff73a9",
   "outputs": [
    {
     "name": "stdout",
     "output_type": "stream",
     "text": [
      "Accuracy: 0.2612048192771084\n",
      "Precision: [0.         0.26133076]\n",
      "Recall: [0.         0.99815838]\n",
      "F1 Score: [0.         0.41421475]\n"
     ]
    }
   ],
   "execution_count": 124
  },
  {
   "metadata": {},
   "cell_type": "markdown",
   "source": "## FAKE WEIGHTS",
   "id": "3a4b69a7b1c6c964"
  },
  {
   "metadata": {
    "ExecuteTime": {
     "end_time": "2024-12-05T14:01:59.822002Z",
     "start_time": "2024-12-05T14:01:59.813664Z"
    }
   },
   "cell_type": "code",
   "source": "weights[1]",
   "id": "e129eb1edbfb3e89",
   "outputs": [
    {
     "data": {
      "text/plain": [
       "tensor(1.9107)"
      ]
     },
     "execution_count": 87,
     "metadata": {},
     "output_type": "execute_result"
    }
   ],
   "execution_count": 87
  },
  {
   "metadata": {
    "ExecuteTime": {
     "end_time": "2024-12-05T14:02:00.430015Z",
     "start_time": "2024-12-05T14:02:00.415307Z"
    }
   },
   "cell_type": "code",
   "source": "fake_weight=torch.tensor(2.5)",
   "id": "181e99cdf1994ef6",
   "outputs": [],
   "execution_count": 88
  },
  {
   "metadata": {
    "ExecuteTime": {
     "end_time": "2024-12-05T14:02:00.943458Z",
     "start_time": "2024-12-05T14:02:00.925993Z"
    }
   },
   "cell_type": "code",
   "source": "criterion3 = torch.nn.BCEWithLogitsLoss(pos_weight=fake_weight)\n",
   "id": "d291c546508c3933",
   "outputs": [],
   "execution_count": 89
  },
  {
   "metadata": {
    "ExecuteTime": {
     "end_time": "2024-12-05T14:03:15.030187Z",
     "start_time": "2024-12-05T14:02:01.333325Z"
    }
   },
   "cell_type": "code",
   "source": [
    "train2(model=model_gcn, dataset=data,\n",
    "      criterion=criterion3, optimizer=optimizer,\n",
    "      epochs=50)"
   ],
   "id": "2c2ea8cea4fc9db9",
   "outputs": [
    {
     "name": "stdout",
     "output_type": "stream",
     "text": [
      "Epoch: 000, Loss: 0.8760\n",
      "Epoch: 001, Loss: 0.8475\n",
      "Epoch: 002, Loss: 0.8552\n",
      "Epoch: 003, Loss: 0.8509\n",
      "Epoch: 004, Loss: 0.8515\n",
      "Epoch: 005, Loss: 0.8597\n",
      "Epoch: 006, Loss: 0.8483\n",
      "Epoch: 007, Loss: 0.8585\n",
      "Epoch: 008, Loss: 0.8648\n",
      "Epoch: 009, Loss: 0.8415\n",
      "Epoch: 010, Loss: 0.8422\n",
      "Epoch: 011, Loss: 0.8548\n",
      "Epoch: 012, Loss: 0.8448\n",
      "Epoch: 013, Loss: 0.8604\n",
      "Epoch: 014, Loss: 0.8491\n",
      "Epoch: 015, Loss: 0.8452\n",
      "Epoch: 016, Loss: 0.8487\n",
      "Epoch: 017, Loss: 0.8586\n",
      "Epoch: 018, Loss: 0.8624\n",
      "Epoch: 019, Loss: 0.8445\n",
      "Epoch: 020, Loss: 0.8388\n",
      "Epoch: 021, Loss: 0.8555\n",
      "Epoch: 022, Loss: 0.8540\n",
      "Epoch: 023, Loss: 0.8532\n",
      "Epoch: 024, Loss: 0.8429\n",
      "Epoch: 025, Loss: 0.8584\n",
      "Epoch: 026, Loss: 0.8514\n",
      "Epoch: 027, Loss: 0.8592\n",
      "Epoch: 028, Loss: 0.8484\n",
      "Epoch: 029, Loss: 0.8436\n",
      "Epoch: 030, Loss: 0.8495\n",
      "Epoch: 031, Loss: 0.8462\n",
      "Epoch: 032, Loss: 0.8428\n",
      "Epoch: 033, Loss: 0.8470\n",
      "Epoch: 034, Loss: 0.8442\n",
      "Epoch: 035, Loss: 0.8506\n",
      "Epoch: 036, Loss: 0.8413\n",
      "Epoch: 037, Loss: 0.8414\n",
      "Epoch: 038, Loss: 0.8412\n",
      "Epoch: 039, Loss: 0.8415\n",
      "Epoch: 040, Loss: 0.8433\n",
      "Epoch: 041, Loss: 0.8462\n",
      "Epoch: 042, Loss: 0.8382\n",
      "Epoch: 043, Loss: 0.8317\n",
      "Epoch: 044, Loss: 0.8356\n",
      "Epoch: 045, Loss: 0.8350\n",
      "Epoch: 046, Loss: 0.8508\n",
      "Epoch: 047, Loss: 0.8447\n",
      "Epoch: 048, Loss: 0.8398\n",
      "Epoch: 049, Loss: 0.8355\n"
     ]
    }
   ],
   "execution_count": 90
  },
  {
   "metadata": {
    "ExecuteTime": {
     "end_time": "2024-12-05T14:04:57.022283Z",
     "start_time": "2024-12-05T14:04:56.182233Z"
    }
   },
   "cell_type": "code",
   "source": [
    "probabilities = torch.sigmoid(model_gcn(data.x, data.edge_index)).squeeze()\n",
    "predictions3 = (probabilities > 0.5).long()"
   ],
   "id": "41a94a6c0e36fd31",
   "outputs": [],
   "execution_count": 91
  },
  {
   "metadata": {
    "ExecuteTime": {
     "end_time": "2024-12-05T14:04:59.152261Z",
     "start_time": "2024-12-05T14:04:59.142286Z"
    }
   },
   "cell_type": "code",
   "source": "predictions3 = predictions3.cpu().numpy()\n",
   "id": "811e1de09fbe91f2",
   "outputs": [],
   "execution_count": 92
  },
  {
   "metadata": {
    "ExecuteTime": {
     "end_time": "2024-12-05T14:05:01.186052Z",
     "start_time": "2024-12-05T14:05:01.172662Z"
    }
   },
   "cell_type": "code",
   "source": [
    "accuracy = accuracy_score(labels, predictions3)\n",
    "precision = precision_score(labels, predictions3, average=None)\n",
    "recall = recall_score(labels, predictions3, average=None)\n",
    "f1 = f1_score(labels, predictions3, average=None)"
   ],
   "id": "29d2129804f402b1",
   "outputs": [],
   "execution_count": 93
  },
  {
   "metadata": {
    "ExecuteTime": {
     "end_time": "2024-12-04T22:01:25.040432Z",
     "start_time": "2024-12-04T22:01:25.026436Z"
    }
   },
   "cell_type": "code",
   "source": [
    "print(f\"Accuracy: {accuracy}\")\n",
    "print(f\"Precision: {precision}\")\n",
    "print(f\"Recall: {recall}\")\n",
    "print(f\"F1 Score: {f1}\")"
   ],
   "id": "40de5c988f47a9db",
   "outputs": [
    {
     "name": "stdout",
     "output_type": "stream",
     "text": [
      "Accuracy: 0.739277108433735\n",
      "Precision: [0.85724585 0.50145349]\n",
      "Recall: [0.77610966 0.63535912]\n",
      "F1 Score: [0.81466256 0.5605199 ]\n"
     ]
    }
   ],
   "execution_count": 49
  },
  {
   "metadata": {
    "ExecuteTime": {
     "end_time": "2024-12-05T14:05:09.095593Z",
     "start_time": "2024-12-05T14:05:09.086112Z"
    }
   },
   "cell_type": "code",
   "source": [
    "print(f\"Accuracy: {accuracy}\")\n",
    "print(f\"Precision: {precision}\")\n",
    "print(f\"Recall: {recall}\")\n",
    "print(f\"F1 Score: {f1}\")"
   ],
   "id": "e5583d432adaa825",
   "outputs": [
    {
     "name": "stdout",
     "output_type": "stream",
     "text": [
      "Accuracy: 0.6785542168674699\n",
      "Precision: [0.87510841 0.43275488]\n",
      "Recall: [0.65861619 0.73480663]\n",
      "F1 Score: [0.75158287 0.5447099 ]\n"
     ]
    }
   ],
   "execution_count": 94
  },
  {
   "metadata": {
    "ExecuteTime": {
     "end_time": "2024-12-04T22:13:26.774020Z",
     "start_time": "2024-12-04T22:13:26.424126Z"
    }
   },
   "cell_type": "code",
   "source": [
    "from torch_geometric.utils import to_networkx\n",
    "import matplotlib.pyplot as plt\n",
    "import networkx as nx"
   ],
   "id": "1206f4be90a5dd3f",
   "outputs": [],
   "execution_count": 50
  },
  {
   "metadata": {
    "ExecuteTime": {
     "end_time": "2024-12-04T22:36:23.595596Z",
     "start_time": "2024-12-04T22:36:21.899938Z"
    }
   },
   "cell_type": "code",
   "source": "G = to_networkx(data, to_undirected=True)\n",
   "id": "bca6d060fff523f1",
   "outputs": [],
   "execution_count": 53
  },
  {
   "metadata": {
    "ExecuteTime": {
     "end_time": "2024-12-04T22:36:31.000021Z",
     "start_time": "2024-12-04T22:36:27.200763Z"
    }
   },
   "cell_type": "code",
   "source": "nx.write_gexf(G,\"graph_data_with.gexf\")",
   "id": "ee03d03bf4464901",
   "outputs": [],
   "execution_count": 54
  },
  {
   "metadata": {},
   "cell_type": "code",
   "outputs": [],
   "execution_count": null,
   "source": "",
   "id": "ee2b352d0f184400"
  }
 ],
 "metadata": {
  "kernelspec": {
   "display_name": "Python (myenv)",
   "language": "python",
   "name": "myenv"
  },
  "language_info": {
   "codemirror_mode": {
    "name": "ipython",
    "version": 2
   },
   "file_extension": ".py",
   "mimetype": "text/x-python",
   "name": "python",
   "nbconvert_exporter": "python",
   "pygments_lexer": "ipython2",
   "version": "2.7.6"
  }
 },
 "nbformat": 4,
 "nbformat_minor": 5
}
