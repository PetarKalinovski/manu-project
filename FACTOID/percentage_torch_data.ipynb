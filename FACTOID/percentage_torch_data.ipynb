{
 "cells": [
  {
   "cell_type": "code",
   "id": "initial_id",
   "metadata": {
    "collapsed": true,
    "ExecuteTime": {
     "end_time": "2024-11-08T11:10:01.270204Z",
     "start_time": "2024-11-08T11:10:01.252840Z"
    }
   },
   "source": "import pandas as pd\n",
   "outputs": [],
   "execution_count": 3
  },
  {
   "metadata": {
    "ExecuteTime": {
     "end_time": "2024-11-08T11:10:01.827677Z",
     "start_time": "2024-11-08T11:10:01.805543Z"
    }
   },
   "cell_type": "code",
   "source": "df=pd.read_csv('most_active_subreddits.csv')",
   "id": "752fe4ca0ea92b00",
   "outputs": [],
   "execution_count": 4
  },
  {
   "metadata": {
    "ExecuteTime": {
     "end_time": "2024-11-08T11:54:08.912875Z",
     "start_time": "2024-11-08T11:54:08.900819Z"
    }
   },
   "cell_type": "code",
   "source": "node_data = df[['user_id', 'subreddit']]",
   "id": "5745e3905cc8aaad",
   "outputs": [],
   "execution_count": 65
  },
  {
   "metadata": {
    "ExecuteTime": {
     "end_time": "2024-11-08T11:10:02.851871Z",
     "start_time": "2024-11-08T11:10:02.836895Z"
    }
   },
   "cell_type": "code",
   "source": "user_ids = node_data['user_id'].tolist()",
   "id": "b2ca5114e5058702",
   "outputs": [],
   "execution_count": 6
  },
  {
   "metadata": {
    "ExecuteTime": {
     "end_time": "2024-11-08T11:10:03.301757Z",
     "start_time": "2024-11-08T11:10:03.294636Z"
    }
   },
   "cell_type": "code",
   "source": "user_to_idx = {user_id: idx for idx, user_id in enumerate(user_ids)}",
   "id": "3786f20852d36920",
   "outputs": [],
   "execution_count": 7
  },
  {
   "metadata": {
    "ExecuteTime": {
     "end_time": "2024-11-08T11:10:03.657916Z",
     "start_time": "2024-11-08T11:10:03.650877Z"
    }
   },
   "cell_type": "code",
   "source": "edges = []",
   "id": "807bb85c314f1a9b",
   "outputs": [],
   "execution_count": 8
  },
  {
   "metadata": {
    "ExecuteTime": {
     "end_time": "2024-11-08T11:10:04.031393Z",
     "start_time": "2024-11-08T11:10:04.020211Z"
    }
   },
   "cell_type": "code",
   "source": "folder_path ='social_graph_data'",
   "id": "6ed9340ecc16e0cc",
   "outputs": [],
   "execution_count": 9
  },
  {
   "metadata": {
    "ExecuteTime": {
     "end_time": "2024-11-08T11:10:04.982949Z",
     "start_time": "2024-11-08T11:10:04.964696Z"
    }
   },
   "cell_type": "code",
   "source": "import os",
   "id": "7d37dfb90473e0ff",
   "outputs": [],
   "execution_count": 10
  },
  {
   "metadata": {
    "ExecuteTime": {
     "end_time": "2024-11-08T11:10:11.082414Z",
     "start_time": "2024-11-08T11:10:08.726920Z"
    }
   },
   "cell_type": "code",
   "source": "import torch",
   "id": "29f49fd81189484d",
   "outputs": [],
   "execution_count": 11
  },
  {
   "metadata": {
    "ExecuteTime": {
     "end_time": "2024-11-08T11:10:28.548575Z",
     "start_time": "2024-11-08T11:10:12.166257Z"
    }
   },
   "cell_type": "code",
   "source": [
    "for filename in os.listdir(folder_path):\n",
    "    if filename.endswith('.txt'):\n",
    "        with open(os.path.join(folder_path, filename), 'r') as file:\n",
    "            for line in file:\n",
    "                parts = line.strip().split(';')\n",
    "                user_id = parts[0]\n",
    "                replied_user = parts[3]\n",
    "\n",
    "                if user_id in user_to_idx and replied_user in user_to_idx:\n",
    "                    edges.append((user_to_idx[user_id], user_to_idx[replied_user]))"
   ],
   "id": "5dcbf8d2be3b650e",
   "outputs": [],
   "execution_count": 12
  },
  {
   "metadata": {
    "ExecuteTime": {
     "end_time": "2024-11-08T11:10:39.451874Z",
     "start_time": "2024-11-08T11:10:38.977192Z"
    }
   },
   "cell_type": "code",
   "source": "edge_index = torch.tensor(edges, dtype=torch.long).t().contiguous()",
   "id": "5142d3709703cf6f",
   "outputs": [],
   "execution_count": 13
  },
  {
   "metadata": {
    "ExecuteTime": {
     "end_time": "2024-11-08T11:26:00.500328Z",
     "start_time": "2024-11-08T11:26:00.486326Z"
    }
   },
   "cell_type": "code",
   "source": "label_mapping = {'r/politics': 0, 'r/NoNewNormal': 2, 'r/Sports': 3, 'r/Coronavirus':4, 'r/LockdownSkepticism': 5, 'r/JoeBiden':6, 'r/MensRights': 7, 'r/DebateVaccines':8,'r/climateskeptics':9,\"r/Firearms\":10, 'r/Conservative':1}",
   "id": "d5800faa5371c7b2",
   "outputs": [],
   "execution_count": 30
  },
  {
   "metadata": {
    "ExecuteTime": {
     "end_time": "2024-11-08T11:54:26.233019Z",
     "start_time": "2024-11-08T11:54:26.219847Z"
    }
   },
   "cell_type": "code",
   "source": [
    "def convert_labels(row):\n",
    "    row['subreddit'] = label_mapping.get(row['subreddit'], -1)  # Use -1 as a default if subreddit not in mapping\n",
    "    return row"
   ],
   "id": "d046edcdea9f1e",
   "outputs": [],
   "execution_count": 66
  },
  {
   "metadata": {
    "ExecuteTime": {
     "end_time": "2024-11-08T11:54:27.151819Z",
     "start_time": "2024-11-08T11:54:26.997173Z"
    }
   },
   "cell_type": "code",
   "source": "node_data = node_data.apply(convert_labels, axis=1)",
   "id": "1331e87f606d0c01",
   "outputs": [],
   "execution_count": 67
  },
  {
   "metadata": {
    "ExecuteTime": {
     "end_time": "2024-11-08T11:54:32.728063Z",
     "start_time": "2024-11-08T11:54:32.715829Z"
    }
   },
   "cell_type": "code",
   "source": "node_data['subreddit'] = node_data['subreddit'].astype(int)",
   "id": "3e7dd52a639b86",
   "outputs": [],
   "execution_count": 68
  },
  {
   "metadata": {
    "ExecuteTime": {
     "end_time": "2024-11-08T11:10:43.519233Z",
     "start_time": "2024-11-08T11:10:41.413852Z"
    }
   },
   "cell_type": "code",
   "source": "from torch_geometric.data import Data",
   "id": "88cff0249aee0080",
   "outputs": [],
   "execution_count": 14
  },
  {
   "metadata": {
    "ExecuteTime": {
     "end_time": "2024-11-08T11:54:36.053256Z",
     "start_time": "2024-11-08T11:54:36.047254Z"
    }
   },
   "cell_type": "code",
   "source": [
    "x = torch.ones((len(user_ids), 1), dtype=torch.float)\n",
    "\n",
    "y = torch.tensor(node_data['subreddit'].values, dtype=torch.long)"
   ],
   "id": "14dbf3ec98fa621a",
   "outputs": [],
   "execution_count": 69
  },
  {
   "metadata": {
    "ExecuteTime": {
     "end_time": "2024-11-08T11:37:16.781423Z",
     "start_time": "2024-11-08T11:37:16.767669Z"
    }
   },
   "cell_type": "code",
   "source": "df[\"subreddit\"].value_counts()",
   "id": "71d067c336b0840a",
   "outputs": [
    {
     "data": {
      "text/plain": [
       "subreddit\n",
       "r/politics                2947\n",
       "r/Conservative             502\n",
       "r/NoNewNormal              131\n",
       "r/Coronavirus               91\n",
       "r/LockdownSkepticism        78\n",
       "r/JoeBiden                  68\n",
       "r/MensRights                66\n",
       "r/DebateVaccines            30\n",
       "r/climateskeptics           27\n",
       "r/Firearms                  25\n",
       "r/conservatives             19\n",
       "r/progun                    19\n",
       "r/climatechange             14\n",
       "r/liberalgunowners          13\n",
       "r/Republican                11\n",
       "r/CoronavirusUK             11\n",
       "r/Abortiondebate             8\n",
       "r/democrats                  8\n",
       "r/prolife                    8\n",
       "r/uspolitics                 8\n",
       "r/vaxxhappened               7\n",
       "r/LockdownCriticalLeft       6\n",
       "r/Impeach_Trump              5\n",
       "r/GunsAreCool                4\n",
       "r/feminisms                  4\n",
       "r/CoronavirusUS              4\n",
       "r/TrueAntiVaccination        4\n",
       "r/prochoice                  4\n",
       "r/ConservativesOnly          3\n",
       "r/DebateVaccine              3\n",
       "r/AntiVaxxers                3\n",
       "r/Masks4All                  3\n",
       "r/5GDebate                   2\n",
       "r/gunpolitics                2\n",
       "r/EndTheLockdowns            2\n",
       "r/Liberal                    2\n",
       "r/NoLockdownsNoMasks         1\n",
       "r/Egalitarianism             1\n",
       "r/CovidVaccinated            1\n",
       "r/CoronavirusCanada          1\n",
       "r/antifeminists              1\n",
       "r/COVID19                    1\n",
       "r/RepublicanValues           1\n",
       "r/VACCINES                   1\n",
       "Name: count, dtype: int64"
      ]
     },
     "execution_count": 56,
     "metadata": {},
     "output_type": "execute_result"
    }
   ],
   "execution_count": 56
  },
  {
   "metadata": {
    "ExecuteTime": {
     "end_time": "2024-11-08T11:54:40.214469Z",
     "start_time": "2024-11-08T11:54:40.194216Z"
    }
   },
   "cell_type": "code",
   "source": "node_data['subreddit'].value_counts()",
   "id": "8734873dc928865b",
   "outputs": [
    {
     "data": {
      "text/plain": [
       "subreddit\n",
       " 0     2947\n",
       " 1      502\n",
       "-1      185\n",
       " 2      131\n",
       " 4       91\n",
       " 5       78\n",
       " 6       68\n",
       " 7       66\n",
       " 8       30\n",
       " 9       27\n",
       " 10      25\n",
       "Name: count, dtype: int64"
      ]
     },
     "execution_count": 70,
     "metadata": {},
     "output_type": "execute_result"
    }
   ],
   "execution_count": 70
  },
  {
   "metadata": {
    "ExecuteTime": {
     "end_time": "2024-11-08T11:54:45.709075Z",
     "start_time": "2024-11-08T11:54:45.696945Z"
    }
   },
   "cell_type": "code",
   "source": "data = Data(x=x, edge_index=edge_index, y=y)",
   "id": "bdb89cf1d317d207",
   "outputs": [],
   "execution_count": 71
  },
  {
   "metadata": {
    "ExecuteTime": {
     "end_time": "2024-11-08T11:55:41.396672Z",
     "start_time": "2024-11-08T11:55:41.336661Z"
    }
   },
   "cell_type": "code",
   "source": "torch.save(data, 'graph_data_percentage2.pt')",
   "id": "98cf646cfc43da31",
   "outputs": [],
   "execution_count": 73
  }
 ],
 "metadata": {
  "kernelspec": {
   "display_name": "Python 3",
   "language": "python",
   "name": "python3"
  },
  "language_info": {
   "codemirror_mode": {
    "name": "ipython",
    "version": 2
   },
   "file_extension": ".py",
   "mimetype": "text/x-python",
   "name": "python",
   "nbconvert_exporter": "python",
   "pygments_lexer": "ipython2",
   "version": "2.7.6"
  }
 },
 "nbformat": 4,
 "nbformat_minor": 5
}
