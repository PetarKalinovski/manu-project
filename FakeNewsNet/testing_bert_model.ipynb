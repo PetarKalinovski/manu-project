{
 "cells": [
  {
   "cell_type": "code",
   "id": "initial_id",
   "metadata": {
    "collapsed": true,
    "ExecuteTime": {
     "end_time": "2024-10-25T10:30:41.304900Z",
     "start_time": "2024-10-25T10:30:40.081010Z"
    }
   },
   "source": "import pandas as pd",
   "outputs": [],
   "execution_count": 1
  },
  {
   "metadata": {
    "ExecuteTime": {
     "end_time": "2024-10-25T10:30:41.366021Z",
     "start_time": "2024-10-25T10:30:41.326888Z"
    }
   },
   "cell_type": "code",
   "source": "df1=pd.read_csv('RealNewsContent.csv')",
   "id": "3c0f2a80367ed5d8",
   "outputs": [],
   "execution_count": 2
  },
  {
   "metadata": {
    "ExecuteTime": {
     "end_time": "2024-10-25T10:30:41.830205Z",
     "start_time": "2024-10-25T10:30:41.801203Z"
    }
   },
   "cell_type": "code",
   "source": "df2=pd.read_csv('FakeNewsContent.csv')",
   "id": "932fcd7ac161436f",
   "outputs": [],
   "execution_count": 3
  },
  {
   "metadata": {
    "ExecuteTime": {
     "end_time": "2024-10-25T10:30:41.983909Z",
     "start_time": "2024-10-25T10:30:41.925317Z"
    }
   },
   "cell_type": "code",
   "source": "df3=pd.read_csv('politifact_fake_full.csv')",
   "id": "b826f1610e904a8c",
   "outputs": [],
   "execution_count": 4
  },
  {
   "metadata": {
    "ExecuteTime": {
     "end_time": "2024-10-25T10:30:42.122304Z",
     "start_time": "2024-10-25T10:30:41.993900Z"
    }
   },
   "cell_type": "code",
   "source": "df4=pd.read_csv('politifact_real_full.csv')",
   "id": "4b98b94c21f65222",
   "outputs": [],
   "execution_count": 5
  },
  {
   "metadata": {
    "ExecuteTime": {
     "end_time": "2024-10-25T10:30:42.338124Z",
     "start_time": "2024-10-25T10:30:42.201756Z"
    }
   },
   "cell_type": "code",
   "source": "df5=pd.read_csv('politifact_fixed.csv')",
   "id": "494b2f3be402a7ab",
   "outputs": [],
   "execution_count": 6
  },
  {
   "metadata": {
    "ExecuteTime": {
     "end_time": "2024-10-25T10:30:42.462286Z",
     "start_time": "2024-10-25T10:30:42.372289Z"
    }
   },
   "cell_type": "code",
   "source": "df1.head()",
   "id": "d2ab099386a3d82e",
   "outputs": [
    {
     "data": {
      "text/plain": [
       "                                                text  \\\n",
       "0  On Saturday, September 17 at 8:30 pm EST, an e...   \n",
       "1  Less than a day after protests over the police...   \n",
       "2  Obama To UN: ‘Giving Up Liberty, Enhances Secu...   \n",
       "3  Getty Images Wealth Of Nations Trump vs. Clint...   \n",
       "4  President Obama today vetoed a bill that would...   \n",
       "\n",
       "                                                 url  type  \n",
       "0  http://eaglerising.com/36942/another-terrorist...     0  \n",
       "1                             http://abcn.ws/2d4lNn9     0  \n",
       "2  http://rightwingnews.com/barack-obama/obama-un...     0  \n",
       "3                           http://politi.co/2de2qs0     0  \n",
       "4                             http://abcn.ws/2dh2NFs     0  "
      ],
      "text/html": [
       "<div>\n",
       "<style scoped>\n",
       "    .dataframe tbody tr th:only-of-type {\n",
       "        vertical-align: middle;\n",
       "    }\n",
       "\n",
       "    .dataframe tbody tr th {\n",
       "        vertical-align: top;\n",
       "    }\n",
       "\n",
       "    .dataframe thead th {\n",
       "        text-align: right;\n",
       "    }\n",
       "</style>\n",
       "<table border=\"1\" class=\"dataframe\">\n",
       "  <thead>\n",
       "    <tr style=\"text-align: right;\">\n",
       "      <th></th>\n",
       "      <th>text</th>\n",
       "      <th>url</th>\n",
       "      <th>type</th>\n",
       "    </tr>\n",
       "  </thead>\n",
       "  <tbody>\n",
       "    <tr>\n",
       "      <th>0</th>\n",
       "      <td>On Saturday, September 17 at 8:30 pm EST, an e...</td>\n",
       "      <td>http://eaglerising.com/36942/another-terrorist...</td>\n",
       "      <td>0</td>\n",
       "    </tr>\n",
       "    <tr>\n",
       "      <th>1</th>\n",
       "      <td>Less than a day after protests over the police...</td>\n",
       "      <td>http://abcn.ws/2d4lNn9</td>\n",
       "      <td>0</td>\n",
       "    </tr>\n",
       "    <tr>\n",
       "      <th>2</th>\n",
       "      <td>Obama To UN: ‘Giving Up Liberty, Enhances Secu...</td>\n",
       "      <td>http://rightwingnews.com/barack-obama/obama-un...</td>\n",
       "      <td>0</td>\n",
       "    </tr>\n",
       "    <tr>\n",
       "      <th>3</th>\n",
       "      <td>Getty Images Wealth Of Nations Trump vs. Clint...</td>\n",
       "      <td>http://politi.co/2de2qs0</td>\n",
       "      <td>0</td>\n",
       "    </tr>\n",
       "    <tr>\n",
       "      <th>4</th>\n",
       "      <td>President Obama today vetoed a bill that would...</td>\n",
       "      <td>http://abcn.ws/2dh2NFs</td>\n",
       "      <td>0</td>\n",
       "    </tr>\n",
       "  </tbody>\n",
       "</table>\n",
       "</div>"
      ]
     },
     "execution_count": 7,
     "metadata": {},
     "output_type": "execute_result"
    }
   ],
   "execution_count": 7
  },
  {
   "metadata": {
    "ExecuteTime": {
     "end_time": "2024-10-25T10:30:42.586806Z",
     "start_time": "2024-10-25T10:30:42.560811Z"
    }
   },
   "cell_type": "code",
   "source": "df3.head()",
   "id": "d6fc980a7b189aa2",
   "outputs": [
    {
     "data": {
      "text/plain": [
       "                                                 url  \\\n",
       "0  https://speedtalk.com/forum/viewtopic.php?t=51650   \n",
       "1  https://politics2020.info/index.php/2018/03/13...   \n",
       "2  https://www.nscdscamps.org/blog/category/paren...   \n",
       "3  https://howafrica.com/oscar-pistorius-attempts...   \n",
       "4  http://washingtonsources.org/trump-votes-for-d...   \n",
       "\n",
       "                             content  \n",
       "0  There was an error with this page  \n",
       "1  There was an error with this page  \n",
       "2  There was an error with this page  \n",
       "3  There was an error with this page  \n",
       "4  There was an error with this page  "
      ],
      "text/html": [
       "<div>\n",
       "<style scoped>\n",
       "    .dataframe tbody tr th:only-of-type {\n",
       "        vertical-align: middle;\n",
       "    }\n",
       "\n",
       "    .dataframe tbody tr th {\n",
       "        vertical-align: top;\n",
       "    }\n",
       "\n",
       "    .dataframe thead th {\n",
       "        text-align: right;\n",
       "    }\n",
       "</style>\n",
       "<table border=\"1\" class=\"dataframe\">\n",
       "  <thead>\n",
       "    <tr style=\"text-align: right;\">\n",
       "      <th></th>\n",
       "      <th>url</th>\n",
       "      <th>content</th>\n",
       "    </tr>\n",
       "  </thead>\n",
       "  <tbody>\n",
       "    <tr>\n",
       "      <th>0</th>\n",
       "      <td>https://speedtalk.com/forum/viewtopic.php?t=51650</td>\n",
       "      <td>There was an error with this page</td>\n",
       "    </tr>\n",
       "    <tr>\n",
       "      <th>1</th>\n",
       "      <td>https://politics2020.info/index.php/2018/03/13...</td>\n",
       "      <td>There was an error with this page</td>\n",
       "    </tr>\n",
       "    <tr>\n",
       "      <th>2</th>\n",
       "      <td>https://www.nscdscamps.org/blog/category/paren...</td>\n",
       "      <td>There was an error with this page</td>\n",
       "    </tr>\n",
       "    <tr>\n",
       "      <th>3</th>\n",
       "      <td>https://howafrica.com/oscar-pistorius-attempts...</td>\n",
       "      <td>There was an error with this page</td>\n",
       "    </tr>\n",
       "    <tr>\n",
       "      <th>4</th>\n",
       "      <td>http://washingtonsources.org/trump-votes-for-d...</td>\n",
       "      <td>There was an error with this page</td>\n",
       "    </tr>\n",
       "  </tbody>\n",
       "</table>\n",
       "</div>"
      ]
     },
     "execution_count": 8,
     "metadata": {},
     "output_type": "execute_result"
    }
   ],
   "execution_count": 8
  },
  {
   "metadata": {
    "ExecuteTime": {
     "end_time": "2024-10-25T10:30:42.694042Z",
     "start_time": "2024-10-25T10:30:42.677033Z"
    }
   },
   "cell_type": "code",
   "source": [
    "urls=[]\n",
    "for url in df1[\"url\"]:\n",
    "    if url in df4[\"url\"]:\n",
    "        urls.append(url)\n"
   ],
   "id": "d6a7154172710dd7",
   "outputs": [],
   "execution_count": 9
  },
  {
   "metadata": {
    "ExecuteTime": {
     "end_time": "2024-10-25T10:30:42.942837Z",
     "start_time": "2024-10-25T10:30:42.930070Z"
    }
   },
   "cell_type": "code",
   "source": "urls",
   "id": "ea4dd6f21a8984be",
   "outputs": [
    {
     "data": {
      "text/plain": [
       "[]"
      ]
     },
     "execution_count": 10,
     "metadata": {},
     "output_type": "execute_result"
    }
   ],
   "execution_count": 10
  },
  {
   "metadata": {
    "ExecuteTime": {
     "end_time": "2024-10-25T10:30:43.078122Z",
     "start_time": "2024-10-25T10:30:43.066122Z"
    }
   },
   "cell_type": "code",
   "source": [
    "urls_real=[]\n",
    "for url in df2[\"url\"]:\n",
    "    if url in df3[\"url\"]:\n",
    "        urls_real.append(url)\n"
   ],
   "id": "75090f57a556a195",
   "outputs": [],
   "execution_count": 11
  },
  {
   "metadata": {
    "ExecuteTime": {
     "end_time": "2024-10-25T10:30:43.173040Z",
     "start_time": "2024-10-25T10:30:43.151923Z"
    }
   },
   "cell_type": "code",
   "source": "urls_real",
   "id": "3322f211582b8df",
   "outputs": [
    {
     "data": {
      "text/plain": [
       "[]"
      ]
     },
     "execution_count": 12,
     "metadata": {},
     "output_type": "execute_result"
    }
   ],
   "execution_count": 12
  },
  {
   "metadata": {
    "ExecuteTime": {
     "end_time": "2024-10-25T10:30:43.249177Z",
     "start_time": "2024-10-25T10:30:43.226079Z"
    }
   },
   "cell_type": "code",
   "source": "df_buzzfeed=pd.concat([df2,df1])",
   "id": "f77f7805f62a47bd",
   "outputs": [],
   "execution_count": 13
  },
  {
   "metadata": {
    "ExecuteTime": {
     "end_time": "2024-10-25T10:30:47.181328Z",
     "start_time": "2024-10-25T10:30:43.316220Z"
    }
   },
   "cell_type": "code",
   "source": "!pip install transformers",
   "id": "f4764548562b94b2",
   "outputs": [
    {
     "name": "stdout",
     "output_type": "stream",
     "text": [
      "Requirement already satisfied: transformers in c:\\users\\petar\\documents\\faks\\manu\\venv\\lib\\site-packages (4.45.2)\n",
      "Requirement already satisfied: tokenizers<0.21,>=0.20 in c:\\users\\petar\\documents\\faks\\manu\\venv\\lib\\site-packages (from transformers) (0.20.1)\n",
      "Requirement already satisfied: regex!=2019.12.17 in c:\\users\\petar\\documents\\faks\\manu\\venv\\lib\\site-packages (from transformers) (2024.9.11)\n",
      "Requirement already satisfied: safetensors>=0.4.1 in c:\\users\\petar\\documents\\faks\\manu\\venv\\lib\\site-packages (from transformers) (0.4.5)\n",
      "Requirement already satisfied: packaging>=20.0 in c:\\users\\petar\\documents\\faks\\manu\\venv\\lib\\site-packages (from transformers) (24.1)\n",
      "Requirement already satisfied: numpy>=1.17 in c:\\users\\petar\\documents\\faks\\manu\\venv\\lib\\site-packages (from transformers) (1.26.4)\n",
      "Requirement already satisfied: tqdm>=4.27 in c:\\users\\petar\\documents\\faks\\manu\\venv\\lib\\site-packages (from transformers) (4.66.5)\n",
      "Requirement already satisfied: filelock in c:\\users\\petar\\documents\\faks\\manu\\venv\\lib\\site-packages (from transformers) (3.16.1)\n",
      "Requirement already satisfied: requests in c:\\users\\petar\\documents\\faks\\manu\\venv\\lib\\site-packages (from transformers) (2.32.3)\n",
      "Requirement already satisfied: huggingface-hub<1.0,>=0.23.2 in c:\\users\\petar\\documents\\faks\\manu\\venv\\lib\\site-packages (from transformers) (0.25.2)\n",
      "Requirement already satisfied: pyyaml>=5.1 in c:\\users\\petar\\documents\\faks\\manu\\venv\\lib\\site-packages (from transformers) (6.0.2)\n",
      "Requirement already satisfied: typing-extensions>=3.7.4.3 in c:\\users\\petar\\documents\\faks\\manu\\venv\\lib\\site-packages (from huggingface-hub<1.0,>=0.23.2->transformers) (4.12.2)\n",
      "Requirement already satisfied: fsspec>=2023.5.0 in c:\\users\\petar\\documents\\faks\\manu\\venv\\lib\\site-packages (from huggingface-hub<1.0,>=0.23.2->transformers) (2024.6.1)\n",
      "Requirement already satisfied: colorama in c:\\users\\petar\\documents\\faks\\manu\\venv\\lib\\site-packages (from tqdm>=4.27->transformers) (0.4.6)\n",
      "Requirement already satisfied: charset-normalizer<4,>=2 in c:\\users\\petar\\documents\\faks\\manu\\venv\\lib\\site-packages (from requests->transformers) (3.4.0)\n",
      "Requirement already satisfied: urllib3<3,>=1.21.1 in c:\\users\\petar\\documents\\faks\\manu\\venv\\lib\\site-packages (from requests->transformers) (2.2.3)\n",
      "Requirement already satisfied: certifi>=2017.4.17 in c:\\users\\petar\\documents\\faks\\manu\\venv\\lib\\site-packages (from requests->transformers) (2024.8.30)\n",
      "Requirement already satisfied: idna<4,>=2.5 in c:\\users\\petar\\documents\\faks\\manu\\venv\\lib\\site-packages (from requests->transformers) (3.10)\n"
     ]
    },
    {
     "name": "stderr",
     "output_type": "stream",
     "text": [
      "\n",
      "[notice] A new release of pip available: 22.3.1 -> 24.2\n",
      "[notice] To update, run: python.exe -m pip install --upgrade pip\n"
     ]
    }
   ],
   "execution_count": 14
  },
  {
   "metadata": {
    "ExecuteTime": {
     "end_time": "2024-10-25T10:30:48.746128Z",
     "start_time": "2024-10-25T10:30:47.283804Z"
    }
   },
   "cell_type": "code",
   "source": "from transformers import TFAutoModelForSequenceClassification, AutoTokenizer",
   "id": "fe32fab8cb7d5455",
   "outputs": [
    {
     "name": "stderr",
     "output_type": "stream",
     "text": [
      "C:\\Users\\petar\\AppData\\Local\\Packages\\PythonSoftwareFoundation.Python.3.10_qbz5n2kfra8p0\\LocalCache\\local-packages\\Python310\\site-packages\\tqdm\\auto.py:21: TqdmWarning: IProgress not found. Please update jupyter and ipywidgets. See https://ipywidgets.readthedocs.io/en/stable/user_install.html\n",
      "  from .autonotebook import tqdm as notebook_tqdm\n"
     ]
    }
   ],
   "execution_count": 15
  },
  {
   "metadata": {
    "ExecuteTime": {
     "end_time": "2024-10-25T10:31:02.725917Z",
     "start_time": "2024-10-25T10:30:48.781563Z"
    }
   },
   "cell_type": "code",
   "source": "model = TFAutoModelForSequenceClassification.from_pretrained(\"PetarKal/Fake_News_Bert_Model2\")",
   "id": "2c637217e1470f21",
   "outputs": [
    {
     "name": "stdout",
     "output_type": "stream",
     "text": [
      "WARNING:tensorflow:From C:\\Users\\petar\\AppData\\Local\\Packages\\PythonSoftwareFoundation.Python.3.10_qbz5n2kfra8p0\\LocalCache\\local-packages\\Python310\\site-packages\\tf_keras\\src\\losses.py:2976: The name tf.losses.sparse_softmax_cross_entropy is deprecated. Please use tf.compat.v1.losses.sparse_softmax_cross_entropy instead.\n",
      "\n",
      "WARNING:tensorflow:From C:\\Users\\petar\\AppData\\Local\\Packages\\PythonSoftwareFoundation.Python.3.10_qbz5n2kfra8p0\\LocalCache\\local-packages\\Python310\\site-packages\\tf_keras\\src\\backend.py:873: The name tf.get_default_graph is deprecated. Please use tf.compat.v1.get_default_graph instead.\n",
      "\n"
     ]
    },
    {
     "name": "stderr",
     "output_type": "stream",
     "text": [
      "All model checkpoint layers were used when initializing TFDistilBertForSequenceClassification.\n",
      "\n",
      "All the layers of TFDistilBertForSequenceClassification were initialized from the model checkpoint at PetarKal/Fake_News_Bert_Model2.\n",
      "If your task is similar to the task the model of the checkpoint was trained on, you can already use TFDistilBertForSequenceClassification for predictions without further training.\n"
     ]
    }
   ],
   "execution_count": 16
  },
  {
   "metadata": {
    "ExecuteTime": {
     "end_time": "2024-10-25T10:31:02.772024Z",
     "start_time": "2024-10-25T10:31:02.759503Z"
    }
   },
   "cell_type": "code",
   "source": "df_buzzfeed.head()",
   "id": "a252acae1dcab061",
   "outputs": [
    {
     "data": {
      "text/plain": [
       "                                                text  \\\n",
       "0  I woke up this morning to find a variation of ...   \n",
       "1  Former President Bill Clinton and his Clinton ...   \n",
       "2  After collapsing just before trying to step in...   \n",
       "3  Donald Trump is, well, deplorable. He’s sugges...   \n",
       "4                    Website is Down For Maintenance   \n",
       "\n",
       "                                                 url  type  \n",
       "0  http://www.addictinginfo.org/2016/09/19/proof-...     1  \n",
       "1  http://eaglerising.com/36899/charity-clinton-f...     1  \n",
       "2  http://eaglerising.com/36880/a-hillary-clinton...     1  \n",
       "3  http://www.addictinginfo.org/2016/09/19/trumps...     1  \n",
       "4  http://www.proudcons.com/clinton-foundation-ca...     1  "
      ],
      "text/html": [
       "<div>\n",
       "<style scoped>\n",
       "    .dataframe tbody tr th:only-of-type {\n",
       "        vertical-align: middle;\n",
       "    }\n",
       "\n",
       "    .dataframe tbody tr th {\n",
       "        vertical-align: top;\n",
       "    }\n",
       "\n",
       "    .dataframe thead th {\n",
       "        text-align: right;\n",
       "    }\n",
       "</style>\n",
       "<table border=\"1\" class=\"dataframe\">\n",
       "  <thead>\n",
       "    <tr style=\"text-align: right;\">\n",
       "      <th></th>\n",
       "      <th>text</th>\n",
       "      <th>url</th>\n",
       "      <th>type</th>\n",
       "    </tr>\n",
       "  </thead>\n",
       "  <tbody>\n",
       "    <tr>\n",
       "      <th>0</th>\n",
       "      <td>I woke up this morning to find a variation of ...</td>\n",
       "      <td>http://www.addictinginfo.org/2016/09/19/proof-...</td>\n",
       "      <td>1</td>\n",
       "    </tr>\n",
       "    <tr>\n",
       "      <th>1</th>\n",
       "      <td>Former President Bill Clinton and his Clinton ...</td>\n",
       "      <td>http://eaglerising.com/36899/charity-clinton-f...</td>\n",
       "      <td>1</td>\n",
       "    </tr>\n",
       "    <tr>\n",
       "      <th>2</th>\n",
       "      <td>After collapsing just before trying to step in...</td>\n",
       "      <td>http://eaglerising.com/36880/a-hillary-clinton...</td>\n",
       "      <td>1</td>\n",
       "    </tr>\n",
       "    <tr>\n",
       "      <th>3</th>\n",
       "      <td>Donald Trump is, well, deplorable. He’s sugges...</td>\n",
       "      <td>http://www.addictinginfo.org/2016/09/19/trumps...</td>\n",
       "      <td>1</td>\n",
       "    </tr>\n",
       "    <tr>\n",
       "      <th>4</th>\n",
       "      <td>Website is Down For Maintenance</td>\n",
       "      <td>http://www.proudcons.com/clinton-foundation-ca...</td>\n",
       "      <td>1</td>\n",
       "    </tr>\n",
       "  </tbody>\n",
       "</table>\n",
       "</div>"
      ]
     },
     "execution_count": 17,
     "metadata": {},
     "output_type": "execute_result"
    }
   ],
   "execution_count": 17
  },
  {
   "metadata": {
    "ExecuteTime": {
     "end_time": "2024-10-25T10:31:02.894113Z",
     "start_time": "2024-10-25T10:31:02.865671Z"
    }
   },
   "cell_type": "code",
   "source": "df_buzzfeed.drop(columns=[\"url\"], inplace=True)",
   "id": "3efef8a058563fd0",
   "outputs": [],
   "execution_count": 18
  },
  {
   "metadata": {
    "ExecuteTime": {
     "end_time": "2024-10-25T10:31:03.218809Z",
     "start_time": "2024-10-25T10:31:02.960031Z"
    }
   },
   "cell_type": "code",
   "source": "tokenizer = AutoTokenizer.from_pretrained(\"distilbert-base-uncased\")",
   "id": "43cc88823a2b1c8d",
   "outputs": [],
   "execution_count": 19
  },
  {
   "metadata": {
    "ExecuteTime": {
     "end_time": "2024-10-25T10:31:03.233973Z",
     "start_time": "2024-10-25T10:31:03.224974Z"
    }
   },
   "cell_type": "code",
   "source": "df_buzfeed=df_buzzfeed.dropna()",
   "id": "4c1c9d05ffb27e18",
   "outputs": [],
   "execution_count": 20
  },
  {
   "metadata": {
    "ExecuteTime": {
     "end_time": "2024-10-25T10:31:03.280877Z",
     "start_time": "2024-10-25T10:31:03.267511Z"
    }
   },
   "cell_type": "code",
   "source": [
    "def preprocess_function(examples):\n",
    "    if isinstance(examples[\"text\"], str):\n",
    "        return tokenizer(examples[\"text\"], truncation=True)\n",
    "    else:\n",
    "        return tokenizer(\"N/A\", truncation=True)"
   ],
   "id": "ca9e05ce8724093f",
   "outputs": [],
   "execution_count": 21
  },
  {
   "metadata": {
    "ExecuteTime": {
     "end_time": "2024-10-25T10:31:03.328051Z",
     "start_time": "2024-10-25T10:31:03.315050Z"
    }
   },
   "cell_type": "code",
   "source": "df_buzzfeed.head()",
   "id": "960fd05092b4025b",
   "outputs": [
    {
     "data": {
      "text/plain": [
       "                                                text  type\n",
       "0  I woke up this morning to find a variation of ...     1\n",
       "1  Former President Bill Clinton and his Clinton ...     1\n",
       "2  After collapsing just before trying to step in...     1\n",
       "3  Donald Trump is, well, deplorable. He’s sugges...     1\n",
       "4                    Website is Down For Maintenance     1"
      ],
      "text/html": [
       "<div>\n",
       "<style scoped>\n",
       "    .dataframe tbody tr th:only-of-type {\n",
       "        vertical-align: middle;\n",
       "    }\n",
       "\n",
       "    .dataframe tbody tr th {\n",
       "        vertical-align: top;\n",
       "    }\n",
       "\n",
       "    .dataframe thead th {\n",
       "        text-align: right;\n",
       "    }\n",
       "</style>\n",
       "<table border=\"1\" class=\"dataframe\">\n",
       "  <thead>\n",
       "    <tr style=\"text-align: right;\">\n",
       "      <th></th>\n",
       "      <th>text</th>\n",
       "      <th>type</th>\n",
       "    </tr>\n",
       "  </thead>\n",
       "  <tbody>\n",
       "    <tr>\n",
       "      <th>0</th>\n",
       "      <td>I woke up this morning to find a variation of ...</td>\n",
       "      <td>1</td>\n",
       "    </tr>\n",
       "    <tr>\n",
       "      <th>1</th>\n",
       "      <td>Former President Bill Clinton and his Clinton ...</td>\n",
       "      <td>1</td>\n",
       "    </tr>\n",
       "    <tr>\n",
       "      <th>2</th>\n",
       "      <td>After collapsing just before trying to step in...</td>\n",
       "      <td>1</td>\n",
       "    </tr>\n",
       "    <tr>\n",
       "      <th>3</th>\n",
       "      <td>Donald Trump is, well, deplorable. He’s sugges...</td>\n",
       "      <td>1</td>\n",
       "    </tr>\n",
       "    <tr>\n",
       "      <th>4</th>\n",
       "      <td>Website is Down For Maintenance</td>\n",
       "      <td>1</td>\n",
       "    </tr>\n",
       "  </tbody>\n",
       "</table>\n",
       "</div>"
      ]
     },
     "execution_count": 22,
     "metadata": {},
     "output_type": "execute_result"
    }
   ],
   "execution_count": 22
  },
  {
   "metadata": {
    "ExecuteTime": {
     "end_time": "2024-10-25T10:31:03.840408Z",
     "start_time": "2024-10-25T10:31:03.408051Z"
    }
   },
   "cell_type": "code",
   "source": [
    "from datasets import Dataset\n",
    "\n",
    "dataset = Dataset.from_pandas(df_buzzfeed,preserve_index=False)\n"
   ],
   "id": "724c6acf2d105126",
   "outputs": [],
   "execution_count": 23
  },
  {
   "metadata": {
    "ExecuteTime": {
     "end_time": "2024-10-25T10:31:04.350218Z",
     "start_time": "2024-10-25T10:31:03.888568Z"
    }
   },
   "cell_type": "code",
   "source": "df_tokenized=dataset.map(preprocess_function)",
   "id": "309c06b6e52f0074",
   "outputs": [
    {
     "name": "stderr",
     "output_type": "stream",
     "text": [
      "Map: 100%|██████████| 182/182 [00:00<00:00, 450.24 examples/s]\n"
     ]
    }
   ],
   "execution_count": 24
  },
  {
   "metadata": {
    "ExecuteTime": {
     "end_time": "2024-10-25T10:31:04.366096Z",
     "start_time": "2024-10-25T10:31:04.357099Z"
    }
   },
   "cell_type": "code",
   "source": [
    "x=df_tokenized.remove_columns([\"text\",\"type\"])\n",
    "y=df_buzzfeed[\"type\"]"
   ],
   "id": "bb8025aad28a857",
   "outputs": [],
   "execution_count": 25
  },
  {
   "metadata": {
    "ExecuteTime": {
     "end_time": "2024-10-25T10:31:04.503450Z",
     "start_time": "2024-10-25T10:31:04.398096Z"
    }
   },
   "cell_type": "code",
   "source": [
    "def preprocess(texts):\n",
    "    return tokenizer(texts, padding=True, truncation=True, return_tensors=\"tf\")\n",
    "\n",
    "inputs = preprocess(df_buzzfeed['text'].tolist())"
   ],
   "id": "c47bf434eaf12a7e",
   "outputs": [],
   "execution_count": 26
  },
  {
   "metadata": {
    "ExecuteTime": {
     "end_time": "2024-10-25T10:31:04.549394Z",
     "start_time": "2024-10-25T10:31:04.535306Z"
    }
   },
   "cell_type": "code",
   "source": "",
   "id": "b3c7c986a6b6a5e9",
   "outputs": [],
   "execution_count": null
  },
  {
   "metadata": {
    "ExecuteTime": {
     "end_time": "2024-10-25T10:32:14.616805Z",
     "start_time": "2024-10-25T10:31:04.582582Z"
    }
   },
   "cell_type": "code",
   "source": "outputs = model(**inputs)",
   "id": "a4c01d1605f9f193",
   "outputs": [],
   "execution_count": 27
  },
  {
   "metadata": {
    "ExecuteTime": {
     "end_time": "2024-10-25T10:32:14.903155Z",
     "start_time": "2024-10-25T10:32:14.858152Z"
    }
   },
   "cell_type": "code",
   "source": [
    "import tensorflow as tf\n",
    "probs = tf.nn.softmax(outputs.logits, axis=-1)\n",
    "\n",
    "# Get the predicted class (0 or 1 for binary classification)\n",
    "predictions = tf.argmax(probs, axis=1)\n",
    "\n",
    "# Convert predictions back to a numpy array (if needed)\n",
    "predictions = predictions.numpy()\n"
   ],
   "id": "ee66a92c79af40bd",
   "outputs": [],
   "execution_count": 28
  },
  {
   "metadata": {
    "ExecuteTime": {
     "end_time": "2024-10-25T10:32:15.091300Z",
     "start_time": "2024-10-25T10:32:15.073293Z"
    }
   },
   "cell_type": "code",
   "source": "len(predictions)",
   "id": "547b1025cb9f265d",
   "outputs": [
    {
     "data": {
      "text/plain": [
       "182"
      ]
     },
     "execution_count": 29,
     "metadata": {},
     "output_type": "execute_result"
    }
   ],
   "execution_count": 29
  },
  {
   "metadata": {
    "ExecuteTime": {
     "end_time": "2024-10-25T10:32:15.198145Z",
     "start_time": "2024-10-25T10:32:15.150975Z"
    }
   },
   "cell_type": "code",
   "source": "df_buzzfeed[\"predicted_label\"]=predictions",
   "id": "759eae25a9fd9b76",
   "outputs": [],
   "execution_count": 30
  },
  {
   "metadata": {
    "ExecuteTime": {
     "end_time": "2024-10-25T10:32:15.370146Z",
     "start_time": "2024-10-25T10:32:15.280146Z"
    }
   },
   "cell_type": "code",
   "source": "df_buzzfeed",
   "id": "4cf7079180c09a0e",
   "outputs": [
    {
     "data": {
      "text/plain": [
       "                                                 text  type  predicted_label\n",
       "0   I woke up this morning to find a variation of ...     1                1\n",
       "1   Former President Bill Clinton and his Clinton ...     1                1\n",
       "2   After collapsing just before trying to step in...     1                1\n",
       "3   Donald Trump is, well, deplorable. He’s sugges...     1                1\n",
       "4                     Website is Down For Maintenance     1                1\n",
       "..                                                ...   ...              ...\n",
       "86  Like much of the mainstream media, the Washing...     0                1\n",
       "87  2016 Obama’s team isn’t laughing at Trump anym...     0                1\n",
       "88  Story highlights Trump has 45%, Clinton 42% an...     0                0\n",
       "89  There may be a few women out there who enjoy a...     0                1\n",
       "90  Off Message Is Donald Trump qualified to be pr...     0                1\n",
       "\n",
       "[182 rows x 3 columns]"
      ],
      "text/html": [
       "<div>\n",
       "<style scoped>\n",
       "    .dataframe tbody tr th:only-of-type {\n",
       "        vertical-align: middle;\n",
       "    }\n",
       "\n",
       "    .dataframe tbody tr th {\n",
       "        vertical-align: top;\n",
       "    }\n",
       "\n",
       "    .dataframe thead th {\n",
       "        text-align: right;\n",
       "    }\n",
       "</style>\n",
       "<table border=\"1\" class=\"dataframe\">\n",
       "  <thead>\n",
       "    <tr style=\"text-align: right;\">\n",
       "      <th></th>\n",
       "      <th>text</th>\n",
       "      <th>type</th>\n",
       "      <th>predicted_label</th>\n",
       "    </tr>\n",
       "  </thead>\n",
       "  <tbody>\n",
       "    <tr>\n",
       "      <th>0</th>\n",
       "      <td>I woke up this morning to find a variation of ...</td>\n",
       "      <td>1</td>\n",
       "      <td>1</td>\n",
       "    </tr>\n",
       "    <tr>\n",
       "      <th>1</th>\n",
       "      <td>Former President Bill Clinton and his Clinton ...</td>\n",
       "      <td>1</td>\n",
       "      <td>1</td>\n",
       "    </tr>\n",
       "    <tr>\n",
       "      <th>2</th>\n",
       "      <td>After collapsing just before trying to step in...</td>\n",
       "      <td>1</td>\n",
       "      <td>1</td>\n",
       "    </tr>\n",
       "    <tr>\n",
       "      <th>3</th>\n",
       "      <td>Donald Trump is, well, deplorable. He’s sugges...</td>\n",
       "      <td>1</td>\n",
       "      <td>1</td>\n",
       "    </tr>\n",
       "    <tr>\n",
       "      <th>4</th>\n",
       "      <td>Website is Down For Maintenance</td>\n",
       "      <td>1</td>\n",
       "      <td>1</td>\n",
       "    </tr>\n",
       "    <tr>\n",
       "      <th>...</th>\n",
       "      <td>...</td>\n",
       "      <td>...</td>\n",
       "      <td>...</td>\n",
       "    </tr>\n",
       "    <tr>\n",
       "      <th>86</th>\n",
       "      <td>Like much of the mainstream media, the Washing...</td>\n",
       "      <td>0</td>\n",
       "      <td>1</td>\n",
       "    </tr>\n",
       "    <tr>\n",
       "      <th>87</th>\n",
       "      <td>2016 Obama’s team isn’t laughing at Trump anym...</td>\n",
       "      <td>0</td>\n",
       "      <td>1</td>\n",
       "    </tr>\n",
       "    <tr>\n",
       "      <th>88</th>\n",
       "      <td>Story highlights Trump has 45%, Clinton 42% an...</td>\n",
       "      <td>0</td>\n",
       "      <td>0</td>\n",
       "    </tr>\n",
       "    <tr>\n",
       "      <th>89</th>\n",
       "      <td>There may be a few women out there who enjoy a...</td>\n",
       "      <td>0</td>\n",
       "      <td>1</td>\n",
       "    </tr>\n",
       "    <tr>\n",
       "      <th>90</th>\n",
       "      <td>Off Message Is Donald Trump qualified to be pr...</td>\n",
       "      <td>0</td>\n",
       "      <td>1</td>\n",
       "    </tr>\n",
       "  </tbody>\n",
       "</table>\n",
       "<p>182 rows × 3 columns</p>\n",
       "</div>"
      ]
     },
     "execution_count": 31,
     "metadata": {},
     "output_type": "execute_result"
    }
   ],
   "execution_count": 31
  },
  {
   "metadata": {
    "ExecuteTime": {
     "end_time": "2024-10-25T10:32:15.554148Z",
     "start_time": "2024-10-25T10:32:15.525147Z"
    }
   },
   "cell_type": "code",
   "source": [
    "correct_predictions = (df_buzzfeed['predicted_label'] == df_buzzfeed['type']).sum()\n",
    "total = len(df_buzzfeed)\n",
    "\n",
    "accuracy = correct_predictions / total\n",
    "print(f\"Accuracy: {accuracy * 100:.2f}%\")"
   ],
   "id": "5ca4ace32e3d8759",
   "outputs": [
    {
     "name": "stdout",
     "output_type": "stream",
     "text": [
      "Accuracy: 58.79%\n"
     ]
    }
   ],
   "execution_count": 32
  },
  {
   "metadata": {
    "ExecuteTime": {
     "end_time": "2024-10-25T10:39:40.563150Z",
     "start_time": "2024-10-25T10:39:40.539837Z"
    }
   },
   "cell_type": "code",
   "source": [
    "id2label = {0: \"Real\", 1: \"Fake\"}\n",
    "label2id = {\"Real\": 0, \"Fake\": 1}"
   ],
   "id": "8a2f7a72d93ca551",
   "outputs": [],
   "execution_count": 33
  },
  {
   "metadata": {
    "ExecuteTime": {
     "end_time": "2024-10-25T10:40:02.806329Z",
     "start_time": "2024-10-25T10:39:59.769704Z"
    }
   },
   "cell_type": "code",
   "source": [
    "model2 = TFAutoModelForSequenceClassification.from_pretrained(\n",
    "    \"distilbert/distilbert-base-uncased\", num_labels=2, id2label=id2label, label2id=label2id\n",
    ")"
   ],
   "id": "a7073611ee81deee",
   "outputs": [
    {
     "name": "stderr",
     "output_type": "stream",
     "text": [
      "Some weights of the PyTorch model were not used when initializing the TF 2.0 model TFDistilBertForSequenceClassification: ['vocab_layer_norm.bias', 'vocab_transform.bias', 'vocab_layer_norm.weight', 'vocab_transform.weight', 'vocab_projector.bias']\n",
      "- This IS expected if you are initializing TFDistilBertForSequenceClassification from a PyTorch model trained on another task or with another architecture (e.g. initializing a TFBertForSequenceClassification model from a BertForPreTraining model).\n",
      "- This IS NOT expected if you are initializing TFDistilBertForSequenceClassification from a PyTorch model that you expect to be exactly identical (e.g. initializing a TFBertForSequenceClassification model from a BertForSequenceClassification model).\n",
      "Some weights or buffers of the TF 2.0 model TFDistilBertForSequenceClassification were not initialized from the PyTorch model and are newly initialized: ['pre_classifier.weight', 'pre_classifier.bias', 'classifier.weight', 'classifier.bias']\n",
      "You should probably TRAIN this model on a down-stream task to be able to use it for predictions and inference.\n"
     ]
    }
   ],
   "execution_count": 34
  },
  {
   "metadata": {
    "ExecuteTime": {
     "end_time": "2024-10-25T10:42:31.044949Z",
     "start_time": "2024-10-25T10:40:53.793750Z"
    }
   },
   "cell_type": "code",
   "source": "outputs2 = model2(**inputs)",
   "id": "8efa0e749d8537d7",
   "outputs": [],
   "execution_count": 35
  },
  {
   "metadata": {
    "ExecuteTime": {
     "end_time": "2024-10-25T10:42:33.283711Z",
     "start_time": "2024-10-25T10:42:33.243368Z"
    }
   },
   "cell_type": "code",
   "source": [
    "import tensorflow as tf\n",
    "probs2 = tf.nn.softmax(outputs2.logits, axis=-1)\n",
    "\n",
    "# Get the predicted class (0 or 1 for binary classification)\n",
    "predictions2 = tf.argmax(probs2, axis=1)\n",
    "\n",
    "# Convert predictions back to a numpy array (if needed)\n",
    "predictions2 = predictions2.numpy()\n"
   ],
   "id": "9d01e98781d1762",
   "outputs": [],
   "execution_count": 36
  },
  {
   "metadata": {
    "ExecuteTime": {
     "end_time": "2024-10-25T10:42:34.014912Z",
     "start_time": "2024-10-25T10:42:33.984850Z"
    }
   },
   "cell_type": "code",
   "source": "df_buzzfeed[\"predicted_label2\"]=predictions2\n",
   "id": "8ccba12017d42f41",
   "outputs": [],
   "execution_count": 37
  },
  {
   "metadata": {
    "ExecuteTime": {
     "end_time": "2024-10-25T10:42:34.843567Z",
     "start_time": "2024-10-25T10:42:34.817329Z"
    }
   },
   "cell_type": "code",
   "source": [
    "correct_predictions = (df_buzzfeed['predicted_label2'] == df_buzzfeed['type']).sum()\n",
    "total = len(df_buzzfeed)\n",
    "\n",
    "accuracy = correct_predictions / total\n",
    "print(f\"Accuracy: {accuracy * 100:.2f}%\")"
   ],
   "id": "971cfe9593924312",
   "outputs": [
    {
     "name": "stdout",
     "output_type": "stream",
     "text": [
      "Accuracy: 50.00%\n"
     ]
    }
   ],
   "execution_count": 38
  },
  {
   "metadata": {
    "ExecuteTime": {
     "end_time": "2024-10-25T10:45:54.953188Z",
     "start_time": "2024-10-25T10:45:54.882974Z"
    }
   },
   "cell_type": "code",
   "source": "df_buzzfeed",
   "id": "19fbe789ba085e41",
   "outputs": [
    {
     "data": {
      "text/plain": [
       "                                                 text  type  predicted_label  \\\n",
       "0   I woke up this morning to find a variation of ...     1                1   \n",
       "1   Former President Bill Clinton and his Clinton ...     1                1   \n",
       "2   After collapsing just before trying to step in...     1                1   \n",
       "3   Donald Trump is, well, deplorable. He’s sugges...     1                1   \n",
       "4                     Website is Down For Maintenance     1                1   \n",
       "..                                                ...   ...              ...   \n",
       "86  Like much of the mainstream media, the Washing...     0                1   \n",
       "87  2016 Obama’s team isn’t laughing at Trump anym...     0                1   \n",
       "88  Story highlights Trump has 45%, Clinton 42% an...     0                0   \n",
       "89  There may be a few women out there who enjoy a...     0                1   \n",
       "90  Off Message Is Donald Trump qualified to be pr...     0                1   \n",
       "\n",
       "    predicted_label2  \n",
       "0                  1  \n",
       "1                  1  \n",
       "2                  1  \n",
       "3                  1  \n",
       "4                  1  \n",
       "..               ...  \n",
       "86                 1  \n",
       "87                 1  \n",
       "88                 1  \n",
       "89                 1  \n",
       "90                 1  \n",
       "\n",
       "[182 rows x 4 columns]"
      ],
      "text/html": [
       "<div>\n",
       "<style scoped>\n",
       "    .dataframe tbody tr th:only-of-type {\n",
       "        vertical-align: middle;\n",
       "    }\n",
       "\n",
       "    .dataframe tbody tr th {\n",
       "        vertical-align: top;\n",
       "    }\n",
       "\n",
       "    .dataframe thead th {\n",
       "        text-align: right;\n",
       "    }\n",
       "</style>\n",
       "<table border=\"1\" class=\"dataframe\">\n",
       "  <thead>\n",
       "    <tr style=\"text-align: right;\">\n",
       "      <th></th>\n",
       "      <th>text</th>\n",
       "      <th>type</th>\n",
       "      <th>predicted_label</th>\n",
       "      <th>predicted_label2</th>\n",
       "    </tr>\n",
       "  </thead>\n",
       "  <tbody>\n",
       "    <tr>\n",
       "      <th>0</th>\n",
       "      <td>I woke up this morning to find a variation of ...</td>\n",
       "      <td>1</td>\n",
       "      <td>1</td>\n",
       "      <td>1</td>\n",
       "    </tr>\n",
       "    <tr>\n",
       "      <th>1</th>\n",
       "      <td>Former President Bill Clinton and his Clinton ...</td>\n",
       "      <td>1</td>\n",
       "      <td>1</td>\n",
       "      <td>1</td>\n",
       "    </tr>\n",
       "    <tr>\n",
       "      <th>2</th>\n",
       "      <td>After collapsing just before trying to step in...</td>\n",
       "      <td>1</td>\n",
       "      <td>1</td>\n",
       "      <td>1</td>\n",
       "    </tr>\n",
       "    <tr>\n",
       "      <th>3</th>\n",
       "      <td>Donald Trump is, well, deplorable. He’s sugges...</td>\n",
       "      <td>1</td>\n",
       "      <td>1</td>\n",
       "      <td>1</td>\n",
       "    </tr>\n",
       "    <tr>\n",
       "      <th>4</th>\n",
       "      <td>Website is Down For Maintenance</td>\n",
       "      <td>1</td>\n",
       "      <td>1</td>\n",
       "      <td>1</td>\n",
       "    </tr>\n",
       "    <tr>\n",
       "      <th>...</th>\n",
       "      <td>...</td>\n",
       "      <td>...</td>\n",
       "      <td>...</td>\n",
       "      <td>...</td>\n",
       "    </tr>\n",
       "    <tr>\n",
       "      <th>86</th>\n",
       "      <td>Like much of the mainstream media, the Washing...</td>\n",
       "      <td>0</td>\n",
       "      <td>1</td>\n",
       "      <td>1</td>\n",
       "    </tr>\n",
       "    <tr>\n",
       "      <th>87</th>\n",
       "      <td>2016 Obama’s team isn’t laughing at Trump anym...</td>\n",
       "      <td>0</td>\n",
       "      <td>1</td>\n",
       "      <td>1</td>\n",
       "    </tr>\n",
       "    <tr>\n",
       "      <th>88</th>\n",
       "      <td>Story highlights Trump has 45%, Clinton 42% an...</td>\n",
       "      <td>0</td>\n",
       "      <td>0</td>\n",
       "      <td>1</td>\n",
       "    </tr>\n",
       "    <tr>\n",
       "      <th>89</th>\n",
       "      <td>There may be a few women out there who enjoy a...</td>\n",
       "      <td>0</td>\n",
       "      <td>1</td>\n",
       "      <td>1</td>\n",
       "    </tr>\n",
       "    <tr>\n",
       "      <th>90</th>\n",
       "      <td>Off Message Is Donald Trump qualified to be pr...</td>\n",
       "      <td>0</td>\n",
       "      <td>1</td>\n",
       "      <td>1</td>\n",
       "    </tr>\n",
       "  </tbody>\n",
       "</table>\n",
       "<p>182 rows × 4 columns</p>\n",
       "</div>"
      ]
     },
     "execution_count": 39,
     "metadata": {},
     "output_type": "execute_result"
    }
   ],
   "execution_count": 39
  },
  {
   "metadata": {
    "ExecuteTime": {
     "end_time": "2024-10-25T11:32:43.148559Z",
     "start_time": "2024-10-25T11:32:43.124892Z"
    }
   },
   "cell_type": "code",
   "source": "tf.nn.softmax(outputs.logits, axis=-1)",
   "id": "61af05ecec7e2916",
   "outputs": [
    {
     "data": {
      "text/plain": [
       "<tf.Tensor: shape=(182, 2), dtype=float32, numpy=\n",
       "array([[-0.8104825 ,  0.95087457],\n",
       "       [-0.8480685 ,  0.9906671 ],\n",
       "       [-0.70046544,  0.77301526],\n",
       "       [-0.8926599 ,  0.986966  ],\n",
       "       [-0.3132396 ,  0.5002792 ],\n",
       "       [ 0.699223  , -0.61473733],\n",
       "       [-0.29215458,  0.3827525 ],\n",
       "       [-0.86452186,  1.0040036 ],\n",
       "       [-0.8812918 ,  1.0156921 ],\n",
       "       [-0.39938056,  0.5869026 ],\n",
       "       [ 1.2229482 , -1.0473315 ],\n",
       "       [-0.7194406 ,  0.8729996 ],\n",
       "       [-0.70046544,  0.77301526],\n",
       "       [-0.7747539 ,  0.92918193],\n",
       "       [-0.2747108 ,  0.42761746],\n",
       "       [-0.88470733,  0.9978813 ],\n",
       "       [ 0.48548952, -0.3728655 ],\n",
       "       [ 1.004058  , -0.86361015],\n",
       "       [-0.8847934 ,  0.9861777 ],\n",
       "       [-0.63860416,  0.776144  ],\n",
       "       [-0.73072433,  0.89198816],\n",
       "       [-0.2837825 ,  0.40107644],\n",
       "       [-0.9063275 ,  1.0523237 ],\n",
       "       [-1.0038669 ,  1.100267  ],\n",
       "       [-1.0305809 ,  1.1367226 ],\n",
       "       [-1.0139432 ,  1.1209657 ],\n",
       "       [-0.63412344,  0.70569223],\n",
       "       [-0.9712221 ,  1.1432978 ],\n",
       "       [-0.822309  ,  0.916684  ],\n",
       "       [-0.9740015 ,  1.1409234 ],\n",
       "       [-0.9612757 ,  1.0539547 ],\n",
       "       [-0.53679824,  0.6128726 ],\n",
       "       [-0.3132396 ,  0.5002792 ],\n",
       "       [-0.739041  ,  0.85528946],\n",
       "       [-0.96426284,  1.0664037 ],\n",
       "       [-0.87364465,  1.0259104 ],\n",
       "       [-0.2521897 ,  0.38206843],\n",
       "       [-1.0115727 ,  1.0963916 ],\n",
       "       [-0.83214617,  0.96283215],\n",
       "       [-0.9904404 ,  1.0556341 ],\n",
       "       [-1.020234  ,  1.0638788 ],\n",
       "       [ 0.94715244, -0.76111996],\n",
       "       [-0.8731227 ,  0.93992937],\n",
       "       [-0.9619407 ,  1.1177932 ],\n",
       "       [-0.8462058 ,  1.0174752 ],\n",
       "       [-0.56698024,  0.63747483],\n",
       "       [-0.92254317,  1.0856807 ],\n",
       "       [-0.98863846,  1.0874876 ],\n",
       "       [-0.2837825 ,  0.40107644],\n",
       "       [-0.65701294,  0.71160555],\n",
       "       [-0.79274136,  0.94525826],\n",
       "       [-0.624933  ,  0.74580884],\n",
       "       [-0.63844067,  0.7285732 ],\n",
       "       [-1.0054044 ,  1.1501695 ],\n",
       "       [-0.864     ,  1.0215752 ],\n",
       "       [-0.9965557 ,  1.1331518 ],\n",
       "       [-0.88435984,  1.0827501 ],\n",
       "       [-0.8940487 ,  1.0383955 ],\n",
       "       [-0.7709458 ,  0.90687674],\n",
       "       [-0.85486984,  0.99365586],\n",
       "       [-0.92285824,  1.0400043 ],\n",
       "       [-1.0121735 ,  1.0760567 ],\n",
       "       [-0.872188  ,  1.0317684 ],\n",
       "       [-0.62788606,  0.78671646],\n",
       "       [-0.9163822 ,  1.0391768 ],\n",
       "       [-1.0070385 ,  1.1170495 ],\n",
       "       [-0.29215458,  0.3827525 ],\n",
       "       [-0.7288963 ,  0.86425304],\n",
       "       [-0.82125723,  0.91817856],\n",
       "       [-0.9017677 ,  1.0469791 ],\n",
       "       [-0.5294329 ,  0.65096354],\n",
       "       [-0.91710794,  1.0162126 ],\n",
       "       [-0.8736728 ,  1.040657  ],\n",
       "       [-0.6785844 ,  0.8073131 ],\n",
       "       [-0.81678724,  0.95924014],\n",
       "       [-0.20826624,  0.34015197],\n",
       "       [-0.94560736,  1.0486095 ],\n",
       "       [-0.7932649 ,  0.9247176 ],\n",
       "       [-0.71935105,  0.9052221 ],\n",
       "       [-0.87613654,  1.0064152 ],\n",
       "       [-0.8427887 ,  0.97832537],\n",
       "       [-0.8668071 ,  1.0152406 ],\n",
       "       [-0.8268579 ,  0.91491187],\n",
       "       [-0.9396367 ,  1.0137953 ],\n",
       "       [-0.98674035,  1.1279258 ],\n",
       "       [-0.97681296,  1.1720847 ],\n",
       "       [-0.97172487,  1.053928  ],\n",
       "       [-0.60600877,  0.6835809 ],\n",
       "       [-0.6015058 ,  0.71372825],\n",
       "       [-0.61868984,  0.75310206],\n",
       "       [-0.8266673 ,  0.96235716],\n",
       "       [-1.0077304 ,  1.0867081 ],\n",
       "       [-0.6299122 ,  0.74430776],\n",
       "       [ 0.7650257 , -0.63727057],\n",
       "       [ 0.28226998, -0.22388938],\n",
       "       [ 0.0505516 ,  0.07595097],\n",
       "       [-1.0122702 ,  1.0866947 ],\n",
       "       [-0.17950796,  0.17828225],\n",
       "       [-1.0084754 ,  1.1250877 ],\n",
       "       [ 1.1198072 , -0.97497714],\n",
       "       [-0.79271173,  0.94312894],\n",
       "       [ 0.05152443, -0.0348731 ],\n",
       "       [-0.2603247 ,  0.40831757],\n",
       "       [-0.58629596,  0.67208344],\n",
       "       [-0.9783599 ,  1.1804186 ],\n",
       "       [-0.21534151,  0.31524563],\n",
       "       [-0.8724235 ,  1.0723704 ],\n",
       "       [-0.9909655 ,  1.1713988 ],\n",
       "       [-0.6925903 ,  0.8582537 ],\n",
       "       [-0.99655247,  1.0693251 ],\n",
       "       [ 0.2114368 , -0.07473589],\n",
       "       [-0.6298102 ,  0.722806  ],\n",
       "       [-0.96170235,  1.0867463 ],\n",
       "       [-0.17958556,  0.21782288],\n",
       "       [-0.77294517,  0.91829324],\n",
       "       [-0.7597618 ,  0.86087346],\n",
       "       [ 1.6337038 , -1.4303213 ],\n",
       "       [-1.0003356 ,  1.098756  ],\n",
       "       [-0.98406625,  1.1130024 ],\n",
       "       [-1.0149751 ,  1.0702494 ],\n",
       "       [-0.9856417 ,  1.0750262 ],\n",
       "       [-0.89729416,  1.0683815 ],\n",
       "       [-0.835641  ,  0.96593153],\n",
       "       [-0.78790176,  0.9514251 ],\n",
       "       [-0.5527935 ,  0.7934405 ],\n",
       "       [ 0.30969682, -0.25838903],\n",
       "       [ 0.48727122, -0.40703818],\n",
       "       [ 1.1792519 , -1.0102417 ],\n",
       "       [-1.0346388 ,  1.1621336 ],\n",
       "       [ 0.36732015, -0.07020464],\n",
       "       [ 0.94168127, -0.8543179 ],\n",
       "       [ 0.7985705 , -0.7391939 ],\n",
       "       [-0.8524311 ,  0.9742094 ],\n",
       "       [ 0.5315489 , -0.3592358 ],\n",
       "       [-0.8041489 ,  0.9387928 ],\n",
       "       [-0.25606608,  0.37008613],\n",
       "       [ 1.4770205 , -1.312524  ],\n",
       "       [ 0.08642109,  0.12705034],\n",
       "       [-0.885268  ,  1.0342984 ],\n",
       "       [-1.0130659 ,  1.1461369 ],\n",
       "       [-0.7775303 ,  0.9255185 ],\n",
       "       [-0.8586054 ,  1.029056  ],\n",
       "       [-0.54000604,  0.68124497],\n",
       "       [-0.40005162,  0.5871232 ],\n",
       "       [-1.0317672 ,  1.1203134 ],\n",
       "       [-0.8856601 ,  1.0110226 ],\n",
       "       [ 0.25126028, -0.13745975],\n",
       "       [-0.87380683,  0.997587  ],\n",
       "       [-0.56890976,  0.6768762 ],\n",
       "       [-0.02522616,  0.08733269],\n",
       "       [-0.96633744,  1.0512575 ],\n",
       "       [-0.6270158 ,  0.7535532 ],\n",
       "       [-0.981426  ,  1.0848781 ],\n",
       "       [-0.9156382 ,  0.99583715],\n",
       "       [-0.5387751 ,  0.6430547 ],\n",
       "       [ 0.7668834 , -0.7478634 ],\n",
       "       [-1.0154098 ,  1.1198627 ],\n",
       "       [-0.27665645,  0.43656027],\n",
       "       [-0.9372747 ,  1.0558734 ],\n",
       "       [-0.6809313 ,  0.8897749 ],\n",
       "       [-0.71017975,  0.83839256],\n",
       "       [ 0.61175704, -0.45060292],\n",
       "       [-0.517706  ,  0.59748846],\n",
       "       [ 0.51939285, -0.37006631],\n",
       "       [-0.56521666,  0.61200285],\n",
       "       [-0.98153704,  1.1143502 ],\n",
       "       [-0.7383822 ,  0.873592  ],\n",
       "       [-0.94729185,  1.0361984 ],\n",
       "       [ 0.5163616 , -0.44133472],\n",
       "       [-0.2809792 ,  0.3384067 ],\n",
       "       [-0.7437153 ,  0.9409194 ],\n",
       "       [-0.9368279 ,  1.0304456 ],\n",
       "       [-0.85036147,  0.9522108 ],\n",
       "       [-0.9552755 ,  1.1096796 ],\n",
       "       [ 0.9651263 , -0.8061824 ],\n",
       "       [-0.924639  ,  1.0371693 ],\n",
       "       [-0.84435284,  1.0263867 ],\n",
       "       [-0.7901723 ,  0.9156445 ],\n",
       "       [-0.628168  ,  0.7305362 ],\n",
       "       [ 1.249323  , -1.0408648 ],\n",
       "       [-0.8476732 ,  0.9392487 ],\n",
       "       [-0.53192586,  0.63586724]], dtype=float32)>"
      ]
     },
     "execution_count": 41,
     "metadata": {},
     "output_type": "execute_result"
    }
   ],
   "execution_count": 41
  },
  {
   "metadata": {},
   "cell_type": "code",
   "outputs": [],
   "execution_count": null,
   "source": "",
   "id": "16a2e06324f63362"
  }
 ],
 "metadata": {
  "kernelspec": {
   "display_name": "myenv",
   "language": "python",
   "name": "myenv"
  },
  "language_info": {
   "codemirror_mode": {
    "name": "ipython",
    "version": 2
   },
   "file_extension": ".py",
   "mimetype": "text/x-python",
   "name": "python",
   "nbconvert_exporter": "python",
   "pygments_lexer": "ipython2",
   "version": "2.7.6"
  }
 },
 "nbformat": 4,
 "nbformat_minor": 5
}
